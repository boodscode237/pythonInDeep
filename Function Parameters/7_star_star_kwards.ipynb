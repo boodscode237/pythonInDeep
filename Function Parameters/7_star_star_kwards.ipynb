{
 "cells": [
  {
   "cell_type": "markdown",
   "source": [
    "# **kwargs"
   ],
   "metadata": {
    "collapsed": false
   }
  },
  {
   "cell_type": "markdown",
   "source": [
    "`*args` -> return a tuple. It is used to assemble amount of remaining positional arguments.</br>\n",
    "`**kwargs` -> is used to scoop up a variable amount of remaining keyword arguments.</br> It return a dictionary.</br>\n",
    "\n",
    "`**kwargs` can be specified even if the positional arguments have not been exhausted and no parameters come after **kwargs."
   ],
   "metadata": {
    "collapsed": false
   }
  },
  {
   "cell_type": "markdown",
   "source": [
    "### EXAMPLE"
   ],
   "metadata": {
    "collapsed": false
   }
  },
  {
   "cell_type": "code",
   "execution_count": 1,
   "outputs": [],
   "source": [
    "def func(*, d, **kwargs):\n",
    "    print(d, kwargs)"
   ],
   "metadata": {
    "collapsed": false,
    "ExecuteTime": {
     "start_time": "2023-04-06T09:32:52.382704Z",
     "end_time": "2023-04-06T09:32:52.402708Z"
    }
   }
  },
  {
   "cell_type": "code",
   "execution_count": 2,
   "outputs": [
    {
     "name": "stdout",
     "output_type": "stream",
     "text": [
      "1 {'a': 2, 'b': 8}\n"
     ]
    }
   ],
   "source": [
    "func(d=1, a=2, b=8)"
   ],
   "metadata": {
    "collapsed": false,
    "ExecuteTime": {
     "start_time": "2023-04-06T09:33:04.761132Z",
     "end_time": "2023-04-06T09:33:04.869168Z"
    }
   }
  },
  {
   "cell_type": "code",
   "execution_count": 3,
   "outputs": [
    {
     "name": "stdout",
     "output_type": "stream",
     "text": [
      "1 {}\n"
     ]
    }
   ],
   "source": [
    "func (d=1)"
   ],
   "metadata": {
    "collapsed": false,
    "ExecuteTime": {
     "start_time": "2023-04-06T09:33:59.637331Z",
     "end_time": "2023-04-06T09:33:59.660374Z"
    }
   }
  },
  {
   "cell_type": "code",
   "execution_count": 4,
   "outputs": [],
   "source": [
    "def func(**kwargs):\n",
    "    print(kwargs)"
   ],
   "metadata": {
    "collapsed": false,
    "ExecuteTime": {
     "start_time": "2023-04-06T09:34:20.430439Z",
     "end_time": "2023-04-06T09:34:20.461746Z"
    }
   }
  },
  {
   "cell_type": "code",
   "execution_count": 5,
   "outputs": [
    {
     "name": "stdout",
     "output_type": "stream",
     "text": [
      "{'d': 8, 'e': 9}\n"
     ]
    }
   ],
   "source": [
    "func(d=8, e=9)"
   ],
   "metadata": {
    "collapsed": false,
    "ExecuteTime": {
     "start_time": "2023-04-06T09:34:34.019630Z",
     "end_time": "2023-04-06T09:34:34.039662Z"
    }
   }
  },
  {
   "cell_type": "code",
   "execution_count": 6,
   "outputs": [],
   "source": [
    "def func(*args, **kwargs):\n",
    "    print(args, kwargs)"
   ],
   "metadata": {
    "collapsed": false,
    "ExecuteTime": {
     "start_time": "2023-04-06T09:35:05.630727Z",
     "end_time": "2023-04-06T09:35:05.643775Z"
    }
   }
  },
  {
   "cell_type": "code",
   "execution_count": 7,
   "outputs": [
    {
     "name": "stdout",
     "output_type": "stream",
     "text": [
      "(1, 2) {'a': 1, 'b': 2}\n"
     ]
    }
   ],
   "source": [
    "func(1, 2, a=1, b=2)"
   ],
   "metadata": {
    "collapsed": false,
    "ExecuteTime": {
     "start_time": "2023-04-06T09:35:21.520609Z",
     "end_time": "2023-04-06T09:35:21.590142Z"
    }
   }
  },
  {
   "cell_type": "code",
   "execution_count": null,
   "outputs": [],
   "source": [],
   "metadata": {
    "collapsed": false
   }
  }
 ],
 "metadata": {
  "kernelspec": {
   "display_name": "Python 3",
   "language": "python",
   "name": "python3"
  },
  "language_info": {
   "codemirror_mode": {
    "name": "ipython",
    "version": 2
   },
   "file_extension": ".py",
   "mimetype": "text/x-python",
   "name": "python",
   "nbconvert_exporter": "python",
   "pygments_lexer": "ipython2",
   "version": "2.7.6"
  }
 },
 "nbformat": 4,
 "nbformat_minor": 0
}
