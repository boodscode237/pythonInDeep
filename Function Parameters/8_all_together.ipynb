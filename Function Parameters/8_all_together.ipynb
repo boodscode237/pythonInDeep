{
 "cells": [
  {
   "cell_type": "markdown",
   "source": [
    "## Function parameters All together"
   ],
   "metadata": {
    "collapsed": false
   }
  },
  {
   "cell_type": "code",
   "execution_count": 2,
   "outputs": [
    {
     "name": "stdout",
     "output_type": "stream",
     "text": [
      "1-@-2-@-3\t\n",
      "\n"
     ]
    }
   ],
   "source": [
    "print(1, 2, 3, sep=\"-@-\", end=\"\\t\\n\\n\")"
   ],
   "metadata": {
    "collapsed": false,
    "ExecuteTime": {
     "start_time": "2023-04-06T10:44:37.387207Z",
     "end_time": "2023-04-06T10:44:37.416244Z"
    }
   }
  },
  {
   "cell_type": "code",
   "execution_count": 4,
   "outputs": [],
   "source": [
    "def func(a, b, *args):\n",
    "    print(a, b, args)"
   ],
   "metadata": {
    "collapsed": false,
    "ExecuteTime": {
     "start_time": "2023-04-06T10:47:24.704450Z",
     "end_time": "2023-04-06T10:47:24.717452Z"
    }
   }
  },
  {
   "cell_type": "code",
   "execution_count": 5,
   "outputs": [
    {
     "name": "stdout",
     "output_type": "stream",
     "text": [
      "1 2 ('l', 'p', 'e')\n"
     ]
    }
   ],
   "source": [
    "func(1, 2, 'l', 'p', 'e')"
   ],
   "metadata": {
    "collapsed": false,
    "ExecuteTime": {
     "start_time": "2023-04-06T10:47:28.562371Z",
     "end_time": "2023-04-06T10:47:28.637460Z"
    }
   }
  },
  {
   "cell_type": "code",
   "execution_count": 6,
   "outputs": [
    {
     "ename": "SyntaxError",
     "evalue": "positional argument follows keyword argument (1108618833.py, line 1)",
     "output_type": "error",
     "traceback": [
      "\u001B[1;36m  Input \u001B[1;32mIn [6]\u001B[1;36m\u001B[0m\n\u001B[1;33m    func(a=1, b=2, 'l', 'p', 'e')\u001B[0m\n\u001B[1;37m                                ^\u001B[0m\n\u001B[1;31mSyntaxError\u001B[0m\u001B[1;31m:\u001B[0m positional argument follows keyword argument\n"
     ]
    }
   ],
   "source": [
    "func(a=1, b=2, 'l', 'p', 'e')"
   ],
   "metadata": {
    "collapsed": false
   }
  },
  {
   "cell_type": "code",
   "execution_count": 13,
   "outputs": [],
   "source": [
    "def func(a, b=5, c=9, *args):\n",
    "    print(a, b, c, args)"
   ],
   "metadata": {
    "collapsed": false,
    "ExecuteTime": {
     "start_time": "2023-04-06T10:49:21.794124Z",
     "end_time": "2023-04-06T10:49:21.809657Z"
    }
   }
  },
  {
   "cell_type": "code",
   "execution_count": 14,
   "outputs": [
    {
     "name": "stdout",
     "output_type": "stream",
     "text": [
      "1 2 3 ('l', 'p')\n"
     ]
    }
   ],
   "source": [
    "func(1, 2, 3, 'l', 'p')"
   ],
   "metadata": {
    "collapsed": false,
    "ExecuteTime": {
     "start_time": "2023-04-06T10:49:22.296444Z",
     "end_time": "2023-04-06T10:49:22.307503Z"
    }
   }
  },
  {
   "cell_type": "code",
   "execution_count": 16,
   "outputs": [
    {
     "name": "stdout",
     "output_type": "stream",
     "text": [
      "5 5 1 ()\n"
     ]
    }
   ],
   "source": [
    "func(5, c=1)"
   ],
   "metadata": {
    "collapsed": false,
    "ExecuteTime": {
     "start_time": "2023-04-06T10:50:26.391377Z",
     "end_time": "2023-04-06T10:50:26.434373Z"
    }
   }
  },
  {
   "cell_type": "code",
   "execution_count": 17,
   "outputs": [
    {
     "ename": "SyntaxError",
     "evalue": "positional argument follows keyword argument (2247430214.py, line 1)",
     "output_type": "error",
     "traceback": [
      "\u001B[1;36m  Input \u001B[1;32mIn [17]\u001B[1;36m\u001B[0m\n\u001B[1;33m    func(1, c=4, 'l', 'p')\u001B[0m\n\u001B[1;37m                         ^\u001B[0m\n\u001B[1;31mSyntaxError\u001B[0m\u001B[1;31m:\u001B[0m positional argument follows keyword argument\n"
     ]
    }
   ],
   "source": [
    "func(1, c=4, 'l', 'p')"
   ],
   "metadata": {
    "collapsed": false
   }
  },
  {
   "cell_type": "code",
   "execution_count": 18,
   "outputs": [],
   "source": [
    "def func(a, b=5, c=9, *args, e=5, f):\n",
    "    print(a, b, c, args, e, f)"
   ],
   "metadata": {
    "collapsed": false,
    "ExecuteTime": {
     "start_time": "2023-04-06T10:57:09.679588Z",
     "end_time": "2023-04-06T10:57:09.691588Z"
    }
   }
  },
  {
   "cell_type": "code",
   "execution_count": 20,
   "outputs": [
    {
     "name": "stdout",
     "output_type": "stream",
     "text": [
      "10 20 d ('p', 'e') 85 856\n"
     ]
    }
   ],
   "source": [
    "func(10, 20, 'd', 'p', 'e', e='85', f=856)"
   ],
   "metadata": {
    "collapsed": false,
    "ExecuteTime": {
     "start_time": "2023-04-06T10:58:03.824804Z",
     "end_time": "2023-04-06T10:58:03.838804Z"
    }
   }
  },
  {
   "cell_type": "code",
   "execution_count": 21,
   "outputs": [
    {
     "ename": "TypeError",
     "evalue": "func() got multiple values for argument 'c'",
     "output_type": "error",
     "traceback": [
      "\u001B[1;31m---------------------------------------------------------------------------\u001B[0m",
      "\u001B[1;31mTypeError\u001B[0m                                 Traceback (most recent call last)",
      "Input \u001B[1;32mIn [21]\u001B[0m, in \u001B[0;36m<cell line: 1>\u001B[1;34m()\u001B[0m\n\u001B[1;32m----> 1\u001B[0m \u001B[43mfunc\u001B[49m\u001B[43m(\u001B[49m\u001B[38;5;241;43m4\u001B[39;49m\u001B[43m,\u001B[49m\u001B[43m \u001B[49m\u001B[38;5;124;43m'\u001B[39;49m\u001B[38;5;124;43md\u001B[39;49m\u001B[38;5;124;43m'\u001B[39;49m\u001B[43m,\u001B[49m\u001B[43m \u001B[49m\u001B[38;5;124;43m'\u001B[39;49m\u001B[38;5;124;43mf0\u001B[39;49m\u001B[38;5;124;43m'\u001B[39;49m\u001B[43m \u001B[49m\u001B[43m,\u001B[49m\u001B[43m \u001B[49m\u001B[38;5;124;43m'\u001B[39;49m\u001B[38;5;124;43mo\u001B[39;49m\u001B[38;5;124;43m'\u001B[39;49m\u001B[43m,\u001B[49m\u001B[43m \u001B[49m\u001B[43mc\u001B[49m\u001B[38;5;241;43m=\u001B[39;49m\u001B[38;5;241;43m8\u001B[39;49m\u001B[43m,\u001B[49m\u001B[43m \u001B[49m\u001B[43mf\u001B[49m\u001B[38;5;241;43m=\u001B[39;49m\u001B[38;5;241;43m42\u001B[39;49m\u001B[43m)\u001B[49m\n",
      "\u001B[1;31mTypeError\u001B[0m: func() got multiple values for argument 'c'"
     ]
    }
   ],
   "source": [
    "func(4, 'd', 'f0' , 'o', c=8, f=42)"
   ],
   "metadata": {
    "collapsed": false
   }
  },
  {
   "cell_type": "code",
   "execution_count": 22,
   "outputs": [],
   "source": [
    "def func(a, b, *args, c=15, d=85, **kwargs):\n",
    "    print(a, b, args, c, d, kwargs)"
   ],
   "metadata": {
    "collapsed": false,
    "ExecuteTime": {
     "start_time": "2023-04-06T11:01:24.653044Z",
     "end_time": "2023-04-06T11:01:24.718977Z"
    }
   }
  },
  {
   "cell_type": "code",
   "execution_count": 23,
   "outputs": [
    {
     "name": "stdout",
     "output_type": "stream",
     "text": [
      "4 5 ('d', 8, '89') 75 63 {'p': 5321, 't': '96m/s'}\n"
     ]
    }
   ],
   "source": [
    "func(4, 5, 'd', 8, '89', c=75, d=63, p=53_21, t='96m/s')"
   ],
   "metadata": {
    "collapsed": false,
    "ExecuteTime": {
     "start_time": "2023-04-06T11:02:24.696515Z",
     "end_time": "2023-04-06T11:02:24.786631Z"
    }
   }
  },
  {
   "cell_type": "code",
   "execution_count": 24,
   "outputs": [
    {
     "name": "stdout",
     "output_type": "stream",
     "text": [
      "1<>2<>3 *** 4_5_6\n"
     ]
    }
   ],
   "source": [
    "print(1,2,3, sep='<>', end=' *** ')\n",
    "print(4, 5, 6, sep='_')"
   ],
   "metadata": {
    "collapsed": false,
    "ExecuteTime": {
     "start_time": "2023-04-06T11:45:03.092929Z",
     "end_time": "2023-04-06T11:45:03.123118Z"
    }
   }
  },
  {
   "cell_type": "code",
   "execution_count": 25,
   "outputs": [],
   "source": [
    "def cal_hi_lo_avg(*args, log_to_console=False):\n",
    "    hi = int(bool(args)) and max(args)\n",
    "    # lo = int(bool(args)) and min(args)\n",
    "    lo = min(args) if len(args) > 0 else 0\n",
    "    # if len(args) == 0:\n",
    "    #     lo = 0\n",
    "    # else:\n",
    "    #     lo = min(args)\n",
    "    avg = (hi + lo) / 2\n",
    "    if log_to_console:\n",
    "        print(f'high={hi}, low={lo}, avg={avg}')\n",
    "    return avg"
   ],
   "metadata": {
    "collapsed": false,
    "ExecuteTime": {
     "start_time": "2023-04-06T11:52:10.499076Z",
     "end_time": "2023-04-06T11:52:10.519900Z"
    }
   }
  },
  {
   "cell_type": "code",
   "execution_count": 26,
   "outputs": [],
   "source": [
    "avg = cal_hi_lo_avg(7, 8, 9, 6, 28)"
   ],
   "metadata": {
    "collapsed": false,
    "ExecuteTime": {
     "start_time": "2023-04-06T11:52:50.075888Z",
     "end_time": "2023-04-06T11:52:50.168378Z"
    }
   }
  },
  {
   "cell_type": "code",
   "execution_count": 27,
   "outputs": [
    {
     "name": "stdout",
     "output_type": "stream",
     "text": [
      "17.0\n"
     ]
    }
   ],
   "source": [
    "print(avg)"
   ],
   "metadata": {
    "collapsed": false,
    "ExecuteTime": {
     "start_time": "2023-04-06T11:52:55.573600Z",
     "end_time": "2023-04-06T11:52:55.596639Z"
    }
   }
  },
  {
   "cell_type": "code",
   "execution_count": 28,
   "outputs": [
    {
     "name": "stdout",
     "output_type": "stream",
     "text": [
      "high=28, low=6, avg=17.0\n"
     ]
    }
   ],
   "source": [
    "avg = cal_hi_lo_avg(7, 8, 9, 6, 28, log_to_console=True)"
   ],
   "metadata": {
    "collapsed": false,
    "ExecuteTime": {
     "start_time": "2023-04-06T11:53:27.346681Z",
     "end_time": "2023-04-06T11:53:27.358677Z"
    }
   }
  }
 ],
 "metadata": {
  "kernelspec": {
   "display_name": "Python 3",
   "language": "python",
   "name": "python3"
  },
  "language_info": {
   "codemirror_mode": {
    "name": "ipython",
    "version": 2
   },
   "file_extension": ".py",
   "mimetype": "text/x-python",
   "name": "python",
   "nbconvert_exporter": "python",
   "pygments_lexer": "ipython2",
   "version": "2.7.6"
  }
 },
 "nbformat": 4,
 "nbformat_minor": 0
}
