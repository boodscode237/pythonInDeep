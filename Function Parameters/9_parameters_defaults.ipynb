{
 "cells": [
  {
   "cell_type": "markdown",
   "source": [
    "When a `module` is loaded: all the code in the module is executed immediately."
   ],
   "metadata": {
    "collapsed": false
   }
  },
  {
   "cell_type": "code",
   "execution_count": 1,
   "outputs": [],
   "source": [
    "from datetime import datetime"
   ],
   "metadata": {
    "collapsed": false,
    "ExecuteTime": {
     "start_time": "2023-04-06T12:37:28.536169Z",
     "end_time": "2023-04-06T12:37:28.558169Z"
    }
   }
  },
  {
   "cell_type": "code",
   "execution_count": 4,
   "outputs": [],
   "source": [
    "def log(msg, *, dt=datetime.utcnow()):\n",
    "    print(f\"{dt}, {msg}\")"
   ],
   "metadata": {
    "collapsed": false,
    "ExecuteTime": {
     "start_time": "2023-04-06T12:39:11.338339Z",
     "end_time": "2023-04-06T12:39:11.362351Z"
    }
   }
  },
  {
   "cell_type": "code",
   "execution_count": 5,
   "outputs": [
    {
     "name": "stdout",
     "output_type": "stream",
     "text": [
      "2023-04-06 07:39:11.336335, message now: \n"
     ]
    }
   ],
   "source": [
    "log('message now: ')"
   ],
   "metadata": {
    "collapsed": false,
    "ExecuteTime": {
     "start_time": "2023-04-06T12:39:13.201937Z",
     "end_time": "2023-04-06T12:39:13.271237Z"
    }
   }
  },
  {
   "cell_type": "code",
   "execution_count": 6,
   "outputs": [
    {
     "name": "stdout",
     "output_type": "stream",
     "text": [
      "2023-04-06 07:39:11.336335, message after\n"
     ]
    }
   ],
   "source": [
    "log('message after')"
   ],
   "metadata": {
    "collapsed": false,
    "ExecuteTime": {
     "start_time": "2023-04-06T12:39:50.414956Z",
     "end_time": "2023-04-06T12:39:50.449954Z"
    }
   }
  },
  {
   "cell_type": "markdown",
   "source": [
    "The date printed for both are the same because the value is stored as an object at runtime.\n",
    "A solution for that is set a default `dt = None` inside the function.\n",
    "If `dt` is `None`, we set it to the current `datetime` otherwise, we use what the caller specified for `dt`."
   ],
   "metadata": {
    "collapsed": false
   }
  },
  {
   "cell_type": "code",
   "execution_count": 8,
   "outputs": [],
   "source": [
    "from datetime import datetime\n",
    "\n",
    "def log(msg, *, dt=None):\n",
    "    dt = dt or datetime.utcnow() # ==> if not dt: dt = datetime.utcnow()\n",
    "    print(f\"{dt}, {msg}\")"
   ],
   "metadata": {
    "collapsed": false,
    "ExecuteTime": {
     "start_time": "2023-04-06T12:50:29.192436Z",
     "end_time": "2023-04-06T12:50:29.221528Z"
    }
   }
  },
  {
   "cell_type": "code",
   "execution_count": 9,
   "outputs": [
    {
     "name": "stdout",
     "output_type": "stream",
     "text": [
      "2023-04-06 07:51:00.453854, message now: \n"
     ]
    }
   ],
   "source": [
    "log('message now: ')"
   ],
   "metadata": {
    "collapsed": false,
    "ExecuteTime": {
     "start_time": "2023-04-06T12:51:00.455365Z",
     "end_time": "2023-04-06T12:51:00.589616Z"
    }
   }
  },
  {
   "cell_type": "code",
   "execution_count": 10,
   "outputs": [
    {
     "name": "stdout",
     "output_type": "stream",
     "text": [
      "2023-04-06 07:51:08.913400, message after: \n"
     ]
    }
   ],
   "source": [
    "log('message after: ')"
   ],
   "metadata": {
    "collapsed": false,
    "ExecuteTime": {
     "start_time": "2023-04-06T12:51:08.914402Z",
     "end_time": "2023-04-06T12:51:08.932436Z"
    }
   }
  },
  {
   "cell_type": "code",
   "execution_count": 14,
   "outputs": [],
   "source": [
    "def add_item(name, quantity, unit, grocery_list):\n",
    "    grocery_list.append(f'{name},( {quantity}, {unit})')\n",
    "    return grocery_list"
   ],
   "metadata": {
    "collapsed": false,
    "ExecuteTime": {
     "start_time": "2023-04-06T12:58:28.137974Z",
     "end_time": "2023-04-06T12:58:28.160501Z"
    }
   }
  },
  {
   "cell_type": "code",
   "execution_count": 15,
   "outputs": [],
   "source": [
    "store1 = []\n",
    "store2 = []"
   ],
   "metadata": {
    "collapsed": false,
    "ExecuteTime": {
     "start_time": "2023-04-06T12:58:28.803535Z",
     "end_time": "2023-04-06T12:58:28.816046Z"
    }
   }
  },
  {
   "cell_type": "code",
   "execution_count": 16,
   "outputs": [
    {
     "data": {
      "text/plain": "['banana,( 2, units)', 'milk,( 1, liter)']"
     },
     "execution_count": 16,
     "metadata": {},
     "output_type": "execute_result"
    }
   ],
   "source": [
    "add_item('banana', 2, 'units', store1)\n",
    "add_item('milk', 1, 'liter', store1)"
   ],
   "metadata": {
    "collapsed": false,
    "ExecuteTime": {
     "start_time": "2023-04-06T12:58:29.453925Z",
     "end_time": "2023-04-06T12:58:29.482920Z"
    }
   }
  },
  {
   "cell_type": "code",
   "execution_count": 18,
   "outputs": [
    {
     "data": {
      "text/plain": "['book,( 2, soviet literature)']"
     },
     "execution_count": 18,
     "metadata": {},
     "output_type": "execute_result"
    }
   ],
   "source": [
    "add_item('book', 2, 'soviet literature', store2)"
   ],
   "metadata": {
    "collapsed": false,
    "ExecuteTime": {
     "start_time": "2023-04-06T13:02:37.352720Z",
     "end_time": "2023-04-06T13:02:37.389715Z"
    }
   }
  },
  {
   "cell_type": "code",
   "execution_count": 19,
   "outputs": [
    {
     "name": "stdout",
     "output_type": "stream",
     "text": [
      "['book,( 2, soviet literature)']\n"
     ]
    }
   ],
   "source": [
    "print(store2)"
   ],
   "metadata": {
    "collapsed": false,
    "ExecuteTime": {
     "start_time": "2023-04-06T13:03:00.200232Z",
     "end_time": "2023-04-06T13:03:00.244224Z"
    }
   }
  },
  {
   "cell_type": "code",
   "execution_count": 20,
   "outputs": [],
   "source": [
    "def add_item(name, quantity, unit, grocery_list=[]):\n",
    "    grocery_list.append(f'{name},( {quantity}, {unit})')\n",
    "    return grocery_list"
   ],
   "metadata": {
    "collapsed": false,
    "ExecuteTime": {
     "start_time": "2023-04-06T13:04:36.225454Z",
     "end_time": "2023-04-06T13:04:36.243454Z"
    }
   }
  },
  {
   "cell_type": "code",
   "execution_count": 21,
   "outputs": [],
   "source": [
    "del store1\n",
    "del store2"
   ],
   "metadata": {
    "collapsed": false,
    "ExecuteTime": {
     "start_time": "2023-04-06T13:05:00.007511Z",
     "end_time": "2023-04-06T13:05:00.042511Z"
    }
   }
  },
  {
   "cell_type": "code",
   "execution_count": 22,
   "outputs": [
    {
     "data": {
      "text/plain": "['banana,( 2, units)', 'milk,( 1, liter)']"
     },
     "execution_count": 22,
     "metadata": {},
     "output_type": "execute_result"
    }
   ],
   "source": [
    "store1 = add_item('banana', 2, 'units')\n",
    "add_item('milk', 1, 'liter', store1)"
   ],
   "metadata": {
    "collapsed": false,
    "ExecuteTime": {
     "start_time": "2023-04-06T13:05:58.807227Z",
     "end_time": "2023-04-06T13:05:58.842796Z"
    }
   }
  },
  {
   "cell_type": "code",
   "execution_count": 23,
   "outputs": [],
   "source": [
    "store2 = add_item('book', 2, 'soviet literature')"
   ],
   "metadata": {
    "collapsed": false,
    "ExecuteTime": {
     "start_time": "2023-04-06T13:07:10.994732Z",
     "end_time": "2023-04-06T13:07:11.032788Z"
    }
   }
  },
  {
   "cell_type": "code",
   "execution_count": 24,
   "outputs": [
    {
     "data": {
      "text/plain": "['banana,( 2, units)', 'milk,( 1, liter)', 'book,( 2, soviet literature)']"
     },
     "execution_count": 24,
     "metadata": {},
     "output_type": "execute_result"
    }
   ],
   "source": [
    "store2"
   ],
   "metadata": {
    "collapsed": false,
    "ExecuteTime": {
     "start_time": "2023-04-06T13:07:15.429489Z",
     "end_time": "2023-04-06T13:07:15.526028Z"
    }
   }
  },
  {
   "cell_type": "code",
   "execution_count": 25,
   "outputs": [
    {
     "data": {
      "text/plain": "['banana,( 2, units)', 'milk,( 1, liter)', 'book,( 2, soviet literature)']"
     },
     "execution_count": 25,
     "metadata": {},
     "output_type": "execute_result"
    }
   ],
   "source": [
    "store1"
   ],
   "metadata": {
    "collapsed": false,
    "ExecuteTime": {
     "start_time": "2023-04-06T13:07:22.483093Z",
     "end_time": "2023-04-06T13:07:22.513627Z"
    }
   }
  },
  {
   "cell_type": "code",
   "execution_count": 26,
   "outputs": [
    {
     "data": {
      "text/plain": "True"
     },
     "execution_count": 26,
     "metadata": {},
     "output_type": "execute_result"
    }
   ],
   "source": [
    "store1 is store2"
   ],
   "metadata": {
    "collapsed": false,
    "ExecuteTime": {
     "start_time": "2023-04-06T13:07:37.098464Z",
     "end_time": "2023-04-06T13:07:37.185996Z"
    }
   }
  },
  {
   "cell_type": "code",
   "execution_count": 29,
   "outputs": [],
   "source": [
    "def add_item(name, quantity, unit, grocery_list=None):\n",
    "    if not grocery_list:\n",
    "        grocery_list = []\n",
    "    grocery_list.append(f'{name},( {quantity}, {unit})')\n",
    "    return grocery_list"
   ],
   "metadata": {
    "collapsed": false,
    "ExecuteTime": {
     "start_time": "2023-04-06T13:14:58.878682Z",
     "end_time": "2023-04-06T13:14:58.899685Z"
    }
   }
  },
  {
   "cell_type": "code",
   "execution_count": 30,
   "outputs": [
    {
     "data": {
      "text/plain": "['banana,( 2, units)', 'milk,( 1, liter)']"
     },
     "execution_count": 30,
     "metadata": {},
     "output_type": "execute_result"
    }
   ],
   "source": [
    "store1 = add_item('banana', 2, 'units')\n",
    "add_item('milk', 1, 'liter', store1)"
   ],
   "metadata": {
    "collapsed": false,
    "ExecuteTime": {
     "start_time": "2023-04-06T13:14:59.641970Z",
     "end_time": "2023-04-06T13:14:59.678656Z"
    }
   }
  },
  {
   "cell_type": "code",
   "execution_count": 31,
   "outputs": [],
   "source": [
    "store2 = add_item('book', 2, 'soviet literature')"
   ],
   "metadata": {
    "collapsed": false,
    "ExecuteTime": {
     "start_time": "2023-04-06T13:15:15.032186Z",
     "end_time": "2023-04-06T13:15:15.066186Z"
    }
   }
  },
  {
   "cell_type": "code",
   "execution_count": 32,
   "outputs": [
    {
     "data": {
      "text/plain": "['book,( 2, soviet literature)']"
     },
     "execution_count": 32,
     "metadata": {},
     "output_type": "execute_result"
    }
   ],
   "source": [
    "store2"
   ],
   "metadata": {
    "collapsed": false,
    "ExecuteTime": {
     "start_time": "2023-04-06T13:15:18.702605Z",
     "end_time": "2023-04-06T13:15:18.777603Z"
    }
   }
  },
  {
   "cell_type": "code",
   "execution_count": 33,
   "outputs": [],
   "source": [
    "def factorial(n):\n",
    "    if n < 1:\n",
    "        return 1\n",
    "    else:\n",
    "        print(f'Calculating {n}!')\n",
    "        return n * factorial(n-1)"
   ],
   "metadata": {
    "collapsed": false,
    "ExecuteTime": {
     "start_time": "2023-04-06T13:19:11.773563Z",
     "end_time": "2023-04-06T13:19:11.819726Z"
    }
   }
  },
  {
   "cell_type": "code",
   "execution_count": 34,
   "outputs": [
    {
     "name": "stdout",
     "output_type": "stream",
     "text": [
      "Calculating 8!\n",
      "Calculating 7!\n",
      "Calculating 6!\n",
      "Calculating 5!\n",
      "Calculating 4!\n",
      "Calculating 3!\n",
      "Calculating 2!\n",
      "Calculating 1!\n"
     ]
    },
    {
     "data": {
      "text/plain": "40320"
     },
     "execution_count": 34,
     "metadata": {},
     "output_type": "execute_result"
    }
   ],
   "source": [
    "factorial(8)"
   ],
   "metadata": {
    "collapsed": false,
    "ExecuteTime": {
     "start_time": "2023-04-06T13:19:16.093271Z",
     "end_time": "2023-04-06T13:19:16.232143Z"
    }
   }
  },
  {
   "cell_type": "code",
   "execution_count": 35,
   "outputs": [
    {
     "name": "stdout",
     "output_type": "stream",
     "text": [
      "Calculating 3!\n",
      "Calculating 2!\n",
      "Calculating 1!\n"
     ]
    },
    {
     "data": {
      "text/plain": "6"
     },
     "execution_count": 35,
     "metadata": {},
     "output_type": "execute_result"
    }
   ],
   "source": [
    "factorial(3)"
   ],
   "metadata": {
    "collapsed": false,
    "ExecuteTime": {
     "start_time": "2023-04-06T13:19:45.272389Z",
     "end_time": "2023-04-06T13:19:45.355391Z"
    }
   }
  },
  {
   "cell_type": "code",
   "execution_count": 36,
   "outputs": [],
   "source": [
    "def factorial(n, *, cache):\n",
    "    if n < 1:\n",
    "        return 1\n",
    "    elif n in cache:\n",
    "        return cache[n]\n",
    "    else:\n",
    "        print(f'Calculating {n}!')\n",
    "        result = n * factorial(n-1, cache=cache)\n",
    "        cache[n] = result\n",
    "        return result"
   ],
   "metadata": {
    "collapsed": false,
    "ExecuteTime": {
     "start_time": "2023-04-06T13:22:18.085353Z",
     "end_time": "2023-04-06T13:22:18.128502Z"
    }
   }
  },
  {
   "cell_type": "code",
   "execution_count": 37,
   "outputs": [],
   "source": [
    "cache = {}"
   ],
   "metadata": {
    "collapsed": false,
    "ExecuteTime": {
     "start_time": "2023-04-06T13:22:24.932203Z",
     "end_time": "2023-04-06T13:22:24.975454Z"
    }
   }
  },
  {
   "cell_type": "code",
   "execution_count": 38,
   "outputs": [
    {
     "name": "stdout",
     "output_type": "stream",
     "text": [
      "Calculating 3!\n",
      "Calculating 2!\n",
      "Calculating 1!\n"
     ]
    },
    {
     "data": {
      "text/plain": "6"
     },
     "execution_count": 38,
     "metadata": {},
     "output_type": "execute_result"
    }
   ],
   "source": [
    "factorial(3, cache=cache)"
   ],
   "metadata": {
    "collapsed": false,
    "ExecuteTime": {
     "start_time": "2023-04-06T13:22:33.486521Z",
     "end_time": "2023-04-06T13:22:33.623800Z"
    }
   }
  },
  {
   "cell_type": "code",
   "execution_count": 39,
   "outputs": [
    {
     "data": {
      "text/plain": "{1: 1, 2: 2, 3: 6}"
     },
     "execution_count": 39,
     "metadata": {},
     "output_type": "execute_result"
    }
   ],
   "source": [
    "cache"
   ],
   "metadata": {
    "collapsed": false,
    "ExecuteTime": {
     "start_time": "2023-04-06T13:22:39.115961Z",
     "end_time": "2023-04-06T13:22:39.186485Z"
    }
   }
  },
  {
   "cell_type": "code",
   "execution_count": 41,
   "outputs": [
    {
     "name": "stdout",
     "output_type": "stream",
     "text": [
      "Calculating 8!\n",
      "Calculating 7!\n",
      "Calculating 6!\n",
      "Calculating 5!\n",
      "Calculating 4!\n"
     ]
    },
    {
     "data": {
      "text/plain": "40320"
     },
     "execution_count": 41,
     "metadata": {},
     "output_type": "execute_result"
    }
   ],
   "source": [
    "factorial(8, cache=cache)"
   ],
   "metadata": {
    "collapsed": false,
    "ExecuteTime": {
     "start_time": "2023-04-06T13:23:03.662368Z",
     "end_time": "2023-04-06T13:23:03.693666Z"
    }
   }
  },
  {
   "cell_type": "code",
   "execution_count": 44,
   "outputs": [],
   "source": [
    "factorial(16, cache=cache)\n",
    "del cache"
   ],
   "metadata": {
    "collapsed": false,
    "ExecuteTime": {
     "start_time": "2023-04-06T13:46:02.166316Z",
     "end_time": "2023-04-06T13:46:02.246830Z"
    }
   }
  },
  {
   "cell_type": "code",
   "execution_count": 46,
   "outputs": [],
   "source": [
    "def factorial(n, cache={}):\n",
    "    if n < 1:\n",
    "        return 1\n",
    "    elif n in cache:\n",
    "        return cache[n]\n",
    "    else:\n",
    "        print(f'Calculating {n}!')\n",
    "        result = n * factorial(n-1)\n",
    "        cache[n] = result\n",
    "        return result"
   ],
   "metadata": {
    "collapsed": false,
    "ExecuteTime": {
     "start_time": "2023-04-06T13:46:31.903726Z",
     "end_time": "2023-04-06T13:46:31.925723Z"
    }
   }
  },
  {
   "cell_type": "code",
   "execution_count": 47,
   "outputs": [
    {
     "name": "stdout",
     "output_type": "stream",
     "text": [
      "Calculating 5!\n",
      "Calculating 4!\n",
      "Calculating 3!\n",
      "Calculating 2!\n",
      "Calculating 1!\n"
     ]
    },
    {
     "data": {
      "text/plain": "120"
     },
     "execution_count": 47,
     "metadata": {},
     "output_type": "execute_result"
    }
   ],
   "source": [
    "factorial(5)"
   ],
   "metadata": {
    "collapsed": false,
    "ExecuteTime": {
     "start_time": "2023-04-06T13:46:37.542221Z",
     "end_time": "2023-04-06T13:46:37.601343Z"
    }
   }
  },
  {
   "cell_type": "code",
   "execution_count": 48,
   "outputs": [
    {
     "name": "stdout",
     "output_type": "stream",
     "text": [
      "Calculating 7!\n",
      "Calculating 6!\n"
     ]
    },
    {
     "data": {
      "text/plain": "5040"
     },
     "execution_count": 48,
     "metadata": {},
     "output_type": "execute_result"
    }
   ],
   "source": [
    "factorial(7)"
   ],
   "metadata": {
    "collapsed": false,
    "ExecuteTime": {
     "start_time": "2023-04-06T13:46:41.661872Z",
     "end_time": "2023-04-06T13:46:41.703876Z"
    }
   }
  },
  {
   "cell_type": "code",
   "execution_count": 49,
   "outputs": [
    {
     "name": "stdout",
     "output_type": "stream",
     "text": [
      "Calculating 9!\n",
      "Calculating 8!\n"
     ]
    },
    {
     "data": {
      "text/plain": "362880"
     },
     "execution_count": 49,
     "metadata": {},
     "output_type": "execute_result"
    }
   ],
   "source": [
    "factorial(9)"
   ],
   "metadata": {
    "collapsed": false,
    "ExecuteTime": {
     "start_time": "2023-04-06T13:46:49.203707Z",
     "end_time": "2023-04-06T13:46:49.250968Z"
    }
   }
  },
  {
   "cell_type": "code",
   "execution_count": null,
   "outputs": [],
   "source": [],
   "metadata": {
    "collapsed": false
   }
  }
 ],
 "metadata": {
  "kernelspec": {
   "display_name": "Python 3",
   "language": "python",
   "name": "python3"
  },
  "language_info": {
   "codemirror_mode": {
    "name": "ipython",
    "version": 2
   },
   "file_extension": ".py",
   "mimetype": "text/x-python",
   "name": "python",
   "nbconvert_exporter": "python",
   "pygments_lexer": "ipython2",
   "version": "2.7.6"
  }
 },
 "nbformat": 4,
 "nbformat_minor": 0
}
