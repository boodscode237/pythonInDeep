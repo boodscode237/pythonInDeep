{
 "cells": [
  {
   "cell_type": "markdown",
   "id": "f9252a9d",
   "metadata": {},
   "source": [
    "# SCOPES"
   ]
  },
  {
   "cell_type": "markdown",
   "source": [],
   "metadata": {
    "collapsed": false
   },
   "id": "b3e286ff96c16610"
  },
  {
   "cell_type": "code",
   "execution_count": 1,
   "id": "3c6c71ab",
   "metadata": {
    "ExecuteTime": {
     "end_time": "2023-09-24T15:19:55.317304200Z",
     "start_time": "2023-09-24T15:19:55.306137400Z"
    }
   },
   "outputs": [],
   "source": [
    "a = 10"
   ]
  },
  {
   "cell_type": "code",
   "execution_count": 2,
   "id": "95dee6cd",
   "metadata": {
    "ExecuteTime": {
     "end_time": "2023-09-24T15:20:32.354124600Z",
     "start_time": "2023-09-24T15:20:32.314007400Z"
    }
   },
   "outputs": [],
   "source": [
    "def my_func(n):\n",
    "    c = n ** 2\n",
    "    return c"
   ]
  },
  {
   "cell_type": "code",
   "execution_count": 3,
   "id": "629e4dca",
   "metadata": {
    "ExecuteTime": {
     "end_time": "2023-09-24T15:21:35.797781400Z",
     "start_time": "2023-09-24T15:21:35.767950100Z"
    }
   },
   "outputs": [],
   "source": [
    "def my_func(n):\n",
    "    print(f'global a: {a}')\n",
    "    c = a ** n\n",
    "    return c"
   ]
  },
  {
   "cell_type": "code",
   "execution_count": 4,
   "id": "acc50b57",
   "metadata": {
    "ExecuteTime": {
     "end_time": "2023-09-24T15:21:39.806715100Z",
     "start_time": "2023-09-24T15:21:39.727042300Z"
    }
   },
   "outputs": [
    {
     "name": "stdout",
     "output_type": "stream",
     "text": [
      "global a: 10\n"
     ]
    },
    {
     "data": {
      "text/plain": "100"
     },
     "execution_count": 4,
     "metadata": {},
     "output_type": "execute_result"
    }
   ],
   "source": [
    "my_func(2)"
   ]
  },
  {
   "cell_type": "code",
   "execution_count": 5,
   "id": "00b359df",
   "metadata": {
    "ExecuteTime": {
     "end_time": "2023-09-24T15:22:21.188645500Z",
     "start_time": "2023-09-24T15:22:21.153956Z"
    }
   },
   "outputs": [],
   "source": [
    "def my_func(n):\n",
    "    a = 20\n",
    "    c = a ** n\n",
    "    return c"
   ]
  },
  {
   "cell_type": "code",
   "execution_count": 6,
   "id": "6f58314a",
   "metadata": {
    "ExecuteTime": {
     "end_time": "2023-09-24T15:22:25.022468500Z",
     "start_time": "2023-09-24T15:22:24.988904800Z"
    }
   },
   "outputs": [
    {
     "data": {
      "text/plain": "8000"
     },
     "execution_count": 6,
     "metadata": {},
     "output_type": "execute_result"
    }
   ],
   "source": [
    "my_func(3)"
   ]
  },
  {
   "cell_type": "code",
   "execution_count": 7,
   "id": "fa3b51ea",
   "metadata": {
    "ExecuteTime": {
     "end_time": "2023-09-24T15:22:30.308372700Z",
     "start_time": "2023-09-24T15:22:30.228641300Z"
    }
   },
   "outputs": [
    {
     "data": {
      "text/plain": "10"
     },
     "execution_count": 7,
     "metadata": {},
     "output_type": "execute_result"
    }
   ],
   "source": [
    "a"
   ]
  },
  {
   "cell_type": "code",
   "execution_count": 8,
   "id": "ad1e8dc5",
   "metadata": {
    "ExecuteTime": {
     "end_time": "2023-09-24T15:24:08.690887800Z",
     "start_time": "2023-09-24T15:24:08.661889600Z"
    }
   },
   "outputs": [],
   "source": [
    "def my_func(n):\n",
    "    global a\n",
    "    a = 20\n",
    "    c = a ** n\n",
    "    return c"
   ]
  },
  {
   "cell_type": "code",
   "execution_count": 9,
   "id": "ed7a7fd6",
   "metadata": {
    "ExecuteTime": {
     "end_time": "2023-09-24T15:24:20.643515400Z",
     "start_time": "2023-09-24T15:24:20.612748Z"
    }
   },
   "outputs": [
    {
     "name": "stdout",
     "output_type": "stream",
     "text": [
      "10\n"
     ]
    }
   ],
   "source": [
    "print(a)"
   ]
  },
  {
   "cell_type": "code",
   "execution_count": 10,
   "id": "37f3cf9c",
   "metadata": {
    "ExecuteTime": {
     "end_time": "2023-09-24T15:24:26.076636500Z",
     "start_time": "2023-09-24T15:24:26.014083800Z"
    }
   },
   "outputs": [
    {
     "data": {
      "text/plain": "400"
     },
     "execution_count": 10,
     "metadata": {},
     "output_type": "execute_result"
    }
   ],
   "source": [
    "my_func(2)"
   ]
  },
  {
   "cell_type": "code",
   "execution_count": 11,
   "id": "e26bf8de",
   "metadata": {
    "ExecuteTime": {
     "end_time": "2023-09-24T15:24:35.715501300Z",
     "start_time": "2023-09-24T15:24:35.679416300Z"
    }
   },
   "outputs": [
    {
     "data": {
      "text/plain": "20"
     },
     "execution_count": 11,
     "metadata": {},
     "output_type": "execute_result"
    }
   ],
   "source": [
    "a"
   ]
  },
  {
   "cell_type": "code",
   "execution_count": 13,
   "id": "4989308a",
   "metadata": {
    "ExecuteTime": {
     "end_time": "2023-09-24T15:27:44.372580600Z",
     "start_time": "2023-09-24T15:27:44.346292600Z"
    }
   },
   "outputs": [],
   "source": [
    "def my_func():\n",
    "    global a\n",
    "    a = \"hello\"\n",
    "    print(f'global: {a}')\n",
    "    "
   ]
  },
  {
   "cell_type": "code",
   "execution_count": 14,
   "id": "531b096d",
   "metadata": {
    "ExecuteTime": {
     "end_time": "2023-09-24T15:27:46.764353200Z",
     "start_time": "2023-09-24T15:27:46.732840500Z"
    }
   },
   "outputs": [
    {
     "name": "stdout",
     "output_type": "stream",
     "text": [
      "global: hello\n"
     ]
    }
   ],
   "source": [
    "my_func()"
   ]
  },
  {
   "cell_type": "code",
   "execution_count": 15,
   "id": "760f1e40",
   "metadata": {
    "ExecuteTime": {
     "end_time": "2023-09-24T15:27:56.775892600Z",
     "start_time": "2023-09-24T15:27:56.750889200Z"
    }
   },
   "outputs": [],
   "source": [
    "a = 10"
   ]
  },
  {
   "cell_type": "code",
   "execution_count": 16,
   "id": "34536ddb",
   "metadata": {
    "ExecuteTime": {
     "end_time": "2023-09-24T15:28:06.380970800Z",
     "start_time": "2023-09-24T15:28:06.358946700Z"
    }
   },
   "outputs": [
    {
     "name": "stdout",
     "output_type": "stream",
     "text": [
      "global: hello\n"
     ]
    }
   ],
   "source": [
    "my_func()"
   ]
  },
  {
   "cell_type": "code",
   "execution_count": 18,
   "id": "8b18df2c",
   "metadata": {
    "ExecuteTime": {
     "end_time": "2023-09-24T15:29:16.580087400Z",
     "start_time": "2023-09-24T15:29:16.553487200Z"
    }
   },
   "outputs": [],
   "source": [
    "def my_func():\n",
    "    print(f'global a: {a}')\n",
    "    a = 'hello world'\n",
    "    print(a)"
   ]
  },
  {
   "cell_type": "code",
   "execution_count": 20,
   "id": "ba99900e",
   "metadata": {
    "ExecuteTime": {
     "end_time": "2023-09-24T15:29:27.138894800Z",
     "start_time": "2023-09-24T15:29:27.094876400Z"
    }
   },
   "outputs": [
    {
     "ename": "UnboundLocalError",
     "evalue": "local variable 'a' referenced before assignment",
     "output_type": "error",
     "traceback": [
      "\u001B[1;31m---------------------------------------------------------------------------\u001B[0m",
      "\u001B[1;31mUnboundLocalError\u001B[0m                         Traceback (most recent call last)",
      "Input \u001B[1;32mIn [20]\u001B[0m, in \u001B[0;36m<cell line: 1>\u001B[1;34m()\u001B[0m\n\u001B[1;32m----> 1\u001B[0m \u001B[43mmy_func\u001B[49m\u001B[43m(\u001B[49m\u001B[43m)\u001B[49m\n",
      "Input \u001B[1;32mIn [18]\u001B[0m, in \u001B[0;36mmy_func\u001B[1;34m()\u001B[0m\n\u001B[0;32m      1\u001B[0m \u001B[38;5;28;01mdef\u001B[39;00m \u001B[38;5;21mmy_func\u001B[39m():\n\u001B[1;32m----> 2\u001B[0m     \u001B[38;5;28mprint\u001B[39m(\u001B[38;5;124mf\u001B[39m\u001B[38;5;124m'\u001B[39m\u001B[38;5;124mglobal a: \u001B[39m\u001B[38;5;132;01m{\u001B[39;00ma\u001B[38;5;132;01m}\u001B[39;00m\u001B[38;5;124m'\u001B[39m)\n\u001B[0;32m      3\u001B[0m     a \u001B[38;5;241m=\u001B[39m \u001B[38;5;124m'\u001B[39m\u001B[38;5;124mhello world\u001B[39m\u001B[38;5;124m'\u001B[39m\n\u001B[0;32m      4\u001B[0m     \u001B[38;5;28mprint\u001B[39m(a)\n",
      "\u001B[1;31mUnboundLocalError\u001B[0m: local variable 'a' referenced before assignment"
     ]
    }
   ],
   "source": [
    "my_func()"
   ]
  },
  {
   "cell_type": "code",
   "execution_count": 25,
   "id": "7a6ee965",
   "metadata": {
    "ExecuteTime": {
     "end_time": "2023-09-24T15:36:20.514420900Z",
     "start_time": "2023-09-24T15:36:20.475425200Z"
    }
   },
   "outputs": [],
   "source": [
    "a=2\n",
    "f = lambda n: print(a**n)"
   ]
  },
  {
   "cell_type": "code",
   "execution_count": 26,
   "id": "448bacae",
   "metadata": {
    "ExecuteTime": {
     "end_time": "2023-09-24T15:36:21.653425Z",
     "start_time": "2023-09-24T15:36:21.637276700Z"
    }
   },
   "outputs": [
    {
     "name": "stdout",
     "output_type": "stream",
     "text": [
      "32\n"
     ]
    }
   ],
   "source": [
    "f(5)"
   ]
  },
  {
   "cell_type": "code",
   "execution_count": 27,
   "id": "ce22e15d",
   "metadata": {
    "ExecuteTime": {
     "end_time": "2023-09-24T15:36:54.307490700Z",
     "start_time": "2023-09-24T15:36:54.273963100Z"
    }
   },
   "outputs": [
    {
     "name": "stdout",
     "output_type": "stream",
     "text": [
      "True\n"
     ]
    }
   ],
   "source": [
    "print(True)"
   ]
  },
  {
   "cell_type": "markdown",
   "source": [
    "## Nonlocal Scopes"
   ],
   "metadata": {
    "collapsed": false
   },
   "id": "ac74b4ea9465094e"
  },
  {
   "cell_type": "code",
   "execution_count": 31,
   "id": "08ec0303",
   "metadata": {
    "ExecuteTime": {
     "end_time": "2023-09-25T18:04:57.531625Z",
     "start_time": "2023-09-25T18:04:57.518812800Z"
    }
   },
   "outputs": [],
   "source": [
    "def outer_func():\n",
    "    x = 'Hello'\n",
    "    def inner_func():\n",
    "        print(x)\n",
    "        \n",
    "    inner_func()"
   ]
  },
  {
   "cell_type": "code",
   "execution_count": 32,
   "id": "4c44ca35",
   "metadata": {
    "ExecuteTime": {
     "end_time": "2023-09-25T18:04:58.919100300Z",
     "start_time": "2023-09-25T18:04:58.893015400Z"
    }
   },
   "outputs": [
    {
     "name": "stdout",
     "output_type": "stream",
     "text": [
      "Hello\n"
     ]
    }
   ],
   "source": [
    "outer_func()"
   ]
  },
  {
   "cell_type": "code",
   "execution_count": 33,
   "id": "cad8b517",
   "metadata": {
    "ExecuteTime": {
     "end_time": "2023-09-25T18:07:11.052052800Z",
     "start_time": "2023-09-25T18:07:11.041996700Z"
    }
   },
   "outputs": [],
   "source": [
    "def outer_func():\n",
    "    x = 'Hello'\n",
    "    def inner1():\n",
    "        def inner2():\n",
    "            print(x)\n",
    "        inner2()\n",
    "    inner1()"
   ]
  },
  {
   "cell_type": "code",
   "execution_count": 34,
   "id": "d0990d0f",
   "metadata": {
    "ExecuteTime": {
     "end_time": "2023-09-25T18:07:17.765028200Z",
     "start_time": "2023-09-25T18:07:17.671178200Z"
    }
   },
   "outputs": [
    {
     "name": "stdout",
     "output_type": "stream",
     "text": [
      "Hello\n"
     ]
    }
   ],
   "source": [
    "outer_func()"
   ]
  },
  {
   "cell_type": "code",
   "execution_count": 35,
   "id": "be1f7487",
   "metadata": {
    "ExecuteTime": {
     "end_time": "2023-09-25T18:09:20.656239100Z",
     "start_time": "2023-09-25T18:09:20.646722900Z"
    }
   },
   "outputs": [],
   "source": [
    "def outer_func():\n",
    "    x = 'Hello'\n",
    "    def inner1():\n",
    "        x = 'python'\n",
    "        print(f\"inner1: {x}\")\n",
    "        def inner2():\n",
    "            print(x)\n",
    "        inner2()\n",
    "    inner1()\n",
    "    print(f'outer: {x}')"
   ]
  },
  {
   "cell_type": "code",
   "execution_count": 36,
   "id": "8012e397",
   "metadata": {
    "ExecuteTime": {
     "end_time": "2023-09-25T18:09:24.756023800Z",
     "start_time": "2023-09-25T18:09:24.725518900Z"
    }
   },
   "outputs": [
    {
     "name": "stdout",
     "output_type": "stream",
     "text": [
      "inner1: python\n",
      "python\n",
      "outer: Hello\n"
     ]
    }
   ],
   "source": [
    "outer_func()"
   ]
  },
  {
   "cell_type": "code",
   "execution_count": 37,
   "id": "21145c3c",
   "metadata": {
    "ExecuteTime": {
     "end_time": "2023-09-25T18:11:32.088945Z",
     "start_time": "2023-09-25T18:11:32.049710700Z"
    }
   },
   "outputs": [],
   "source": [
    "def outer_func():\n",
    "    x = 'Hello'\n",
    "    def inner1():\n",
    "        nonlocal x\n",
    "        x = 'python'\n",
    "        print(f\"inner1: {x}\")\n",
    "        def inner2():\n",
    "            print(x)\n",
    "        inner2()\n",
    "    inner1()\n",
    "    print(f'outer: {x}')"
   ]
  },
  {
   "cell_type": "code",
   "execution_count": 38,
   "id": "3e2f1942",
   "metadata": {
    "ExecuteTime": {
     "end_time": "2023-09-25T18:11:35.130793600Z",
     "start_time": "2023-09-25T18:11:35.067209200Z"
    }
   },
   "outputs": [
    {
     "name": "stdout",
     "output_type": "stream",
     "text": [
      "inner1: python\n",
      "python\n",
      "outer: python\n"
     ]
    }
   ],
   "source": [
    "outer_func()"
   ]
  },
  {
   "cell_type": "code",
   "execution_count": 39,
   "id": "303af9e1",
   "metadata": {
    "ExecuteTime": {
     "end_time": "2023-09-25T18:14:15.056553800Z",
     "start_time": "2023-09-25T18:14:15.041529800Z"
    }
   },
   "outputs": [],
   "source": [
    "def outer_func():\n",
    "    x = 'Hello'\n",
    "    def inner1():\n",
    "        x = 'python'\n",
    "        print(f\"inner1: {x}\")\n",
    "        def inner2():\n",
    "            nonlocal x\n",
    "            x = 'Javascript'\n",
    "            print(x)\n",
    "        inner2()\n",
    "    inner1()\n",
    "    print(f'outer: {x}')"
   ]
  },
  {
   "cell_type": "code",
   "execution_count": 40,
   "id": "60046b2a",
   "metadata": {
    "ExecuteTime": {
     "end_time": "2023-09-25T18:14:17.592841800Z",
     "start_time": "2023-09-25T18:14:17.506858100Z"
    }
   },
   "outputs": [
    {
     "name": "stdout",
     "output_type": "stream",
     "text": [
      "inner1: python\n",
      "Javascript\n",
      "outer: Hello\n"
     ]
    }
   ],
   "source": [
    "outer_func()"
   ]
  },
  {
   "cell_type": "code",
   "execution_count": 43,
   "id": "c414a172",
   "metadata": {
    "ExecuteTime": {
     "end_time": "2023-09-25T18:15:42.013722500Z",
     "start_time": "2023-09-25T18:15:41.977149900Z"
    }
   },
   "outputs": [],
   "source": [
    "def outer_func():\n",
    "    x = 'Hello'\n",
    "    def inner1():\n",
    "        nonlocal x\n",
    "        x = 'python'\n",
    "        print(f\"inner1: {x}\")\n",
    "        def inner2():\n",
    "            nonlocal x\n",
    "            print(x)\n",
    "        inner2()\n",
    "    inner1()\n",
    "    print(f'outer: {x}')"
   ]
  },
  {
   "cell_type": "code",
   "execution_count": 44,
   "id": "0f2649ed",
   "metadata": {
    "ExecuteTime": {
     "end_time": "2023-09-25T18:15:42.611325800Z",
     "start_time": "2023-09-25T18:15:42.588274300Z"
    }
   },
   "outputs": [
    {
     "name": "stdout",
     "output_type": "stream",
     "text": [
      "inner1: python\n",
      "python\n",
      "outer: python\n"
     ]
    }
   ],
   "source": [
    "outer_func()"
   ]
  },
  {
   "cell_type": "code",
   "execution_count": 45,
   "id": "15902f81",
   "metadata": {
    "ExecuteTime": {
     "end_time": "2023-09-25T18:16:31.008775300Z",
     "start_time": "2023-09-25T18:16:30.990300400Z"
    }
   },
   "outputs": [],
   "source": [
    "x = 'Python'"
   ]
  },
  {
   "cell_type": "code",
   "execution_count": 52,
   "id": "fc1d079c",
   "metadata": {
    "ExecuteTime": {
     "end_time": "2023-09-25T18:20:02.803899100Z",
     "start_time": "2023-09-25T18:20:02.768479Z"
    }
   },
   "outputs": [],
   "source": [
    "def outer():\n",
    "    global x\n",
    "    x = 'Typescript'\n",
    "    \n",
    "    \n",
    "    def inner():\n",
    "        global x\n",
    "        x = 'hello'\n",
    "    inner()\n",
    "    print(f'outer: {x}')"
   ]
  },
  {
   "cell_type": "code",
   "execution_count": 53,
   "id": "250fe478",
   "metadata": {
    "ExecuteTime": {
     "end_time": "2023-09-25T18:20:03.320931100Z",
     "start_time": "2023-09-25T18:20:03.272309700Z"
    }
   },
   "outputs": [
    {
     "name": "stdout",
     "output_type": "stream",
     "text": [
      "outer: hello\n"
     ]
    }
   ],
   "source": [
    "outer()"
   ]
  },
  {
   "cell_type": "code",
   "execution_count": null,
   "id": "e254c08e",
   "metadata": {
    "ExecuteTime": {
     "end_time": "2023-09-24T08:43:30.292543400Z",
     "start_time": "2023-09-24T08:43:29.338571800Z"
    }
   },
   "outputs": [],
   "source": []
  },
  {
   "cell_type": "code",
   "execution_count": null,
   "id": "41f3756e",
   "metadata": {
    "ExecuteTime": {
     "end_time": "2023-09-24T08:43:30.292543400Z",
     "start_time": "2023-09-24T08:43:29.352567300Z"
    }
   },
   "outputs": [],
   "source": []
  },
  {
   "cell_type": "code",
   "execution_count": null,
   "id": "da6502d1",
   "metadata": {
    "ExecuteTime": {
     "end_time": "2023-09-24T08:43:30.294054100Z",
     "start_time": "2023-09-24T08:43:29.370568600Z"
    }
   },
   "outputs": [],
   "source": []
  },
  {
   "cell_type": "code",
   "execution_count": null,
   "id": "a4191fc9",
   "metadata": {
    "ExecuteTime": {
     "end_time": "2023-09-24T08:43:30.295066200Z",
     "start_time": "2023-09-24T08:43:29.392575900Z"
    }
   },
   "outputs": [],
   "source": []
  },
  {
   "cell_type": "code",
   "execution_count": null,
   "id": "a4dbe852",
   "metadata": {
    "ExecuteTime": {
     "end_time": "2023-09-24T08:43:30.295066200Z",
     "start_time": "2023-09-24T08:43:29.413100900Z"
    }
   },
   "outputs": [],
   "source": []
  },
  {
   "cell_type": "code",
   "execution_count": null,
   "id": "e2a9744c",
   "metadata": {
    "ExecuteTime": {
     "end_time": "2023-09-24T08:43:30.296067600Z",
     "start_time": "2023-09-24T08:43:29.429103500Z"
    }
   },
   "outputs": [],
   "source": []
  },
  {
   "cell_type": "code",
   "execution_count": null,
   "id": "c696d705",
   "metadata": {
    "ExecuteTime": {
     "end_time": "2023-09-24T08:43:30.296067600Z",
     "start_time": "2023-09-24T08:43:29.450099400Z"
    }
   },
   "outputs": [],
   "source": []
  },
  {
   "cell_type": "code",
   "execution_count": null,
   "id": "ce2b69ce",
   "metadata": {
    "ExecuteTime": {
     "end_time": "2023-09-24T08:43:30.296067600Z",
     "start_time": "2023-09-24T08:43:29.459106600Z"
    }
   },
   "outputs": [],
   "source": []
  },
  {
   "cell_type": "code",
   "execution_count": null,
   "id": "ef3144f1",
   "metadata": {
    "ExecuteTime": {
     "end_time": "2023-09-24T08:43:30.296067600Z",
     "start_time": "2023-09-24T08:43:29.474104300Z"
    }
   },
   "outputs": [],
   "source": []
  },
  {
   "cell_type": "code",
   "execution_count": null,
   "id": "b2ef45fa",
   "metadata": {
    "ExecuteTime": {
     "end_time": "2023-09-24T08:43:30.297066100Z",
     "start_time": "2023-09-24T08:43:29.488116700Z"
    }
   },
   "outputs": [],
   "source": []
  }
 ],
 "metadata": {
  "kernelspec": {
   "display_name": "Python 3 (ipykernel)",
   "language": "python",
   "name": "python3"
  },
  "language_info": {
   "codemirror_mode": {
    "name": "ipython",
    "version": 3
   },
   "file_extension": ".py",
   "mimetype": "text/x-python",
   "name": "python",
   "nbconvert_exporter": "python",
   "pygments_lexer": "ipython3",
   "version": "3.9.7"
  }
 },
 "nbformat": 4,
 "nbformat_minor": 5
}
