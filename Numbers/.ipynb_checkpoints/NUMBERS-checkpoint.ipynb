{
 "cells": [
  {
   "cell_type": "markdown",
   "id": "6eca6ee8",
   "metadata": {
    "pycharm": {
     "is_executing": true,
     "name": "#%%\n"
    }
   },
   "source": [
    "# Numbers\n",
    "There are 4 main types of numbers in python:\n",
    "\n",
    "> Integer Numbers(Z) - int\n",
    "    \n",
    "> Rational Numbers(Q) - fractions.Fraction\n",
    "    \n",
    "> Real Numbers(R) - float or decimal.Decimal\n",
    "    \n",
    "> Complex Numbers(C) complex\n",
    "\n",
    "Z in Q in R in C\n",
    "\n",
    "But python also has a 5th:\n",
    "Boolean datatype\n",
    "> Boolean thruth values 0(False), 1(True)"
   ]
  },
  {
   "cell_type": "markdown",
   "id": "f957daaa",
   "metadata": {},
   "source": [
    "# Integers"
   ]
  },
  {
   "cell_type": "markdown",
   "id": "de18b0a2",
   "metadata": {},
   "source": [
    "The largest (base 10) integer number that can be represented using 8 bits is:\n",
    "- [-128, 127] = [(-)(2^7), (2^7) - 1] the total is 255\n",
    "\n"
   ]
  },
  {
   "cell_type": "markdown",
   "id": "45b42228",
   "metadata": {},
   "source": [
    "The largest (base 10) integer number that can be represented using 16 bits is:\n",
    "- 2^(16-1) = 2^15 = 32,768 \n",
    "- [-32,768, 32,767] = [(-)(2^15), (2^15) - 1] the total is 255\n",
    "The same calculation goes for 32"
   ]
  },
  {
   "cell_type": "markdown",
   "id": "c2febf1f",
   "metadata": {},
   "source": [
    "In a 32 bits OS: \n",
    "    memory spaces are limited by their address number -> 32 bits\n",
    "    2^32 = 4,294,967,296 bytes od addressable memory\n",
    "    = 4,294,967,296 / 1024 kb = 4,194,304 kb\n",
    "    = 4,194,304 / 1024 MB = 4096 MB\n",
    "    = 4,966 / 1024 GB = 4GB"
   ]
  },
  {
   "cell_type": "code",
   "execution_count": 1,
   "id": "d5145b02",
   "metadata": {},
   "outputs": [
    {
     "name": "stdout",
     "output_type": "stream",
     "text": [
      "<class 'int'>\n"
     ]
    }
   ],
   "source": [
    "print(type(100))"
   ]
  },
  {
   "cell_type": "code",
   "execution_count": 2,
   "id": "99272ecc",
   "metadata": {},
   "outputs": [],
   "source": [
    "import sys"
   ]
  },
  {
   "cell_type": "code",
   "execution_count": 7,
   "id": "281a08fe",
   "metadata": {},
   "outputs": [],
   "source": [
    "def size(n):\n",
    "    return sys.getsizeof(n)"
   ]
  },
  {
   "cell_type": "code",
   "execution_count": 8,
   "id": "f3cb7ada",
   "metadata": {},
   "outputs": [
    {
     "data": {
      "text/plain": [
       "24"
      ]
     },
     "execution_count": 8,
     "metadata": {},
     "output_type": "execute_result"
    }
   ],
   "source": [
    "size(0)"
   ]
  },
  {
   "cell_type": "code",
   "execution_count": 9,
   "id": "4373a162",
   "metadata": {},
   "outputs": [
    {
     "data": {
      "text/plain": [
       "28"
      ]
     },
     "execution_count": 9,
     "metadata": {},
     "output_type": "execute_result"
    }
   ],
   "source": [
    "size(1)"
   ]
  },
  {
   "cell_type": "code",
   "execution_count": 10,
   "id": "8ad71320",
   "metadata": {},
   "outputs": [
    {
     "data": {
      "text/plain": [
       "748"
      ]
     },
     "execution_count": 10,
     "metadata": {},
     "output_type": "execute_result"
    }
   ],
   "source": [
    "size(2**5412)"
   ]
  },
  {
   "cell_type": "code",
   "execution_count": 11,
   "id": "192811da",
   "metadata": {},
   "outputs": [],
   "source": [
    "import time"
   ]
  },
  {
   "cell_type": "code",
   "execution_count": 12,
   "id": "c686b549",
   "metadata": {},
   "outputs": [],
   "source": [
    "def calc(n):\n",
    "    for i in range(10000000):\n",
    "        n * 2"
   ]
  },
  {
   "cell_type": "code",
   "execution_count": 13,
   "id": "fb911a3a",
   "metadata": {},
   "outputs": [],
   "source": [
    "def speed(n):\n",
    "    start = time.perf_counter()\n",
    "    n\n",
    "    end = time.perf_counter()\n",
    "    print(end - start)"
   ]
  },
  {
   "cell_type": "code",
   "execution_count": 14,
   "id": "5c96eaa7",
   "metadata": {},
   "outputs": [
    {
     "name": "stdout",
     "output_type": "stream",
     "text": [
      "3.0000046535860747e-07\n"
     ]
    }
   ],
   "source": [
    "speed(calc(10))"
   ]
  },
  {
   "cell_type": "code",
   "execution_count": 15,
   "id": "a5261e4c",
   "metadata": {},
   "outputs": [
    {
     "name": "stdout",
     "output_type": "stream",
     "text": [
      "3.9999940781854093e-07\n"
     ]
    }
   ],
   "source": [
    "speed(calc(2**100))"
   ]
  },
  {
   "cell_type": "code",
   "execution_count": 16,
   "id": "03f6ff1f",
   "metadata": {},
   "outputs": [
    {
     "ename": "KeyboardInterrupt",
     "evalue": "",
     "output_type": "error",
     "traceback": [
      "\u001b[1;31m---------------------------------------------------------------------------\u001b[0m",
      "\u001b[1;31mKeyboardInterrupt\u001b[0m                         Traceback (most recent call last)",
      "Input \u001b[1;32mIn [16]\u001b[0m, in \u001b[0;36m<cell line: 1>\u001b[1;34m()\u001b[0m\n\u001b[1;32m----> 1\u001b[0m speed(\u001b[43mcalc\u001b[49m\u001b[43m(\u001b[49m\u001b[38;5;241;43m2\u001b[39;49m\u001b[38;5;241;43m*\u001b[39;49m\u001b[38;5;241;43m*\u001b[39;49m\u001b[38;5;241;43m10000000\u001b[39;49m\u001b[43m)\u001b[49m)\n",
      "Input \u001b[1;32mIn [12]\u001b[0m, in \u001b[0;36mcalc\u001b[1;34m(n)\u001b[0m\n\u001b[0;32m      1\u001b[0m \u001b[38;5;28;01mdef\u001b[39;00m \u001b[38;5;21mcalc\u001b[39m(n):\n\u001b[0;32m      2\u001b[0m     \u001b[38;5;28;01mfor\u001b[39;00m i \u001b[38;5;129;01min\u001b[39;00m \u001b[38;5;28mrange\u001b[39m(\u001b[38;5;241m10000000\u001b[39m):\n\u001b[1;32m----> 3\u001b[0m         n \u001b[38;5;241m*\u001b[39m \u001b[38;5;241m2\u001b[39m\n",
      "\u001b[1;31mKeyboardInterrupt\u001b[0m: "
     ]
    }
   ],
   "source": [
    "speed(calc(2**10000000))"
   ]
  },
  {
   "cell_type": "code",
   "execution_count": 17,
   "id": "ae81ad94",
   "metadata": {},
   "outputs": [
    {
     "name": "stdout",
     "output_type": "stream",
     "text": [
      "3.9999940781854093e-07\n"
     ]
    }
   ],
   "source": [
    "speed(calc(2**10000))"
   ]
  },
  {
   "cell_type": "code",
   "execution_count": 18,
   "id": "05839d38",
   "metadata": {},
   "outputs": [
    {
     "name": "stdout",
     "output_type": "stream",
     "text": [
      "4.424364999999852\n"
     ]
    }
   ],
   "source": [
    "start = time.perf_counter()\n",
    "calc(2**10000)\n",
    "end = time.perf_counter()\n",
    "print(end - start)"
   ]
  },
  {
   "cell_type": "code",
   "execution_count": 19,
   "id": "13a325bb",
   "metadata": {},
   "outputs": [
    {
     "name": "stdout",
     "output_type": "stream",
     "text": [
      "4.000003173132427e-07\n"
     ]
    }
   ],
   "source": [
    "speed(calc(2**10000))"
   ]
  },
  {
   "cell_type": "code",
   "execution_count": 20,
   "id": "79132fd7",
   "metadata": {},
   "outputs": [
    {
     "name": "stdout",
     "output_type": "stream",
     "text": [
      "3.0000046535860747e-07\n"
     ]
    }
   ],
   "source": [
    "speed(calc(2**10000))"
   ]
  },
  {
   "cell_type": "markdown",
   "id": "e86c51f6",
   "metadata": {},
   "source": [
    "## Integers operation"
   ]
  },
  {
   "cell_type": "markdown",
   "id": "b6c126d0",
   "metadata": {},
   "source": [
    "- int +  int = int\n",
    "- int -  int = int\n",
    "- int *  int = int\n",
    "- int **  int = int\n",
    "- int /  int = float --> long division\n",
    "- int //  int = float --> floor division\n",
    "- int %  int = float --> modulo\n",
    "    \n",
    "155 = 4 * (155 // 4) + (155 % 3)\n",
    "    \n",
    "n = d * (n // d) + (n % d)"
   ]
  },
  {
   "cell_type": "markdown",
   "id": "a74d4141",
   "metadata": {},
   "source": [
    "### Floor division\n",
    "\n",
    "The floor of `a` number is the largest integer <= `a`\n",
    "\n",
    "    floor(3.14) = 3\n",
    "    floor(1.99) = 1\n",
    "    floor(2) = 2\n",
    "    floor(-3.1) = -4\n",
    "    a // b = floor(a / b)\n",
    "    a = b * (a//b) + a % b\n",
    "    if a = 135\n",
    "    b = 4\n",
    "    135 / 4 = 33.75\n",
    "    135 // 4 = 33\n",
    "    135 % 4 = 3\n",
    "    135 = 4 * (135//4) + (135 % 4)"
   ]
  },
  {
   "cell_type": "code",
   "execution_count": 21,
   "id": "79cf77dc",
   "metadata": {},
   "outputs": [
    {
     "data": {
      "text/plain": [
       "int"
      ]
     },
     "execution_count": 21,
     "metadata": {},
     "output_type": "execute_result"
    }
   ],
   "source": [
    "type(1+1)"
   ]
  },
  {
   "cell_type": "code",
   "execution_count": 22,
   "id": "6e6c85f2",
   "metadata": {},
   "outputs": [
    {
     "data": {
      "text/plain": [
       "int"
      ]
     },
     "execution_count": 22,
     "metadata": {},
     "output_type": "execute_result"
    }
   ],
   "source": [
    "type(2*3)"
   ]
  },
  {
   "cell_type": "code",
   "execution_count": 23,
   "id": "b2e8218c",
   "metadata": {},
   "outputs": [
    {
     "data": {
      "text/plain": [
       "int"
      ]
     },
     "execution_count": 23,
     "metadata": {},
     "output_type": "execute_result"
    }
   ],
   "source": [
    "type(4-10)"
   ]
  },
  {
   "cell_type": "code",
   "execution_count": 24,
   "id": "5f6c3e4e",
   "metadata": {},
   "outputs": [
    {
     "data": {
      "text/plain": [
       "float"
      ]
     },
     "execution_count": 24,
     "metadata": {},
     "output_type": "execute_result"
    }
   ],
   "source": [
    "type(2/3)"
   ]
  },
  {
   "cell_type": "code",
   "execution_count": 25,
   "id": "aa3560d9",
   "metadata": {},
   "outputs": [
    {
     "data": {
      "text/plain": [
       "float"
      ]
     },
     "execution_count": 25,
     "metadata": {},
     "output_type": "execute_result"
    }
   ],
   "source": [
    "type(10/2)"
   ]
  },
  {
   "cell_type": "code",
   "execution_count": 26,
   "id": "4c339982",
   "metadata": {},
   "outputs": [
    {
     "data": {
      "text/plain": [
       "20"
      ]
     },
     "execution_count": 26,
     "metadata": {},
     "output_type": "execute_result"
    }
   ],
   "source": [
    "10*2"
   ]
  },
  {
   "cell_type": "code",
   "execution_count": 27,
   "id": "c9330f7f",
   "metadata": {},
   "outputs": [
    {
     "data": {
      "text/plain": [
       "5.0"
      ]
     },
     "execution_count": 27,
     "metadata": {},
     "output_type": "execute_result"
    }
   ],
   "source": [
    "10/2"
   ]
  },
  {
   "cell_type": "code",
   "execution_count": 28,
   "id": "7010942f",
   "metadata": {},
   "outputs": [
    {
     "data": {
      "text/plain": [
       "5"
      ]
     },
     "execution_count": 28,
     "metadata": {},
     "output_type": "execute_result"
    }
   ],
   "source": [
    "10//2"
   ]
  },
  {
   "cell_type": "code",
   "execution_count": 29,
   "id": "25c0126e",
   "metadata": {},
   "outputs": [],
   "source": [
    "import math"
   ]
  },
  {
   "cell_type": "code",
   "execution_count": 30,
   "id": "a1edab95",
   "metadata": {},
   "outputs": [
    {
     "data": {
      "text/plain": [
       "3"
      ]
     },
     "execution_count": 30,
     "metadata": {},
     "output_type": "execute_result"
    }
   ],
   "source": [
    "math.floor(3.15)"
   ]
  },
  {
   "cell_type": "code",
   "execution_count": 31,
   "id": "0a082015",
   "metadata": {},
   "outputs": [
    {
     "data": {
      "text/plain": [
       "3"
      ]
     },
     "execution_count": 31,
     "metadata": {},
     "output_type": "execute_result"
    }
   ],
   "source": [
    "math.floor(3.58795)"
   ]
  },
  {
   "cell_type": "code",
   "execution_count": 32,
   "id": "8c141964",
   "metadata": {},
   "outputs": [
    {
     "data": {
      "text/plain": [
       "-898"
      ]
     },
     "execution_count": 32,
     "metadata": {},
     "output_type": "execute_result"
    }
   ],
   "source": [
    "math.floor(-897.45)"
   ]
  },
  {
   "cell_type": "code",
   "execution_count": 34,
   "id": "e58494a8",
   "metadata": {},
   "outputs": [
    {
     "data": {
      "text/plain": [
       "-7"
      ]
     },
     "execution_count": 34,
     "metadata": {},
     "output_type": "execute_result"
    }
   ],
   "source": [
    "math.floor(-6.0000000000001)"
   ]
  },
  {
   "cell_type": "code",
   "execution_count": 37,
   "id": "8ca72231",
   "metadata": {},
   "outputs": [
    {
     "data": {
      "text/plain": [
       "-4"
      ]
     },
     "execution_count": 37,
     "metadata": {},
     "output_type": "execute_result"
    }
   ],
   "source": [
    "math.floor(-3.000_000_000_000_1)"
   ]
  },
  {
   "cell_type": "code",
   "execution_count": 39,
   "id": "657aae03",
   "metadata": {},
   "outputs": [
    {
     "data": {
      "text/plain": [
       "-3"
      ]
     },
     "execution_count": 39,
     "metadata": {},
     "output_type": "execute_result"
    }
   ],
   "source": [
    "math.floor(-3.000_000_000_000_000_1) # due to the the float limited precision"
   ]
  },
  {
   "cell_type": "code",
   "execution_count": 40,
   "id": "944d02ad",
   "metadata": {},
   "outputs": [],
   "source": [
    "a = 33\n",
    "b = 16\n"
   ]
  },
  {
   "cell_type": "code",
   "execution_count": 41,
   "id": "f3a37059",
   "metadata": {},
   "outputs": [
    {
     "data": {
      "text/plain": [
       "2.0625"
      ]
     },
     "execution_count": 41,
     "metadata": {},
     "output_type": "execute_result"
    }
   ],
   "source": [
    "a/b"
   ]
  },
  {
   "cell_type": "code",
   "execution_count": 42,
   "id": "c65103eb",
   "metadata": {},
   "outputs": [
    {
     "data": {
      "text/plain": [
       "2"
      ]
     },
     "execution_count": 42,
     "metadata": {},
     "output_type": "execute_result"
    }
   ],
   "source": [
    "a//b"
   ]
  },
  {
   "cell_type": "code",
   "execution_count": 43,
   "id": "89d3bcb6",
   "metadata": {},
   "outputs": [
    {
     "data": {
      "text/plain": [
       "2"
      ]
     },
     "execution_count": 43,
     "metadata": {},
     "output_type": "execute_result"
    }
   ],
   "source": [
    "math.floor(a/b)"
   ]
  },
  {
   "cell_type": "code",
   "execution_count": 46,
   "id": "4c705364",
   "metadata": {},
   "outputs": [],
   "source": [
    "a = -33\n",
    "b = -16"
   ]
  },
  {
   "cell_type": "code",
   "execution_count": 47,
   "id": "3d84ee85",
   "metadata": {},
   "outputs": [
    {
     "data": {
      "text/plain": [
       "2.0625"
      ]
     },
     "execution_count": 47,
     "metadata": {},
     "output_type": "execute_result"
    }
   ],
   "source": [
    "a/b"
   ]
  },
  {
   "cell_type": "code",
   "execution_count": 48,
   "id": "0fbc6c72",
   "metadata": {},
   "outputs": [
    {
     "data": {
      "text/plain": [
       "2"
      ]
     },
     "execution_count": 48,
     "metadata": {},
     "output_type": "execute_result"
    }
   ],
   "source": [
    "a//b"
   ]
  },
  {
   "cell_type": "code",
   "execution_count": 49,
   "id": "4096572d",
   "metadata": {},
   "outputs": [
    {
     "data": {
      "text/plain": [
       "-1"
      ]
     },
     "execution_count": 49,
     "metadata": {},
     "output_type": "execute_result"
    }
   ],
   "source": [
    "a%b"
   ]
  },
  {
   "cell_type": "code",
   "execution_count": 50,
   "id": "7f51ba52",
   "metadata": {},
   "outputs": [],
   "source": [
    "a = -33\n",
    "b = 16"
   ]
  },
  {
   "cell_type": "code",
   "execution_count": 51,
   "id": "4bfdd58b",
   "metadata": {},
   "outputs": [
    {
     "data": {
      "text/plain": [
       "-2.0625"
      ]
     },
     "execution_count": 51,
     "metadata": {},
     "output_type": "execute_result"
    }
   ],
   "source": [
    "a / b"
   ]
  },
  {
   "cell_type": "code",
   "execution_count": 52,
   "id": "47cd01b0",
   "metadata": {},
   "outputs": [
    {
     "data": {
      "text/plain": [
       "-3"
      ]
     },
     "execution_count": 52,
     "metadata": {},
     "output_type": "execute_result"
    }
   ],
   "source": [
    "a // b"
   ]
  },
  {
   "cell_type": "code",
   "execution_count": 53,
   "id": "fa0bc8e1",
   "metadata": {},
   "outputs": [
    {
     "data": {
      "text/plain": [
       "15"
      ]
     },
     "execution_count": 53,
     "metadata": {},
     "output_type": "execute_result"
    }
   ],
   "source": [
    "a % b"
   ]
  },
  {
   "cell_type": "code",
   "execution_count": 54,
   "id": "3a0cfc30",
   "metadata": {},
   "outputs": [
    {
     "data": {
      "text/plain": [
       "-3"
      ]
     },
     "execution_count": 54,
     "metadata": {},
     "output_type": "execute_result"
    }
   ],
   "source": [
    "math.floor(a/b)"
   ]
  },
  {
   "cell_type": "code",
   "execution_count": 55,
   "id": "a21c3f15",
   "metadata": {},
   "outputs": [
    {
     "data": {
      "text/plain": [
       "-2"
      ]
     },
     "execution_count": 55,
     "metadata": {},
     "output_type": "execute_result"
    }
   ],
   "source": [
    "math.trunc(a/b)"
   ]
  },
  {
   "cell_type": "code",
   "execution_count": 56,
   "id": "11435ae3",
   "metadata": {},
   "outputs": [],
   "source": [
    "a = b * (a//b) + (a%b)"
   ]
  },
  {
   "cell_type": "code",
   "execution_count": 58,
   "id": "4a6e7513",
   "metadata": {},
   "outputs": [
    {
     "name": "stdout",
     "output_type": "stream",
     "text": [
      "13/4 = 3.25\n",
      "13//4 = 3\n",
      "13%4 = 1\n",
      "True\n"
     ]
    }
   ],
   "source": [
    "a = 13\n",
    "b = 4\n",
    "print(f\"{a}/{b} = {a/b}\")\n",
    "print(f\"{a}//{b} = {a//b}\")\n",
    "print(f\"{a}%{b} = {a%b}\")\n",
    "print(a == b * (a//b) +(a%b))"
   ]
  },
  {
   "cell_type": "markdown",
   "id": "181f0727",
   "metadata": {},
   "source": [
    "# Integers constructors\n",
    "An integer is an object - an instance of the class int\n",
    "\n",
    "    The int class provides multiple constructors\n",
    "        a = int(10)\n",
    "        a = int(-10)\n",
    "    Others data types are also support in the argument of the int constructor.\n",
    "    As well as string(that can be parsed) min: 6"
   ]
  },
  {
   "cell_type": "code",
   "execution_count": null,
   "id": "d5b81d83",
   "metadata": {},
   "outputs": [],
   "source": []
  }
 ],
 "metadata": {
  "kernelspec": {
   "display_name": "Python 3 (ipykernel)",
   "language": "python",
   "name": "python3"
  },
  "language_info": {
   "codemirror_mode": {
    "name": "ipython",
    "version": 3
   },
   "file_extension": ".py",
   "mimetype": "text/x-python",
   "name": "python",
   "nbconvert_exporter": "python",
   "pygments_lexer": "ipython3",
   "version": "3.9.7"
  }
 },
 "nbformat": 4,
 "nbformat_minor": 5
}
