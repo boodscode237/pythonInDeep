{
 "cells": [
  {
   "cell_type": "code",
   "execution_count": null,
   "outputs": [],
   "source": [
    "# Numbers\n",
    "There are 4 main types of numbers in python:\n",
    "\n",
    "> Integer Numbers(Z) - int\n",
    "    \n",
    "> Rational Numbers(Q) - fractions.Fraction\n",
    "    \n",
    "> Real Numbers(R) - float or decimal.Decimal\n",
    "    \n",
    "> Complex Numbers(C) complex\n",
    "\n",
    "Z in Q in R in C\n",
    "\n",
    "But python also has a 5th:\n",
    "Boolean datatype\n",
    "> Boolean thruth values 0(False), 1(True)"
   ],
   "metadata": {
    "collapsed": false,
    "pycharm": {
     "name": "#%%\n"
    }
   }
  },
  {
   "cell_type": "markdown",
   "source": [
    "# Integers"
   ],
   "metadata": {
    "collapsed": false,
    "pycharm": {
     "name": "#%% md\n"
    }
   }
  },
  {
   "cell_type": "markdown",
   "source": [
    "The largest (base 10) integer number that can be represented using 8 bits is:\n",
    "- [-128, 127] = [(-)(2^7), (2^7) - 1] the total is 255\n",
    "\n"
   ],
   "metadata": {
    "collapsed": false,
    "pycharm": {
     "name": "#%% md\n"
    }
   }
  },
  {
   "cell_type": "markdown",
   "source": [
    "The largest (base 10) integer number that can be represented using 16 bits is:\n",
    "- 2^(16-1) = 2^15 = 32,768 \n",
    "- [-32,768, 32,767] = [(-)(2^15), (2^15) - 1] the total is 255\n",
    "The same calculation goes for 32"
   ],
   "metadata": {
    "collapsed": false,
    "pycharm": {
     "name": "#%% md\n"
    }
   }
  },
  {
   "cell_type": "markdown",
   "source": [
    "In a 32 bits OS: \n",
    "    memory spaces are limited by their address number -> 32 bits\n",
    "    2^32 = 4,294,967,296 bytes od addressable memory\n",
    "    = 4,294,967,296 / 1024 kb = 4,194,304 kb\n",
    "    = 4,194,304 / 1024 MB = 4096 MB\n",
    "    = 4,966 / 1024 GB = 4GB"
   ],
   "metadata": {
    "collapsed": false,
    "pycharm": {
     "name": "#%% md\n"
    }
   }
  },
  {
   "cell_type": "code",
   "execution_count": null,
   "outputs": [],
   "source": [
    "print(type(100))"
   ],
   "metadata": {
    "collapsed": false,
    "pycharm": {
     "name": "#%%\n"
    }
   }
  },
  {
   "cell_type": "code",
   "execution_count": null,
   "outputs": [],
   "source": [
    "import sys"
   ],
   "metadata": {
    "collapsed": false,
    "pycharm": {
     "name": "#%%\n"
    }
   }
  },
  {
   "cell_type": "code",
   "execution_count": null,
   "outputs": [],
   "source": [
    "def size(n):\n",
    "    return sys.getsizeof(n)"
   ],
   "metadata": {
    "collapsed": false,
    "pycharm": {
     "name": "#%%\n"
    }
   }
  },
  {
   "cell_type": "code",
   "execution_count": null,
   "outputs": [],
   "source": [
    "size(0)"
   ],
   "metadata": {
    "collapsed": false,
    "pycharm": {
     "name": "#%%\n"
    }
   }
  },
  {
   "cell_type": "code",
   "execution_count": null,
   "outputs": [],
   "source": [
    "size(1)"
   ],
   "metadata": {
    "collapsed": false,
    "pycharm": {
     "name": "#%%\n"
    }
   }
  },
  {
   "cell_type": "code",
   "execution_count": null,
   "outputs": [],
   "source": [
    "size(2**5412)"
   ],
   "metadata": {
    "collapsed": false,
    "pycharm": {
     "name": "#%%\n"
    }
   }
  },
  {
   "cell_type": "code",
   "execution_count": null,
   "outputs": [],
   "source": [
    "import time"
   ],
   "metadata": {
    "collapsed": false,
    "pycharm": {
     "name": "#%%\n"
    }
   }
  },
  {
   "cell_type": "code",
   "execution_count": null,
   "outputs": [],
   "source": [
    "def calc(n):\n",
    "    for i in range(10000000):\n",
    "        n * 2"
   ],
   "metadata": {
    "collapsed": false,
    "pycharm": {
     "name": "#%%\n"
    }
   }
  },
  {
   "cell_type": "code",
   "execution_count": null,
   "outputs": [],
   "source": [
    "def speed(n):\n",
    "    start = time.perf_counter()\n",
    "    n\n",
    "    end = time.perf_counter()\n",
    "    print(end - start)"
   ],
   "metadata": {
    "collapsed": false,
    "pycharm": {
     "name": "#%%\n"
    }
   }
  },
  {
   "cell_type": "code",
   "execution_count": null,
   "outputs": [],
   "source": [
    "speed(calc(10))"
   ],
   "metadata": {
    "collapsed": false,
    "pycharm": {
     "name": "#%%\n"
    }
   }
  },
  {
   "cell_type": "code",
   "execution_count": null,
   "outputs": [],
   "source": [
    "speed(calc(2**100))"
   ],
   "metadata": {
    "collapsed": false,
    "pycharm": {
     "name": "#%%\n"
    }
   }
  },
  {
   "cell_type": "code",
   "execution_count": null,
   "outputs": [],
   "source": [
    "speed(calc(2**10000000))"
   ],
   "metadata": {
    "collapsed": false,
    "pycharm": {
     "name": "#%%\n"
    }
   }
  },
  {
   "cell_type": "code",
   "execution_count": null,
   "outputs": [],
   "source": [
    "speed(calc(2**10000))"
   ],
   "metadata": {
    "collapsed": false,
    "pycharm": {
     "name": "#%%\n"
    }
   }
  },
  {
   "cell_type": "code",
   "execution_count": null,
   "outputs": [],
   "source": [
    "start = time.perf_counter()\n",
    "calc(2**10000)\n",
    "end = time.perf_counter()\n",
    "print(end - start)"
   ],
   "metadata": {
    "collapsed": false,
    "pycharm": {
     "name": "#%%\n"
    }
   }
  },
  {
   "cell_type": "code",
   "execution_count": null,
   "outputs": [],
   "source": [
    "speed(calc(2**10000))"
   ],
   "metadata": {
    "collapsed": false,
    "pycharm": {
     "name": "#%%\n"
    }
   }
  },
  {
   "cell_type": "code",
   "execution_count": null,
   "outputs": [],
   "source": [
    "speed(calc(2**10000))"
   ],
   "metadata": {
    "collapsed": false,
    "pycharm": {
     "name": "#%%\n"
    }
   }
  },
  {
   "cell_type": "code",
   "execution_count": null,
   "outputs": [],
   "source": [
    "\n"
   ],
   "metadata": {
    "collapsed": false,
    "pycharm": {
     "name": "#%%\n"
    }
   }
  },
  {
   "cell_type": "markdown",
   "id": "2a48fffc",
   "metadata": {},
   "source": [
    "# Integers"
   ]
  },
  {
   "cell_type": "markdown",
   "id": "3ac709f5",
   "metadata": {},
   "source": [
    "The largest (base 10) integer number that can be represented using 8 bits is:\n",
    "- [-128, 127] = [(-)(2^7), (2^7) - 1] the total is 255\n",
    "\n"
   ]
  },
  {
   "cell_type": "markdown",
   "id": "a545bf64",
   "metadata": {},
   "source": [
    "The largest (base 10) integer number that can be represented using 16 bits is:\n",
    "- 2^(16-1) = 2^15 = 32,768 \n",
    "- [-32,768, 32,767] = [(-)(2^15), (2^15) - 1] the total is 255\n",
    "The same calculation goes for 32"
   ]
  },
  {
   "cell_type": "markdown",
   "id": "67a0b2f9",
   "metadata": {},
   "source": [
    "In a 32 bits OS: \n",
    "    memory spaces are limited by their address number -> 32 bits\n",
    "    2^32 = 4,294,967,296 bytes od addressable memory\n",
    "    = 4,294,967,296 / 1024 kb = 4,194,304 kb\n",
    "    = 4,194,304 / 1024 MB = 4096 MB\n",
    "    = 4,966 / 1024 GB = 4GB"
   ]
  },
  {
   "cell_type": "code",
   "execution_count": 1,
   "id": "442aa1a8",
   "metadata": {},
   "outputs": [
    {
     "name": "stdout",
     "output_type": "stream",
     "text": [
      "<class 'int'>\n"
     ]
    }
   ],
   "source": [
    "print(type(100))"
   ]
  },
  {
   "cell_type": "code",
   "execution_count": 2,
   "id": "df91e089",
   "metadata": {},
   "outputs": [],
   "source": [
    "import sys"
   ]
  },
  {
   "cell_type": "code",
   "execution_count": 7,
   "id": "abd060d7",
   "metadata": {},
   "outputs": [],
   "source": [
    "def size(n):\n",
    "    return sys.getsizeof(n)"
   ]
  },
  {
   "cell_type": "code",
   "execution_count": 8,
   "id": "5c1288e5",
   "metadata": {},
   "outputs": [
    {
     "data": {
      "text/plain": [
       "24"
      ]
     },
     "execution_count": 8,
     "metadata": {},
     "output_type": "execute_result"
    }
   ],
   "source": [
    "size(0)"
   ]
  },
  {
   "cell_type": "code",
   "execution_count": 9,
   "id": "4b5039e6",
   "metadata": {},
   "outputs": [
    {
     "data": {
      "text/plain": [
       "28"
      ]
     },
     "execution_count": 9,
     "metadata": {},
     "output_type": "execute_result"
    }
   ],
   "source": [
    "size(1)"
   ]
  },
  {
   "cell_type": "code",
   "execution_count": 10,
   "id": "881b7db0",
   "metadata": {},
   "outputs": [
    {
     "data": {
      "text/plain": [
       "748"
      ]
     },
     "execution_count": 10,
     "metadata": {},
     "output_type": "execute_result"
    }
   ],
   "source": [
    "size(2**5412)"
   ]
  },
  {
   "cell_type": "code",
   "execution_count": 11,
   "id": "ac23e426",
   "metadata": {},
   "outputs": [],
   "source": [
    "import time"
   ]
  },
  {
   "cell_type": "code",
   "execution_count": 12,
   "id": "979bb652",
   "metadata": {},
   "outputs": [],
   "source": [
    "def calc(n):\n",
    "    for i in range(10000000):\n",
    "        n * 2"
   ]
  },
  {
   "cell_type": "code",
   "execution_count": 13,
   "id": "cb09240e",
   "metadata": {},
   "outputs": [],
   "source": [
    "def speed(n):\n",
    "    start = time.perf_counter()\n",
    "    n\n",
    "    end = time.perf_counter()\n",
    "    print(end - start)"
   ]
  },
  {
   "cell_type": "code",
   "execution_count": 14,
   "id": "44924b3f",
   "metadata": {},
   "outputs": [
    {
     "name": "stdout",
     "output_type": "stream",
     "text": [
      "3.0000046535860747e-07\n"
     ]
    }
   ],
   "source": [
    "speed(calc(10))"
   ]
  },
  {
   "cell_type": "code",
   "execution_count": 15,
   "id": "05f9df12",
   "metadata": {},
   "outputs": [
    {
     "name": "stdout",
     "output_type": "stream",
     "text": [
      "3.9999940781854093e-07\n"
     ]
    }
   ],
   "source": [
    "speed(calc(2**100))"
   ]
  },
  {
   "cell_type": "code",
   "execution_count": 16,
   "id": "2f563bc6",
   "metadata": {},
   "outputs": [
    {
     "ename": "KeyboardInterrupt",
     "evalue": "",
     "output_type": "error",
     "traceback": [
      "\u001B[1;31m---------------------------------------------------------------------------\u001B[0m",
      "\u001B[1;31mKeyboardInterrupt\u001B[0m                         Traceback (most recent call last)",
      "Input \u001B[1;32mIn [16]\u001B[0m, in \u001B[0;36m<cell line: 1>\u001B[1;34m()\u001B[0m\n\u001B[1;32m----> 1\u001B[0m speed(\u001B[43mcalc\u001B[49m\u001B[43m(\u001B[49m\u001B[38;5;241;43m2\u001B[39;49m\u001B[38;5;241;43m*\u001B[39;49m\u001B[38;5;241;43m*\u001B[39;49m\u001B[38;5;241;43m10000000\u001B[39;49m\u001B[43m)\u001B[49m)\n",
      "Input \u001B[1;32mIn [12]\u001B[0m, in \u001B[0;36mcalc\u001B[1;34m(n)\u001B[0m\n\u001B[0;32m      1\u001B[0m \u001B[38;5;28;01mdef\u001B[39;00m \u001B[38;5;21mcalc\u001B[39m(n):\n\u001B[0;32m      2\u001B[0m     \u001B[38;5;28;01mfor\u001B[39;00m i \u001B[38;5;129;01min\u001B[39;00m \u001B[38;5;28mrange\u001B[39m(\u001B[38;5;241m10000000\u001B[39m):\n\u001B[1;32m----> 3\u001B[0m         n \u001B[38;5;241m*\u001B[39m \u001B[38;5;241m2\u001B[39m\n",
      "\u001B[1;31mKeyboardInterrupt\u001B[0m: "
     ]
    }
   ],
   "source": [
    "speed(calc(2**10000000))"
   ]
  },
  {
   "cell_type": "code",
   "execution_count": 17,
   "id": "71da9267",
   "metadata": {},
   "outputs": [
    {
     "name": "stdout",
     "output_type": "stream",
     "text": [
      "3.9999940781854093e-07\n"
     ]
    }
   ],
   "source": [
    "speed(calc(2**10000))"
   ]
  },
  {
   "cell_type": "code",
   "execution_count": 18,
   "id": "6b1c3589",
   "metadata": {},
   "outputs": [
    {
     "name": "stdout",
     "output_type": "stream",
     "text": [
      "4.424364999999852\n"
     ]
    }
   ],
   "source": [
    "start = time.perf_counter()\n",
    "calc(2**10000)\n",
    "end = time.perf_counter()\n",
    "print(end - start)"
   ]
  },
  {
   "cell_type": "code",
   "execution_count": 19,
   "id": "bab74b0d",
   "metadata": {},
   "outputs": [
    {
     "name": "stdout",
     "output_type": "stream",
     "text": [
      "4.000003173132427e-07\n"
     ]
    }
   ],
   "source": [
    "speed(calc(2**10000))"
   ]
  },
  {
   "cell_type": "code",
   "execution_count": 20,
   "id": "390f9824",
   "metadata": {},
   "outputs": [
    {
     "name": "stdout",
     "output_type": "stream",
     "text": [
      "3.0000046535860747e-07\n"
     ]
    }
   ],
   "source": [
    "speed(calc(2**10000))"
   ]
  },
  {
   "cell_type": "code",
   "execution_count": null,
   "id": "53c61e91",
   "metadata": {},
   "outputs": [],
   "source": [
    "\n"
   ]
  }
 ],
 "metadata": {
  "kernelspec": {
   "display_name": "Python 3 (ipykernel)",
   "language": "python",
   "name": "python3"
  },
  "language_info": {
   "codemirror_mode": {
    "name": "ipython",
    "version": 3
   },
   "file_extension": ".py",
   "mimetype": "text/x-python",
   "name": "python",
   "nbconvert_exporter": "python",
   "pygments_lexer": "ipython3",
   "version": "3.9.7"
  }
 },
 "nbformat": 4,
 "nbformat_minor": 5
}