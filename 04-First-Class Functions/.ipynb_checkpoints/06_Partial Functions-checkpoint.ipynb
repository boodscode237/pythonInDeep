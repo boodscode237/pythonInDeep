{
 "cells": [
  {
   "cell_type": "markdown",
   "id": "efd39760",
   "metadata": {},
   "source": [
    "# Partial Functions"
   ]
  },
  {
   "cell_type": "code",
   "execution_count": 2,
   "id": "acbc32d6",
   "metadata": {},
   "outputs": [],
   "source": [
    "def my_func(a, b, c):\n",
    "    print(a, b, c)"
   ]
  },
  {
   "cell_type": "code",
   "execution_count": 3,
   "id": "9550b6ce",
   "metadata": {},
   "outputs": [],
   "source": [
    "def fn(b, c):\n",
    "    return my_func(10, b, c)"
   ]
  },
  {
   "cell_type": "code",
   "execution_count": 4,
   "id": "4ba7f574",
   "metadata": {},
   "outputs": [
    {
     "name": "stdout",
     "output_type": "stream",
     "text": [
      "10 20 30\n"
     ]
    }
   ],
   "source": [
    "fn(20, 30)"
   ]
  },
  {
   "cell_type": "code",
   "execution_count": 5,
   "id": "330ccaa8",
   "metadata": {},
   "outputs": [],
   "source": [
    "f = lambda b, c: my_func(10, b, c)"
   ]
  },
  {
   "cell_type": "code",
   "execution_count": 7,
   "id": "34d09104",
   "metadata": {},
   "outputs": [],
   "source": [
    "from functools import partial"
   ]
  },
  {
   "cell_type": "code",
   "execution_count": 8,
   "id": "a350ea28",
   "metadata": {},
   "outputs": [],
   "source": [
    "f = partial(my_func, 10)"
   ]
  },
  {
   "cell_type": "code",
   "execution_count": 9,
   "id": "8a27187a",
   "metadata": {},
   "outputs": [
    {
     "name": "stdout",
     "output_type": "stream",
     "text": [
      "10 20 12\n"
     ]
    }
   ],
   "source": [
    "f(20, 12)"
   ]
  },
  {
   "cell_type": "code",
   "execution_count": null,
   "id": "e8ee51f7",
   "metadata": {},
   "outputs": [],
   "source": []
  }
 ],
 "metadata": {
  "kernelspec": {
   "display_name": "Python 3 (ipykernel)",
   "language": "python",
   "name": "python3"
  },
  "language_info": {
   "codemirror_mode": {
    "name": "ipython",
    "version": 3
   },
   "file_extension": ".py",
   "mimetype": "text/x-python",
   "name": "python",
   "nbconvert_exporter": "python",
   "pygments_lexer": "ipython3",
   "version": "3.9.7"
  }
 },
 "nbformat": 4,
 "nbformat_minor": 5
}
