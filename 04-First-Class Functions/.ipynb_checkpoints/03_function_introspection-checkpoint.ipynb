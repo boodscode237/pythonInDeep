{
 "cells": [
  {
   "cell_type": "markdown",
   "id": "1f6e4ea6",
   "metadata": {},
   "source": [
    "# Function introspection"
   ]
  },
  {
   "cell_type": "markdown",
   "id": "d8b932f5",
   "metadata": {},
   "source": [
    "It is using code to analyse function.\n",
    "    functions have attributes: `__doc__` and `__annotations__`.\n",
    "We can attach our own atrributes:\n",
    "```\n",
    "def my_func(a, b):\n",
    "    pass\n",
    "    \n",
    "my_func.category = \"math\"\n",
    "my_func.sub_category = \"arithmatic\"\n",
    "```\n",
    "The `dir()` function helps that given an object as an argument, will return a list of valid attributes for that object.\n",
    " - `__name__` -> name of the function\n",
    " - `__defalts__` -> tuple containing positional parameters defaults\n",
    " - `__kwdefalts__` -> tuple containing keyword-only parameters defaults\n",
    " `__code__` -> objects with fnction various properties (co_varnames, co_argcount)"
   ]
  },
  {
   "cell_type": "code",
   "execution_count": 5,
   "id": "d68590d4",
   "metadata": {},
   "outputs": [],
   "source": [
    "def my_func(a, b):\n",
    "    pass\n",
    "    \n",
    "my_func.category = \"math\"\n",
    "my_func.sub_category = \"arithmatic\""
   ]
  },
  {
   "cell_type": "code",
   "execution_count": 6,
   "id": "a2172686",
   "metadata": {},
   "outputs": [
    {
     "data": {
      "text/plain": [
       "'math'"
      ]
     },
     "execution_count": 6,
     "metadata": {},
     "output_type": "execute_result"
    }
   ],
   "source": [
    "my_func.category"
   ]
  },
  {
   "cell_type": "code",
   "execution_count": 7,
   "id": "9a4263ba",
   "metadata": {
    "scrolled": true
   },
   "outputs": [
    {
     "data": {
      "text/plain": [
       "['__annotations__',\n",
       " '__call__',\n",
       " '__class__',\n",
       " '__closure__',\n",
       " '__code__',\n",
       " '__defaults__',\n",
       " '__delattr__',\n",
       " '__dict__',\n",
       " '__dir__',\n",
       " '__doc__',\n",
       " '__eq__',\n",
       " '__format__',\n",
       " '__ge__',\n",
       " '__get__',\n",
       " '__getattribute__',\n",
       " '__globals__',\n",
       " '__gt__',\n",
       " '__hash__',\n",
       " '__init__',\n",
       " '__init_subclass__',\n",
       " '__kwdefaults__',\n",
       " '__le__',\n",
       " '__lt__',\n",
       " '__module__',\n",
       " '__name__',\n",
       " '__ne__',\n",
       " '__new__',\n",
       " '__qualname__',\n",
       " '__reduce__',\n",
       " '__reduce_ex__',\n",
       " '__repr__',\n",
       " '__setattr__',\n",
       " '__sizeof__',\n",
       " '__str__',\n",
       " '__subclasshook__',\n",
       " 'category',\n",
       " 'sub_category']"
      ]
     },
     "execution_count": 7,
     "metadata": {},
     "output_type": "execute_result"
    }
   ],
   "source": [
    "dir(my_func)"
   ]
  },
  {
   "cell_type": "code",
   "execution_count": 8,
   "id": "f78b96e8",
   "metadata": {},
   "outputs": [],
   "source": [
    "import inspect"
   ]
  },
  {
   "cell_type": "markdown",
   "id": "0e4c90f1",
   "metadata": {},
   "source": [
    "The difference between a `function` and a `method`: \n",
    "\n",
    "   Classes and objects have `attributes` - an object that is bound(to the class or the object)\n",
    "   An attribute that is `callable` is call a `method`.\n",
    "   \n",
    "   The `inspect` module has `ismethod(obj)`, `isfunction(obj)`, `isroutine(obj)`"
   ]
  },
  {
   "cell_type": "code",
   "execution_count": 18,
   "id": "4ea72fba",
   "metadata": {},
   "outputs": [],
   "source": [
    "def MyClass():\n",
    "    def funct(self):\n",
    "        pass"
   ]
  },
  {
   "cell_type": "code",
   "execution_count": 19,
   "id": "87cfdbb3",
   "metadata": {},
   "outputs": [],
   "source": [
    "my_obj = MyClass()"
   ]
  },
  {
   "cell_type": "code",
   "execution_count": 20,
   "id": "472840fe",
   "metadata": {},
   "outputs": [
    {
     "data": {
      "text/plain": [
       "False"
      ]
     },
     "execution_count": 20,
     "metadata": {},
     "output_type": "execute_result"
    }
   ],
   "source": [
    "inspect.isfunction(my_obj)"
   ]
  },
  {
   "cell_type": "code",
   "execution_count": 21,
   "id": "a8c31593",
   "metadata": {},
   "outputs": [
    {
     "data": {
      "text/plain": [
       "True"
      ]
     },
     "execution_count": 21,
     "metadata": {},
     "output_type": "execute_result"
    }
   ],
   "source": [
    "inspect.isfunction(my_func)"
   ]
  },
  {
   "cell_type": "code",
   "execution_count": 23,
   "id": "12703b2c",
   "metadata": {},
   "outputs": [
    {
     "data": {
      "text/plain": [
       "False"
      ]
     },
     "execution_count": 23,
     "metadata": {},
     "output_type": "execute_result"
    }
   ],
   "source": [
    "inspect.ismethod(my_obj)"
   ]
  },
  {
   "cell_type": "code",
   "execution_count": 24,
   "id": "f43e47c1",
   "metadata": {},
   "outputs": [
    {
     "data": {
      "text/plain": [
       "'def my_func(a, b):\\n    pass\\n'"
      ]
     },
     "execution_count": 24,
     "metadata": {},
     "output_type": "execute_result"
    }
   ],
   "source": [
    "inspect.getsource(my_func)"
   ]
  },
  {
   "cell_type": "code",
   "execution_count": 25,
   "id": "00997767",
   "metadata": {},
   "outputs": [
    {
     "data": {
      "text/plain": [
       "<module '__main__'>"
      ]
     },
     "execution_count": 25,
     "metadata": {},
     "output_type": "execute_result"
    }
   ],
   "source": [
    "inspect.getmodule(my_func)"
   ]
  },
  {
   "cell_type": "code",
   "execution_count": 27,
   "id": "7336d279",
   "metadata": {},
   "outputs": [],
   "source": [
    "def my_func(\n",
    "    a: \"Mandatory\", \n",
    "    b: \"optional\"=8, \n",
    "    c=9, \n",
    "    *args, \n",
    "    kw1, \n",
    "    kw2=56,\n",
    "    kw3=233, \n",
    "    **kwargs: \"extra key-word argument\"\n",
    ") -> \"does nothing\":\n",
    "    '''\n",
    "    THIS FUNCTION RETURNS NOTHING\n",
    "    '''\n",
    "    i , j = 10, 20"
   ]
  },
  {
   "cell_type": "code",
   "execution_count": 28,
   "id": "a113ecf5",
   "metadata": {},
   "outputs": [
    {
     "data": {
      "text/plain": [
       "'\\n    THIS FUNCTION RETURNS NOTHING\\n    '"
      ]
     },
     "execution_count": 28,
     "metadata": {},
     "output_type": "execute_result"
    }
   ],
   "source": [
    "my_func.__doc__"
   ]
  },
  {
   "cell_type": "code",
   "execution_count": 29,
   "id": "70fbcb72",
   "metadata": {},
   "outputs": [
    {
     "data": {
      "text/plain": [
       "{'a': 'Mandatory',\n",
       " 'b': 'optional',\n",
       " 'kwargs': 'extra key-word argument',\n",
       " 'return': 'does nothing'}"
      ]
     },
     "execution_count": 29,
     "metadata": {},
     "output_type": "execute_result"
    }
   ],
   "source": [
    "my_func.__annotations__"
   ]
  },
  {
   "cell_type": "code",
   "execution_count": 30,
   "id": "a27f5cfb",
   "metadata": {},
   "outputs": [],
   "source": [
    "my_func.description = \"This function is just for testing inspection\""
   ]
  },
  {
   "cell_type": "code",
   "execution_count": 31,
   "id": "60df07a0",
   "metadata": {},
   "outputs": [
    {
     "data": {
      "text/plain": [
       "'This function is just for testing inspection'"
      ]
     },
     "execution_count": 31,
     "metadata": {},
     "output_type": "execute_result"
    }
   ],
   "source": [
    "my_func.description"
   ]
  },
  {
   "cell_type": "code",
   "execution_count": 32,
   "id": "0129e17a",
   "metadata": {
    "scrolled": true
   },
   "outputs": [
    {
     "data": {
      "text/plain": [
       "['__annotations__',\n",
       " '__call__',\n",
       " '__class__',\n",
       " '__closure__',\n",
       " '__code__',\n",
       " '__defaults__',\n",
       " '__delattr__',\n",
       " '__dict__',\n",
       " '__dir__',\n",
       " '__doc__',\n",
       " '__eq__',\n",
       " '__format__',\n",
       " '__ge__',\n",
       " '__get__',\n",
       " '__getattribute__',\n",
       " '__globals__',\n",
       " '__gt__',\n",
       " '__hash__',\n",
       " '__init__',\n",
       " '__init_subclass__',\n",
       " '__kwdefaults__',\n",
       " '__le__',\n",
       " '__lt__',\n",
       " '__module__',\n",
       " '__name__',\n",
       " '__ne__',\n",
       " '__new__',\n",
       " '__qualname__',\n",
       " '__reduce__',\n",
       " '__reduce_ex__',\n",
       " '__repr__',\n",
       " '__setattr__',\n",
       " '__sizeof__',\n",
       " '__str__',\n",
       " '__subclasshook__',\n",
       " 'description']"
      ]
     },
     "execution_count": 32,
     "metadata": {},
     "output_type": "execute_result"
    }
   ],
   "source": [
    "dir(my_func)"
   ]
  },
  {
   "cell_type": "code",
   "execution_count": 33,
   "id": "f8dc5d98",
   "metadata": {},
   "outputs": [
    {
     "data": {
      "text/plain": [
       "'my_func'"
      ]
     },
     "execution_count": 33,
     "metadata": {},
     "output_type": "execute_result"
    }
   ],
   "source": [
    "my_func.__name__"
   ]
  },
  {
   "cell_type": "code",
   "execution_count": 36,
   "id": "7037ba14",
   "metadata": {},
   "outputs": [],
   "source": [
    "def func_call(f):\n",
    "    print(f.__name__)\n",
    "    print(id(f))"
   ]
  },
  {
   "cell_type": "code",
   "execution_count": 37,
   "id": "26577d83",
   "metadata": {},
   "outputs": [
    {
     "name": "stdout",
     "output_type": "stream",
     "text": [
      "my_func\n",
      "2568866465680\n"
     ]
    }
   ],
   "source": [
    "func_call(my_func)"
   ]
  },
  {
   "cell_type": "code",
   "execution_count": 39,
   "id": "49bd14ec",
   "metadata": {},
   "outputs": [
    {
     "data": {
      "text/plain": [
       "(8, 9)"
      ]
     },
     "execution_count": 39,
     "metadata": {},
     "output_type": "execute_result"
    }
   ],
   "source": [
    "my_func.__defaults__"
   ]
  },
  {
   "cell_type": "code",
   "execution_count": 40,
   "id": "cc47a363",
   "metadata": {},
   "outputs": [
    {
     "data": {
      "text/plain": [
       "{'kw2': 56, 'kw3': 233}"
      ]
     },
     "execution_count": 40,
     "metadata": {},
     "output_type": "execute_result"
    }
   ],
   "source": [
    "my_func.__kwdefaults__"
   ]
  },
  {
   "cell_type": "code",
   "execution_count": 41,
   "id": "baeab58b",
   "metadata": {},
   "outputs": [
    {
     "data": {
      "text/plain": [
       "'my_func'"
      ]
     },
     "execution_count": 41,
     "metadata": {},
     "output_type": "execute_result"
    }
   ],
   "source": [
    "my_func.__code__.co_name"
   ]
  },
  {
   "cell_type": "code",
   "execution_count": 42,
   "id": "3fb88397",
   "metadata": {},
   "outputs": [
    {
     "data": {
      "text/plain": [
       "('a', 'b', 'c', 'kw1', 'kw2', 'kw3', 'args', 'kwargs', 'i', 'j')"
      ]
     },
     "execution_count": 42,
     "metadata": {},
     "output_type": "execute_result"
    }
   ],
   "source": [
    "my_func.__code__.co_varnames"
   ]
  },
  {
   "cell_type": "markdown",
   "id": "7a6c1b4b",
   "metadata": {},
   "source": [
    "## Callables"
   ]
  },
  {
   "cell_type": "markdown",
   "id": "7b26c5ac",
   "metadata": {},
   "source": [
    "It is any object that can be called using the () operator. It always return a value.\n",
    "\n",
    "different types of callables:\n",
    "\n",
    "    built-in functions\n",
    "    built-in methods\n",
    "    user-defined functions\n",
    "    methods\n",
    "    classes"
   ]
  },
  {
   "cell_type": "code",
   "execution_count": 44,
   "id": "fe0e66f7",
   "metadata": {},
   "outputs": [
    {
     "data": {
      "text/plain": [
       "True"
      ]
     },
     "execution_count": 44,
     "metadata": {},
     "output_type": "execute_result"
    }
   ],
   "source": [
    "callable(print)"
   ]
  },
  {
   "cell_type": "code",
   "execution_count": 45,
   "id": "0f271b6d",
   "metadata": {},
   "outputs": [
    {
     "data": {
      "text/plain": [
       "True"
      ]
     },
     "execution_count": 45,
     "metadata": {},
     "output_type": "execute_result"
    }
   ],
   "source": [
    "l = [1, 2, 3]\n",
    "callable(l.append)"
   ]
  },
  {
   "cell_type": "code",
   "execution_count": 46,
   "id": "9cc5e975",
   "metadata": {},
   "outputs": [
    {
     "name": "stdout",
     "output_type": "stream",
     "text": [
      "[1, 2, 3, 4]\n"
     ]
    }
   ],
   "source": [
    "result = l.append(4)\n",
    "print(l)\n",
    "result"
   ]
  },
  {
   "cell_type": "code",
   "execution_count": 47,
   "id": "b4783395",
   "metadata": {},
   "outputs": [
    {
     "name": "stdout",
     "output_type": "stream",
     "text": [
      "None\n"
     ]
    }
   ],
   "source": [
    "print(result)"
   ]
  },
  {
   "cell_type": "code",
   "execution_count": 48,
   "id": "1959500d",
   "metadata": {},
   "outputs": [
    {
     "name": "stdout",
     "output_type": "stream",
     "text": [
      "ADN\n"
     ]
    }
   ],
   "source": [
    "s = 'adn'\n",
    "result = s.upper()\n",
    "print(result)"
   ]
  },
  {
   "cell_type": "code",
   "execution_count": 49,
   "id": "d3576964",
   "metadata": {},
   "outputs": [],
   "source": [
    "from decimal import Decimal"
   ]
  },
  {
   "cell_type": "code",
   "execution_count": 50,
   "id": "ecfbad47",
   "metadata": {},
   "outputs": [
    {
     "data": {
      "text/plain": [
       "True"
      ]
     },
     "execution_count": 50,
     "metadata": {},
     "output_type": "execute_result"
    }
   ],
   "source": [
    "callable(Decimal)"
   ]
  },
  {
   "cell_type": "code",
   "execution_count": 51,
   "id": "10c453b5",
   "metadata": {},
   "outputs": [],
   "source": [
    "a = Decimal(10.5)"
   ]
  },
  {
   "cell_type": "code",
   "execution_count": 52,
   "id": "9d06c18a",
   "metadata": {},
   "outputs": [
    {
     "data": {
      "text/plain": [
       "Decimal('10.5')"
      ]
     },
     "execution_count": 52,
     "metadata": {},
     "output_type": "execute_result"
    }
   ],
   "source": [
    "a"
   ]
  },
  {
   "cell_type": "code",
   "execution_count": 53,
   "id": "994d48f5",
   "metadata": {},
   "outputs": [
    {
     "data": {
      "text/plain": [
       "decimal.Decimal"
      ]
     },
     "execution_count": 53,
     "metadata": {},
     "output_type": "execute_result"
    }
   ],
   "source": [
    "type(a)"
   ]
  },
  {
   "cell_type": "code",
   "execution_count": 54,
   "id": "a592ab75",
   "metadata": {},
   "outputs": [
    {
     "data": {
      "text/plain": [
       "False"
      ]
     },
     "execution_count": 54,
     "metadata": {},
     "output_type": "execute_result"
    }
   ],
   "source": [
    "callable(a)"
   ]
  },
  {
   "cell_type": "code",
   "execution_count": null,
   "id": "2c6b1a60",
   "metadata": {},
   "outputs": [],
   "source": []
  }
 ],
 "metadata": {
  "kernelspec": {
   "display_name": "Python 3 (ipykernel)",
   "language": "python",
   "name": "python3"
  },
  "language_info": {
   "codemirror_mode": {
    "name": "ipython",
    "version": 3
   },
   "file_extension": ".py",
   "mimetype": "text/x-python",
   "name": "python",
   "nbconvert_exporter": "python",
   "pygments_lexer": "ipython3",
   "version": "3.9.7"
  }
 },
 "nbformat": 4,
 "nbformat_minor": 5
}
