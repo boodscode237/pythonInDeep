{
 "cells": [
  {
   "cell_type": "markdown",
   "id": "440304e8",
   "metadata": {},
   "source": [
    "# Reducing Functions\n",
    "\n",
    "   It combines an iterable re ursively, and return a single value. It is also called `accumulator`, `aggregator` or `folding functions`."
   ]
  },
  {
   "cell_type": "code",
   "execution_count": 3,
   "id": "7f782567",
   "metadata": {},
   "outputs": [],
   "source": [
    "def max(a, b):\n",
    "    return a if a > b else b"
   ]
  },
  {
   "cell_type": "code",
   "execution_count": 5,
   "id": "beef55c2",
   "metadata": {},
   "outputs": [
    {
     "data": {
      "text/plain": [
       "5"
      ]
     },
     "execution_count": 5,
     "metadata": {},
     "output_type": "execute_result"
    }
   ],
   "source": [
    "max(5, 4)"
   ]
  },
  {
   "cell_type": "code",
   "execution_count": 6,
   "id": "2f63920a",
   "metadata": {},
   "outputs": [],
   "source": [
    "result = 15"
   ]
  },
  {
   "cell_type": "code",
   "execution_count": 7,
   "id": "09737bd6",
   "metadata": {},
   "outputs": [],
   "source": [
    "result = max(result, 16)"
   ]
  },
  {
   "cell_type": "code",
   "execution_count": 20,
   "id": "f65e3a18",
   "metadata": {},
   "outputs": [
    {
     "data": {
      "text/plain": [
       "5"
      ]
     },
     "execution_count": 20,
     "metadata": {},
     "output_type": "execute_result"
    }
   ],
   "source": [
    "result\n",
    "l = [36, 57, 69, 46, 58]\n",
    "len(l)"
   ]
  },
  {
   "cell_type": "code",
   "execution_count": 30,
   "id": "7ec1456d",
   "metadata": {},
   "outputs": [],
   "source": [
    "max_value = lambda a, b: a if a > b else b\n",
    "    "
   ]
  },
  {
   "cell_type": "code",
   "execution_count": 33,
   "id": "7284c9fa",
   "metadata": {},
   "outputs": [],
   "source": [
    "def max_sequence(sequence):\n",
    "    result = sequence[0]\n",
    "    for e in sequence[1:]:\n",
    "        result = max_value(result, e)\n",
    "    return result"
   ]
  },
  {
   "cell_type": "code",
   "execution_count": 34,
   "id": "e6341efd",
   "metadata": {},
   "outputs": [
    {
     "data": {
      "text/plain": [
       "69"
      ]
     },
     "execution_count": 34,
     "metadata": {},
     "output_type": "execute_result"
    }
   ],
   "source": [
    "max_sequence(l)"
   ]
  },
  {
   "cell_type": "code",
   "execution_count": 35,
   "id": "8eb4aae3",
   "metadata": {},
   "outputs": [],
   "source": [
    "def _reduce(fn, sequence):\n",
    "    result = sequence[0]\n",
    "    for x in sequence[1:]:\n",
    "        result = fn(result, x)\n",
    "    return result"
   ]
  },
  {
   "cell_type": "code",
   "execution_count": 36,
   "id": "77a759ef",
   "metadata": {},
   "outputs": [
    {
     "data": {
      "text/plain": [
       "69"
      ]
     },
     "execution_count": 36,
     "metadata": {},
     "output_type": "execute_result"
    }
   ],
   "source": [
    "_reduce(lambda a, b: a if a > b else b, l)"
   ]
  },
  {
   "cell_type": "code",
   "execution_count": 37,
   "id": "d84e64a6",
   "metadata": {},
   "outputs": [
    {
     "data": {
      "text/plain": [
       "36"
      ]
     },
     "execution_count": 37,
     "metadata": {},
     "output_type": "execute_result"
    }
   ],
   "source": [
    "_reduce(lambda a, b: a if a < b else b, l)"
   ]
  },
  {
   "cell_type": "code",
   "execution_count": 38,
   "id": "1db93aaf",
   "metadata": {},
   "outputs": [
    {
     "data": {
      "text/plain": [
       "266"
      ]
     },
     "execution_count": 38,
     "metadata": {},
     "output_type": "execute_result"
    }
   ],
   "source": [
    "add = lambda a, b: a+b\n",
    "_reduce(add, l)"
   ]
  },
  {
   "cell_type": "markdown",
   "id": "62ec0ec7",
   "metadata": {},
   "source": [
    "The functools module"
   ]
  },
  {
   "cell_type": "code",
   "execution_count": 39,
   "id": "56d0e63b",
   "metadata": {},
   "outputs": [],
   "source": [
    "from functools import reduce"
   ]
  },
  {
   "cell_type": "code",
   "execution_count": 40,
   "id": "57cd8506",
   "metadata": {},
   "outputs": [
    {
     "data": {
      "text/plain": [
       "69"
      ]
     },
     "execution_count": 40,
     "metadata": {},
     "output_type": "execute_result"
    }
   ],
   "source": [
    "reduce(lambda a, b: a if a > b else b, l)"
   ]
  },
  {
   "cell_type": "code",
   "execution_count": 41,
   "id": "f02ef786",
   "metadata": {},
   "outputs": [
    {
     "data": {
      "text/plain": [
       "36"
      ]
     },
     "execution_count": 41,
     "metadata": {},
     "output_type": "execute_result"
    }
   ],
   "source": [
    "reduce(lambda a, b: a if a < b else b, l)"
   ]
  },
  {
   "cell_type": "code",
   "execution_count": 42,
   "id": "23c77268",
   "metadata": {},
   "outputs": [
    {
     "data": {
      "text/plain": [
       "266"
      ]
     },
     "execution_count": 42,
     "metadata": {},
     "output_type": "execute_result"
    }
   ],
   "source": [
    "reduce(add, l)"
   ]
  },
  {
   "cell_type": "code",
   "execution_count": 43,
   "id": "df6b59f4",
   "metadata": {},
   "outputs": [],
   "source": [
    "s = {10, 5, 2, 4}"
   ]
  },
  {
   "cell_type": "code",
   "execution_count": 44,
   "id": "e1effee1",
   "metadata": {},
   "outputs": [
    {
     "data": {
      "text/plain": [
       "10"
      ]
     },
     "execution_count": 44,
     "metadata": {},
     "output_type": "execute_result"
    }
   ],
   "source": [
    "reduce(lambda a, b: a if a > b else b, s)"
   ]
  },
  {
   "cell_type": "code",
   "execution_count": 45,
   "id": "9081b8ac",
   "metadata": {},
   "outputs": [
    {
     "data": {
      "text/plain": [
       "2"
      ]
     },
     "execution_count": 45,
     "metadata": {},
     "output_type": "execute_result"
    }
   ],
   "source": [
    "reduce(lambda a, b: a if a < b else b, s)"
   ]
  },
  {
   "cell_type": "code",
   "execution_count": null,
   "id": "ee4f9b50",
   "metadata": {},
   "outputs": [],
   "source": []
  }
 ],
 "metadata": {
  "kernelspec": {
   "display_name": "Python 3 (ipykernel)",
   "language": "python",
   "name": "python3"
  },
  "language_info": {
   "codemirror_mode": {
    "name": "ipython",
    "version": 3
   },
   "file_extension": ".py",
   "mimetype": "text/x-python",
   "name": "python",
   "nbconvert_exporter": "python",
   "pygments_lexer": "ipython3",
   "version": "3.9.7"
  }
 },
 "nbformat": 4,
 "nbformat_minor": 5
}
