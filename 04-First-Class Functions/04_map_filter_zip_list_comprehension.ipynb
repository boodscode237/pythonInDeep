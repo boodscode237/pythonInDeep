{
 "cells": [
  {
   "cell_type": "markdown",
   "id": "b1b76df1",
   "metadata": {},
   "source": [
    "# Higher Order Function\n",
    "\n",
    "It is a function thst takes a function as a parameter and/or return a fucntion as its return value.\n",
    "\n",
    "Example:\n",
    "- sorted \n",
    "- map\n",
    "- filter"
   ]
  },
  {
   "cell_type": "markdown",
   "id": "508aecf7",
   "metadata": {},
   "source": [
    "# MAP\n",
    "\n",
    "\n",
    "```map(func, *iterables)```\n",
    "    \n",
    "    \n",
    "   - *iterables --> a variable number of iterable objects\n",
    "   - func --> some function that takes as many arguments as there are iterable objects passed to iterables"
   ]
  },
  {
   "cell_type": "code",
   "execution_count": 1,
   "id": "c9730bfe",
   "metadata": {},
   "outputs": [
    {
     "data": {
      "text/plain": [
       "[4, 9, 16]"
      ]
     },
     "execution_count": 1,
     "metadata": {},
     "output_type": "execute_result"
    }
   ],
   "source": [
    "l = [2, 3, 4]\n",
    "def sq(x):\n",
    "    return x**2\n",
    "\n",
    "list(map(sq, l))"
   ]
  },
  {
   "cell_type": "code",
   "execution_count": 31,
   "id": "b7270caf",
   "metadata": {},
   "outputs": [
    {
     "data": {
      "text/plain": [
       "[11, 22, 33, 8]"
      ]
     },
     "execution_count": 31,
     "metadata": {},
     "output_type": "execute_result"
    }
   ],
   "source": [
    "l1 = [1, 2, 3, -6]\n",
    "l2 = [10, 20, 30, 14]\n",
    "\n",
    "def add(x, y):\n",
    "    return x + y\n",
    "\n",
    "list(map(add, l1, l2))"
   ]
  },
  {
   "cell_type": "code",
   "execution_count": 32,
   "id": "1c39d0e9",
   "metadata": {},
   "outputs": [
    {
     "data": {
      "text/plain": [
       "[11, 22, 33, 8]"
      ]
     },
     "execution_count": 32,
     "metadata": {},
     "output_type": "execute_result"
    }
   ],
   "source": [
    "list(map(lambda x, y: x + y, l1, l2))"
   ]
  },
  {
   "cell_type": "markdown",
   "id": "4b2ee4fd",
   "metadata": {},
   "source": [
    "# Filter\n",
    "    filter(func, iterable)\n",
    "  - iterable -> a single iterable\n",
    "  - func -> some fnction that takes a single argument\n",
    "  \n",
    "`filter(func, iterable)` will return an iterator that contaiins all the elements of the iterable for which the function called on it is Thruthy."
   ]
  },
  {
   "cell_type": "code",
   "execution_count": 4,
   "id": "c3691ac6",
   "metadata": {},
   "outputs": [],
   "source": [
    "l = [0, 1, 2, 3, 4]"
   ]
  },
  {
   "cell_type": "code",
   "execution_count": 5,
   "id": "b553b134",
   "metadata": {},
   "outputs": [
    {
     "data": {
      "text/plain": [
       "[1, 2, 3, 4]"
      ]
     },
     "execution_count": 5,
     "metadata": {},
     "output_type": "execute_result"
    }
   ],
   "source": [
    "list(filter(None, l))"
   ]
  },
  {
   "cell_type": "code",
   "execution_count": 6,
   "id": "1e198cae",
   "metadata": {},
   "outputs": [],
   "source": [
    "def is_even(n):\n",
    "    return n% 2 ==0\n"
   ]
  },
  {
   "cell_type": "code",
   "execution_count": 7,
   "id": "cfaa1d63",
   "metadata": {},
   "outputs": [
    {
     "data": {
      "text/plain": [
       "[0, 2, 4]"
      ]
     },
     "execution_count": 7,
     "metadata": {},
     "output_type": "execute_result"
    }
   ],
   "source": [
    "list(filter(is_even, l))"
   ]
  },
  {
   "cell_type": "code",
   "execution_count": 8,
   "id": "57b0f8aa",
   "metadata": {},
   "outputs": [
    {
     "data": {
      "text/plain": [
       "[0, 2, 4]"
      ]
     },
     "execution_count": 8,
     "metadata": {},
     "output_type": "execute_result"
    }
   ],
   "source": [
    "list(filter(lambda n: n%2==0, l))"
   ]
  },
  {
   "cell_type": "markdown",
   "id": "3ade7d7e",
   "metadata": {},
   "source": [
    "# ZIP"
   ]
  },
  {
   "cell_type": "code",
   "execution_count": 9,
   "id": "f836f6a9",
   "metadata": {},
   "outputs": [
    {
     "data": {
      "text/plain": [
       "<zip at 0x1de0fb815c0>"
      ]
     },
     "execution_count": 9,
     "metadata": {},
     "output_type": "execute_result"
    }
   ],
   "source": [
    "a = [11, 22, 33]\n",
    "b = [1, 2, 3]\n",
    "c = 'python'\n",
    "\n",
    "zip(a,b,c)"
   ]
  },
  {
   "cell_type": "code",
   "execution_count": 10,
   "id": "ca1a92b4",
   "metadata": {},
   "outputs": [
    {
     "data": {
      "text/plain": [
       "[(11, 1, 'p'), (22, 2, 'y'), (33, 3, 't')]"
      ]
     },
     "execution_count": 10,
     "metadata": {},
     "output_type": "execute_result"
    }
   ],
   "source": [
    "list(zip(a, b, c))"
   ]
  },
  {
   "cell_type": "code",
   "execution_count": 33,
   "id": "2d54bd31",
   "metadata": {},
   "outputs": [
    {
     "name": "stdout",
     "output_type": "stream",
     "text": [
      "(11, 1, 'p')\n",
      "(22, 2, 'y')\n",
      "(33, 3, 't')\n"
     ]
    }
   ],
   "source": [
    "for i in list(zip(a, b, c)):\n",
    "    print(i)"
   ]
  },
  {
   "cell_type": "markdown",
   "id": "2d41b8b5",
   "metadata": {},
   "source": [
    "# LIST COMPREHENSION"
   ]
  },
  {
   "cell_type": "code",
   "execution_count": 11,
   "id": "668f0434",
   "metadata": {},
   "outputs": [
    {
     "data": {
      "text/plain": [
       "[0, 1, 4, 9, 16]"
      ]
     },
     "execution_count": 11,
     "metadata": {},
     "output_type": "execute_result"
    }
   ],
   "source": [
    "[x**2 for x in l]"
   ]
  },
  {
   "cell_type": "code",
   "execution_count": 12,
   "id": "ee042765",
   "metadata": {},
   "outputs": [
    {
     "data": {
      "text/plain": [
       "[12, 24, 36]"
      ]
     },
     "execution_count": 12,
     "metadata": {},
     "output_type": "execute_result"
    }
   ],
   "source": [
    "[x + y for x, y in zip(a, b)]"
   ]
  },
  {
   "cell_type": "code",
   "execution_count": 13,
   "id": "6adbcbe2",
   "metadata": {},
   "outputs": [
    {
     "data": {
      "text/plain": [
       "[0, 2, 4]"
      ]
     },
     "execution_count": 13,
     "metadata": {},
     "output_type": "execute_result"
    }
   ],
   "source": [
    "[x for x in l if x % 2 == 0 ]"
   ]
  },
  {
   "cell_type": "markdown",
   "id": "8350e587",
   "metadata": {},
   "source": [
    "```\n",
    "[<expression> for <varname> in <iterable> if <expression>]\n",
    "```"
   ]
  },
  {
   "cell_type": "code",
   "execution_count": 14,
   "id": "da27b686",
   "metadata": {},
   "outputs": [],
   "source": [
    "def fact(n):\n",
    "    return 1 if n < 2 else n * fact(n-1)"
   ]
  },
  {
   "cell_type": "code",
   "execution_count": 15,
   "id": "fdb5611e",
   "metadata": {},
   "outputs": [
    {
     "data": {
      "text/plain": [
       "120"
      ]
     },
     "execution_count": 15,
     "metadata": {},
     "output_type": "execute_result"
    }
   ],
   "source": [
    "fact(5)"
   ]
  },
  {
   "cell_type": "code",
   "execution_count": 16,
   "id": "a85f57cf",
   "metadata": {},
   "outputs": [
    {
     "data": {
      "text/plain": [
       "403291461126605635584000000"
      ]
     },
     "execution_count": 16,
     "metadata": {},
     "output_type": "execute_result"
    }
   ],
   "source": [
    "fact(26)"
   ]
  },
  {
   "cell_type": "code",
   "execution_count": 17,
   "id": "3475fc1c",
   "metadata": {},
   "outputs": [
    {
     "data": {
      "text/plain": [
       "<map at 0x1de0fbb4b80>"
      ]
     },
     "execution_count": 17,
     "metadata": {},
     "output_type": "execute_result"
    }
   ],
   "source": [
    "map(fact, [1, 2, 3, 4, 5])"
   ]
  },
  {
   "cell_type": "code",
   "execution_count": 18,
   "id": "914ccb00",
   "metadata": {},
   "outputs": [
    {
     "data": {
      "text/plain": [
       "[1, 2, 6, 24, 120]"
      ]
     },
     "execution_count": 18,
     "metadata": {},
     "output_type": "execute_result"
    }
   ],
   "source": [
    "list(map(fact, [1, 2, 3, 4, 5]))"
   ]
  },
  {
   "cell_type": "code",
   "execution_count": 19,
   "id": "b2e6cb8d",
   "metadata": {},
   "outputs": [],
   "source": [
    "# Map\n",
    "l = [20, 56, 23]\n",
    "result = list(map(lambda x, y: x+y, a, b))"
   ]
  },
  {
   "cell_type": "code",
   "execution_count": 20,
   "id": "de12e7b1",
   "metadata": {},
   "outputs": [
    {
     "data": {
      "text/plain": [
       "[12, 24, 36]"
      ]
     },
     "execution_count": 20,
     "metadata": {},
     "output_type": "execute_result"
    }
   ],
   "source": [
    "result"
   ]
  },
  {
   "cell_type": "code",
   "execution_count": 21,
   "id": "2b0f79f1",
   "metadata": {},
   "outputs": [],
   "source": [
    "results = map(lambda x, y, z: x+y+z, a, b, l)"
   ]
  },
  {
   "cell_type": "code",
   "execution_count": 22,
   "id": "e7e52897",
   "metadata": {},
   "outputs": [
    {
     "data": {
      "text/plain": [
       "<map at 0x1de0fbbe460>"
      ]
     },
     "execution_count": 22,
     "metadata": {},
     "output_type": "execute_result"
    }
   ],
   "source": [
    "results\n"
   ]
  },
  {
   "cell_type": "code",
   "execution_count": 23,
   "id": "ca31a2db",
   "metadata": {},
   "outputs": [
    {
     "name": "stdout",
     "output_type": "stream",
     "text": [
      "32\n",
      "80\n",
      "59\n"
     ]
    },
    {
     "data": {
      "text/plain": [
       "[None, None, None]"
      ]
     },
     "execution_count": 23,
     "metadata": {},
     "output_type": "execute_result"
    }
   ],
   "source": [
    "[print(x) for x in results]"
   ]
  },
  {
   "cell_type": "code",
   "execution_count": 24,
   "id": "a8ea0c65",
   "metadata": {},
   "outputs": [],
   "source": [
    "x = range(25)"
   ]
  },
  {
   "cell_type": "code",
   "execution_count": 25,
   "id": "2861db77",
   "metadata": {},
   "outputs": [
    {
     "data": {
      "text/plain": [
       "range(0, 25)"
      ]
     },
     "execution_count": 25,
     "metadata": {},
     "output_type": "execute_result"
    }
   ],
   "source": [
    "x"
   ]
  },
  {
   "cell_type": "code",
   "execution_count": 26,
   "id": "8e8c40f6",
   "metadata": {},
   "outputs": [
    {
     "data": {
      "text/plain": [
       "[0,\n",
       " 1,\n",
       " 2,\n",
       " 3,\n",
       " 4,\n",
       " 5,\n",
       " 6,\n",
       " 7,\n",
       " 8,\n",
       " 9,\n",
       " 10,\n",
       " 11,\n",
       " 12,\n",
       " 13,\n",
       " 14,\n",
       " 15,\n",
       " 16,\n",
       " 17,\n",
       " 18,\n",
       " 19,\n",
       " 20,\n",
       " 21,\n",
       " 22,\n",
       " 23,\n",
       " 24]"
      ]
     },
     "execution_count": 26,
     "metadata": {},
     "output_type": "execute_result"
    }
   ],
   "source": [
    "[i for i in x]"
   ]
  },
  {
   "cell_type": "code",
   "execution_count": 27,
   "id": "be2a05a8",
   "metadata": {},
   "outputs": [
    {
     "data": {
      "text/plain": [
       "[0, 3, 6, 9, 12, 15, 18, 21, 24]"
      ]
     },
     "execution_count": 27,
     "metadata": {},
     "output_type": "execute_result"
    }
   ],
   "source": [
    "list(filter(lambda x: x%3==0, x))"
   ]
  },
  {
   "cell_type": "code",
   "execution_count": 28,
   "id": "189d38a5",
   "metadata": {},
   "outputs": [
    {
     "data": {
      "text/plain": [
       "[1, 5, 12, 6, True]"
      ]
     },
     "execution_count": 28,
     "metadata": {},
     "output_type": "execute_result"
    }
   ],
   "source": [
    "list(filter(None, [1, 0, 5,12, 6, \"\", False, True]))"
   ]
  },
  {
   "cell_type": "code",
   "execution_count": null,
   "id": "9885d5b9",
   "metadata": {},
   "outputs": [],
   "source": []
  }
 ],
 "metadata": {
  "kernelspec": {
   "display_name": "Python 3 (ipykernel)",
   "language": "python",
   "name": "python3"
  },
  "language_info": {
   "codemirror_mode": {
    "name": "ipython",
    "version": 3
   },
   "file_extension": ".py",
   "mimetype": "text/x-python",
   "name": "python",
   "nbconvert_exporter": "python",
   "pygments_lexer": "ipython3",
   "version": "3.9.7"
  }
 },
 "nbformat": 4,
 "nbformat_minor": 5
}
