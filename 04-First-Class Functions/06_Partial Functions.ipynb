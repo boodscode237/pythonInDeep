{
 "cells": [
  {
   "cell_type": "markdown",
   "id": "efd39760",
   "metadata": {},
   "source": [
    "# Partial Functions"
   ]
  },
  {
   "cell_type": "markdown",
   "id": "e6ca9746",
   "metadata": {},
   "source": [
    "The goal is to reduce functions arguments"
   ]
  },
  {
   "cell_type": "code",
   "execution_count": 3,
   "id": "acbc32d6",
   "metadata": {
    "ExecuteTime": {
     "end_time": "2023-08-01T12:59:49.355061Z",
     "start_time": "2023-08-01T12:59:49.298888400Z"
    }
   },
   "outputs": [],
   "source": [
    "def my_func(a, b, c):\n",
    "    print(a, b, c)"
   ]
  },
  {
   "cell_type": "code",
   "execution_count": 4,
   "id": "9550b6ce",
   "metadata": {
    "ExecuteTime": {
     "end_time": "2023-08-01T12:59:49.377062300Z",
     "start_time": "2023-08-01T12:59:49.316063700Z"
    }
   },
   "outputs": [],
   "source": [
    "def fn(b, c):\n",
    "    return my_func(10, b, c)"
   ]
  },
  {
   "cell_type": "code",
   "execution_count": 5,
   "id": "4ba7f574",
   "metadata": {
    "ExecuteTime": {
     "end_time": "2023-08-01T12:59:49.381060800Z",
     "start_time": "2023-08-01T12:59:49.331063500Z"
    }
   },
   "outputs": [
    {
     "name": "stdout",
     "output_type": "stream",
     "text": [
      "10 20 30\n"
     ]
    }
   ],
   "source": [
    "fn(20, 30)"
   ]
  },
  {
   "cell_type": "code",
   "execution_count": 6,
   "id": "330ccaa8",
   "metadata": {
    "ExecuteTime": {
     "end_time": "2023-08-01T12:59:49.382062900Z",
     "start_time": "2023-08-01T12:59:49.347062300Z"
    }
   },
   "outputs": [],
   "source": [
    "f = lambda b, c: my_func(10, b, c)"
   ]
  },
  {
   "cell_type": "code",
   "execution_count": 7,
   "id": "34d09104",
   "metadata": {
    "ExecuteTime": {
     "end_time": "2023-08-01T12:59:49.385059600Z",
     "start_time": "2023-08-01T12:59:49.367062300Z"
    }
   },
   "outputs": [],
   "source": [
    "from functools import partial"
   ]
  },
  {
   "cell_type": "code",
   "execution_count": 8,
   "id": "a350ea28",
   "metadata": {
    "ExecuteTime": {
     "end_time": "2023-08-01T12:59:49.477309900Z",
     "start_time": "2023-08-01T12:59:49.381060800Z"
    }
   },
   "outputs": [],
   "source": [
    "f = partial(my_func, 10)"
   ]
  },
  {
   "cell_type": "code",
   "execution_count": 12,
   "id": "8a27187a",
   "metadata": {
    "ExecuteTime": {
     "end_time": "2023-08-01T12:59:49.494312400Z",
     "start_time": "2023-08-01T12:59:49.396072200Z"
    }
   },
   "outputs": [
    {
     "name": "stdout",
     "output_type": "stream",
     "text": [
      "10 12 15\n"
     ]
    }
   ],
   "source": [
    "f(12, 15)"
   ]
  },
  {
   "cell_type": "code",
   "execution_count": 13,
   "id": "e8ee51f7",
   "metadata": {
    "ExecuteTime": {
     "end_time": "2023-08-01T12:59:49.495312200Z",
     "start_time": "2023-08-01T12:59:49.410305700Z"
    }
   },
   "outputs": [],
   "source": [
    "def my_func(a, b, *args, k1, k2, **kwargs):\n",
    "    print(a, b, args, k1, k2, kwargs)\n",
    "    \n",
    "\n",
    "def f(b, *args, k2, **kwargs):\n",
    "    return my_func(10, b, *args, k1='a', k2=k2, **kwargs)\n",
    "    "
   ]
  },
  {
   "cell_type": "code",
   "execution_count": 14,
   "id": "cebe46a2",
   "metadata": {},
   "outputs": [],
   "source": [
    "f = partial(my_func, 10, k='a')"
   ]
  },
  {
   "cell_type": "code",
   "execution_count": 19,
   "id": "4a3f1c55",
   "metadata": {},
   "outputs": [],
   "source": [
    "def pow(base, exponent):\n",
    "    return base ** exponent"
   ]
  },
  {
   "cell_type": "code",
   "execution_count": 20,
   "id": "ae4b20ff",
   "metadata": {},
   "outputs": [],
   "source": [
    "square = partial(pow, exponent=2)\n",
    "cube = partial(pow, exponent=3)"
   ]
  },
  {
   "cell_type": "code",
   "execution_count": 21,
   "id": "7c6da815",
   "metadata": {},
   "outputs": [
    {
     "data": {
      "text/plain": [
       "25"
      ]
     },
     "execution_count": 21,
     "metadata": {},
     "output_type": "execute_result"
    }
   ],
   "source": [
    "square(5)"
   ]
  },
  {
   "cell_type": "code",
   "execution_count": 22,
   "id": "b5b8e80e",
   "metadata": {},
   "outputs": [
    {
     "data": {
      "text/plain": [
       "125"
      ]
     },
     "execution_count": 22,
     "metadata": {},
     "output_type": "execute_result"
    }
   ],
   "source": [
    "cube(5)"
   ]
  },
  {
   "cell_type": "code",
   "execution_count": null,
   "id": "9abe0761",
   "metadata": {},
   "outputs": [],
   "source": []
  }
 ],
 "metadata": {
  "kernelspec": {
   "display_name": "Python 3 (ipykernel)",
   "language": "python",
   "name": "python3"
  },
  "language_info": {
   "codemirror_mode": {
    "name": "ipython",
    "version": 3
   },
   "file_extension": ".py",
   "mimetype": "text/x-python",
   "name": "python",
   "nbconvert_exporter": "python",
   "pygments_lexer": "ipython3",
   "version": "3.9.7"
  }
 },
 "nbformat": 4,
 "nbformat_minor": 5
}
