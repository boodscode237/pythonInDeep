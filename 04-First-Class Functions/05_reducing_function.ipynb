{
 "cells": [
  {
   "cell_type": "markdown",
   "id": "fe9c685d",
   "metadata": {},
   "source": [
    "# Reducing Functions\n",
    "\n",
    "   It combines an iterable re ursively, and return a single value. It is also called `accumulator`, `aggregator` or `folding functions`."
   ]
  },
  {
   "cell_type": "code",
   "execution_count": 1,
   "id": "e2b5c5ea",
   "metadata": {},
   "outputs": [],
   "source": [
    "def max_(a, b):\n",
    "    return a if a > b else b"
   ]
  },
  {
   "cell_type": "code",
   "execution_count": 2,
   "id": "41ea4d29",
   "metadata": {},
   "outputs": [
    {
     "data": {
      "text/plain": [
       "5"
      ]
     },
     "execution_count": 2,
     "metadata": {},
     "output_type": "execute_result"
    }
   ],
   "source": [
    "max_(5, 4)"
   ]
  },
  {
   "cell_type": "code",
   "execution_count": 37,
   "id": "3ee34101",
   "metadata": {},
   "outputs": [],
   "source": [
    "result = 15"
   ]
  },
  {
   "cell_type": "code",
   "execution_count": 38,
   "id": "2570ccc1",
   "metadata": {},
   "outputs": [],
   "source": [
    "result = max(result, 16)"
   ]
  },
  {
   "cell_type": "code",
   "execution_count": 39,
   "id": "16891508",
   "metadata": {},
   "outputs": [
    {
     "data": {
      "text/plain": [
       "5"
      ]
     },
     "execution_count": 39,
     "metadata": {},
     "output_type": "execute_result"
    }
   ],
   "source": [
    "result\n",
    "l = [36, 57, 69, 46, 58]\n",
    "len(l)"
   ]
  },
  {
   "cell_type": "code",
   "execution_count": 40,
   "id": "00b82c34",
   "metadata": {},
   "outputs": [],
   "source": [
    "max_value = lambda a, b: a if a > b else b\n",
    "    "
   ]
  },
  {
   "cell_type": "code",
   "execution_count": 47,
   "id": "ec117cf8",
   "metadata": {},
   "outputs": [],
   "source": [
    "def max_sequence(sequence):\n",
    "    result = sequence[0]\n",
    "    for e in sequence[1:]:\n",
    "        result = max_value(result, e)\n",
    "    return result"
   ]
  },
  {
   "cell_type": "code",
   "execution_count": 48,
   "id": "65a3e761",
   "metadata": {},
   "outputs": [
    {
     "data": {
      "text/plain": [
       "69"
      ]
     },
     "execution_count": 48,
     "metadata": {},
     "output_type": "execute_result"
    }
   ],
   "source": [
    "max_sequence(l)"
   ]
  },
  {
   "cell_type": "code",
   "execution_count": 49,
   "id": "56812410",
   "metadata": {},
   "outputs": [],
   "source": [
    "def _reduce(fn, sequence):\n",
    "    result = sequence[0]\n",
    "    for x in sequence[1:]:\n",
    "        result = fn(result, x)\n",
    "    return result"
   ]
  },
  {
   "cell_type": "code",
   "execution_count": 50,
   "id": "130d9b84",
   "metadata": {},
   "outputs": [
    {
     "data": {
      "text/plain": [
       "69"
      ]
     },
     "execution_count": 50,
     "metadata": {},
     "output_type": "execute_result"
    }
   ],
   "source": [
    "_reduce(lambda a, b: a if a > b else b, l)"
   ]
  },
  {
   "cell_type": "code",
   "execution_count": 11,
   "id": "5a75bb2c",
   "metadata": {},
   "outputs": [
    {
     "data": {
      "text/plain": [
       "36"
      ]
     },
     "execution_count": 11,
     "metadata": {},
     "output_type": "execute_result"
    }
   ],
   "source": [
    "_reduce(lambda a, b: a if a < b else b, l)"
   ]
  },
  {
   "cell_type": "code",
   "execution_count": 12,
   "id": "30554317",
   "metadata": {},
   "outputs": [
    {
     "data": {
      "text/plain": [
       "266"
      ]
     },
     "execution_count": 12,
     "metadata": {},
     "output_type": "execute_result"
    }
   ],
   "source": [
    "add = lambda a, b: a+b\n",
    "_reduce(add, l)"
   ]
  },
  {
   "cell_type": "markdown",
   "id": "b66576d2",
   "metadata": {},
   "source": [
    "The functools module"
   ]
  },
  {
   "cell_type": "code",
   "execution_count": 53,
   "id": "f0acbad2",
   "metadata": {},
   "outputs": [],
   "source": [
    "from functools import reduce"
   ]
  },
  {
   "cell_type": "code",
   "execution_count": 54,
   "id": "5600e4b0",
   "metadata": {},
   "outputs": [
    {
     "data": {
      "text/plain": [
       "69"
      ]
     },
     "execution_count": 54,
     "metadata": {},
     "output_type": "execute_result"
    }
   ],
   "source": [
    "reduce(lambda a, b: a if a > b else b, l)"
   ]
  },
  {
   "cell_type": "code",
   "execution_count": 55,
   "id": "efa0f180",
   "metadata": {},
   "outputs": [
    {
     "data": {
      "text/plain": [
       "36"
      ]
     },
     "execution_count": 55,
     "metadata": {},
     "output_type": "execute_result"
    }
   ],
   "source": [
    "reduce(lambda a, b: a if a < b else b, l)"
   ]
  },
  {
   "cell_type": "code",
   "execution_count": 16,
   "id": "5e462e12",
   "metadata": {},
   "outputs": [
    {
     "data": {
      "text/plain": [
       "266"
      ]
     },
     "execution_count": 16,
     "metadata": {},
     "output_type": "execute_result"
    }
   ],
   "source": [
    "reduce(add, l)"
   ]
  },
  {
   "cell_type": "code",
   "execution_count": 17,
   "id": "e095d39f",
   "metadata": {},
   "outputs": [],
   "source": [
    "s = {10, 5, 2, 4}"
   ]
  },
  {
   "cell_type": "code",
   "execution_count": 18,
   "id": "8d80319e",
   "metadata": {},
   "outputs": [
    {
     "data": {
      "text/plain": [
       "10"
      ]
     },
     "execution_count": 18,
     "metadata": {},
     "output_type": "execute_result"
    }
   ],
   "source": [
    "reduce(lambda a, b: a if a > b else b, s)"
   ]
  },
  {
   "cell_type": "code",
   "execution_count": 19,
   "id": "6137422c",
   "metadata": {},
   "outputs": [
    {
     "data": {
      "text/plain": [
       "2"
      ]
     },
     "execution_count": 19,
     "metadata": {},
     "output_type": "execute_result"
    }
   ],
   "source": [
    "reduce(lambda a, b: a if a < b else b, s)"
   ]
  },
  {
   "cell_type": "code",
   "execution_count": 20,
   "id": "3930007f",
   "metadata": {},
   "outputs": [
    {
     "data": {
      "text/plain": [
       "'le  car  qui  part'"
      ]
     },
     "execution_count": 20,
     "metadata": {},
     "output_type": "execute_result"
    }
   ],
   "source": [
    "reduce(lambda a, b: a + \"  \" + b, (\"le\", 'car', 'qui', 'part'))"
   ]
  },
  {
   "cell_type": "code",
   "execution_count": 21,
   "id": "63c9a452",
   "metadata": {},
   "outputs": [
    {
     "data": {
      "text/plain": [
       "'car'"
      ]
     },
     "execution_count": 21,
     "metadata": {},
     "output_type": "execute_result"
    }
   ],
   "source": [
    "min((\"le\", 'car', 'qui', 'part'))"
   ]
  },
  {
   "cell_type": "code",
   "execution_count": 22,
   "id": "7854bc74",
   "metadata": {},
   "outputs": [
    {
     "data": {
      "text/plain": [
       "21"
      ]
     },
     "execution_count": 22,
     "metadata": {},
     "output_type": "execute_result"
    }
   ],
   "source": [
    "sum(s)"
   ]
  },
  {
   "cell_type": "code",
   "execution_count": 23,
   "id": "6267c2ae",
   "metadata": {},
   "outputs": [
    {
     "data": {
      "text/plain": [
       "2"
      ]
     },
     "execution_count": 23,
     "metadata": {},
     "output_type": "execute_result"
    }
   ],
   "source": [
    "min(s)"
   ]
  },
  {
   "cell_type": "code",
   "execution_count": 24,
   "id": "d4208fbd",
   "metadata": {},
   "outputs": [
    {
     "data": {
      "text/plain": [
       "True"
      ]
     },
     "execution_count": 24,
     "metadata": {},
     "output_type": "execute_result"
    }
   ],
   "source": [
    "any(l)"
   ]
  },
  {
   "cell_type": "code",
   "execution_count": 25,
   "id": "ca1c2d60",
   "metadata": {},
   "outputs": [
    {
     "data": {
      "text/plain": [
       "True"
      ]
     },
     "execution_count": 25,
     "metadata": {},
     "output_type": "execute_result"
    }
   ],
   "source": [
    "all(l)"
   ]
  },
  {
   "cell_type": "code",
   "execution_count": 26,
   "id": "2f4d834f",
   "metadata": {},
   "outputs": [
    {
     "data": {
      "text/plain": [
       "5"
      ]
     },
     "execution_count": 26,
     "metadata": {},
     "output_type": "execute_result"
    }
   ],
   "source": [
    "533//100"
   ]
  },
  {
   "cell_type": "code",
   "execution_count": 27,
   "id": "7c5fcd83",
   "metadata": {},
   "outputs": [
    {
     "data": {
      "text/plain": [
       "33"
      ]
     },
     "execution_count": 27,
     "metadata": {},
     "output_type": "execute_result"
    }
   ],
   "source": [
    "533 % 100"
   ]
  },
  {
   "cell_type": "code",
   "execution_count": 28,
   "id": "5937a454",
   "metadata": {},
   "outputs": [
    {
     "name": "stdout",
     "output_type": "stream",
     "text": [
      "7, 46\n"
     ]
    }
   ],
   "source": [
    "class PiggyBank:\n",
    "    # create __init__ and add_money methods\n",
    "    def __init__(self, dollars, cents):\n",
    "        self.dollars = dollars\n",
    "        self.cents = cents\n",
    "\n",
    "    def add_money(self, deposit_dollars, deposit_cents):\n",
    "        self.dollars = deposit_dollars\n",
    "        while self.cents <= 99:\n",
    "            self.cents += deposit_cents\n",
    "            if self.cents > 99:\n",
    "                self.dollars += self.cents // 100\n",
    "                self.cents = self.cents % 100\n",
    "                break\n",
    "        print(f\"{self.dollars}, {self.cents}\")\n",
    "\n",
    "\n",
    "\n",
    "PiggyBank(0, 24).add_money(2, 522)\n",
    "\n",
    "\n",
    "\n",
    "\n",
    "\n"
   ]
  },
  {
   "cell_type": "code",
   "execution_count": 29,
   "id": "eab447ff",
   "metadata": {},
   "outputs": [
    {
     "data": {
      "text/plain": [
       "True"
      ]
     },
     "execution_count": 29,
     "metadata": {},
     "output_type": "execute_result"
    }
   ],
   "source": [
    "reduce(lambda a, b: bool(a) or bool(b), l)"
   ]
  },
  {
   "cell_type": "code",
   "execution_count": 30,
   "id": "746214d8",
   "metadata": {},
   "outputs": [
    {
     "data": {
      "text/plain": [
       "377756784"
      ]
     },
     "execution_count": 30,
     "metadata": {},
     "output_type": "execute_result"
    }
   ],
   "source": [
    "nums = [1, 5, 6, 4]\n",
    "reduce(lambda a, b: a * b, l)"
   ]
  },
  {
   "cell_type": "code",
   "execution_count": 31,
   "id": "5f9f642c",
   "metadata": {},
   "outputs": [
    {
     "data": {
      "text/plain": [
       "120"
      ]
     },
     "execution_count": 31,
     "metadata": {},
     "output_type": "execute_result"
    }
   ],
   "source": [
    "l = range(1, 6)\n",
    "reduce(lambda a, b: a * b, l)"
   ]
  },
  {
   "cell_type": "code",
   "execution_count": null,
   "id": "1eae17e1",
   "metadata": {},
   "outputs": [],
   "source": []
  }
 ],
 "metadata": {
  "kernelspec": {
   "display_name": "Python 3 (ipykernel)",
   "language": "python",
   "name": "python3"
  },
  "language_info": {
   "codemirror_mode": {
    "name": "ipython",
    "version": 3
   },
   "file_extension": ".py",
   "mimetype": "text/x-python",
   "name": "python",
   "nbconvert_exporter": "python",
   "pygments_lexer": "ipython3",
   "version": "3.9.7"
  }
 },
 "nbformat": 4,
 "nbformat_minor": 5
}
