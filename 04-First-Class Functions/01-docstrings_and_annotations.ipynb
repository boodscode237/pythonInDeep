{
 "cells": [
  {
   "cell_type": "markdown",
   "source": [
    "## FIRST CLASS FUNCTION"
   ],
   "metadata": {
    "collapsed": false
   }
  },
  {
   "cell_type": "markdown",
   "source": [
    "An object is a first class function if:\n",
    " - it can be pass to a function as an argument.\n",
    " - can be return to a function\n",
    " - can be assign to a variable\n",
    " - can be stored in a data structure\n",
    "\n",
    "``Higher Order Functions`` are functions that:\n",
    "   - take a function as an argument;\n",
    "    and/or:\n",
    "   - return a function"
   ],
   "metadata": {
    "collapsed": false
   }
  },
  {
   "cell_type": "markdown",
   "source": [
    "## DOCSTRING"
   ],
   "metadata": {
    "collapsed": false
   }
  },
  {
   "cell_type": "markdown",
   "source": [
    "The docstring are stored in the function's ```__doc__``` property or with ```help(func)```.\n",
    "To add documentation to our function we use: `PEP 3107`this method is called `annotation`\n",
    "```\n",
    "def my_func(a: <expression>, b: <expression>) -> <expression>:\n",
    "    pass\n",
    "```\n",
    "This way is only visible with the ``help()`` method and ```___annotations__``` method.\n",
    "``___annotations__`` method returns a dictionary.\n",
    "Docstrings and annotations doesn't affect the code."
   ],
   "metadata": {
    "collapsed": false
   }
  },
  {
   "cell_type": "markdown",
   "source": [
    "## PRACTICE"
   ],
   "metadata": {
    "collapsed": false
   }
  },
  {
   "cell_type": "code",
   "execution_count": 15,
   "outputs": [],
   "source": [
    "def my_func(a, b=1):\n",
    "    \"\"\"\n",
    "    returns a and b\n",
    "    \"\"\"\n",
    "    return a * b"
   ],
   "metadata": {
    "collapsed": false,
    "ExecuteTime": {
     "start_time": "2023-04-29T13:09:44.400207Z",
     "end_time": "2023-04-29T13:09:44.407204Z"
    }
   }
  },
  {
   "cell_type": "code",
   "execution_count": 16,
   "outputs": [
    {
     "name": "stdout",
     "output_type": "stream",
     "text": [
      "Help on function my_func in module __main__:\n",
      "\n",
      "my_func(a, b=1)\n",
      "    returns a and b\n",
      "\n"
     ]
    }
   ],
   "source": [
    "help(my_func)"
   ],
   "metadata": {
    "collapsed": false,
    "ExecuteTime": {
     "start_time": "2023-04-29T13:09:45.169008Z",
     "end_time": "2023-04-29T13:09:45.212011Z"
    }
   }
  },
  {
   "cell_type": "code",
   "execution_count": 17,
   "outputs": [
    {
     "data": {
      "text/plain": "'\\n    returns a and b\\n    '"
     },
     "execution_count": 17,
     "metadata": {},
     "output_type": "execute_result"
    }
   ],
   "source": [
    "my_func.__doc__"
   ],
   "metadata": {
    "collapsed": false,
    "ExecuteTime": {
     "start_time": "2023-04-29T13:09:45.910278Z",
     "end_time": "2023-04-29T13:09:45.928276Z"
    }
   }
  },
  {
   "cell_type": "code",
   "execution_count": 18,
   "outputs": [],
   "source": [
    "def my_func(a: 'annotation for a', b: int = 1) -> 'annotation for return':\n",
    "    \"\"\"\n",
    "    returns a and b\n",
    "    \"\"\"\n",
    "    return a * b"
   ],
   "metadata": {
    "collapsed": false,
    "ExecuteTime": {
     "start_time": "2023-04-29T13:09:46.762647Z",
     "end_time": "2023-04-29T13:09:46.778646Z"
    }
   }
  },
  {
   "cell_type": "code",
   "execution_count": 19,
   "outputs": [
    {
     "name": "stdout",
     "output_type": "stream",
     "text": [
      "Help on function my_func in module __main__:\n",
      "\n",
      "my_func(a: 'annotation for a', b: int = 1) -> 'annotation for return'\n",
      "    returns a and b\n",
      "\n"
     ]
    }
   ],
   "source": [
    "help(my_func)"
   ],
   "metadata": {
    "collapsed": false,
    "ExecuteTime": {
     "start_time": "2023-04-29T13:09:47.871191Z",
     "end_time": "2023-04-29T13:09:47.899507Z"
    }
   }
  },
  {
   "cell_type": "code",
   "execution_count": 20,
   "outputs": [
    {
     "data": {
      "text/plain": "'\\n    returns a and b\\n    '"
     },
     "execution_count": 20,
     "metadata": {},
     "output_type": "execute_result"
    }
   ],
   "source": [
    "my_func.__doc__"
   ],
   "metadata": {
    "collapsed": false,
    "ExecuteTime": {
     "start_time": "2023-04-29T13:09:48.650617Z",
     "end_time": "2023-04-29T13:09:48.685148Z"
    }
   }
  },
  {
   "cell_type": "code",
   "execution_count": 21,
   "outputs": [
    {
     "data": {
      "text/plain": "{'a': 'annotation for a', 'b': int, 'return': 'annotation for return'}"
     },
     "execution_count": 21,
     "metadata": {},
     "output_type": "execute_result"
    }
   ],
   "source": [
    "my_func.__annotations__"
   ],
   "metadata": {
    "collapsed": false,
    "ExecuteTime": {
     "start_time": "2023-04-29T13:09:49.319458Z",
     "end_time": "2023-04-29T13:09:49.349466Z"
    }
   }
  },
  {
   "cell_type": "code",
   "execution_count": null,
   "outputs": [],
   "source": [],
   "metadata": {
    "collapsed": false
   }
  }
 ],
 "metadata": {
  "kernelspec": {
   "display_name": "Python 3",
   "language": "python",
   "name": "python3"
  },
  "language_info": {
   "codemirror_mode": {
    "name": "ipython",
    "version": 2
   },
   "file_extension": ".py",
   "mimetype": "text/x-python",
   "name": "python",
   "nbconvert_exporter": "python",
   "pygments_lexer": "ipython2",
   "version": "2.7.6"
  }
 },
 "nbformat": 4,
 "nbformat_minor": 0
}
