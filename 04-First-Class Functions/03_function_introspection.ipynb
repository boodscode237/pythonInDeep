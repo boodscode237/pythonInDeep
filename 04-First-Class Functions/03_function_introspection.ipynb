{
 "cells": [
  {
   "cell_type": "markdown",
   "id": "80db349a",
   "metadata": {},
   "source": [
    "# Function introspection"
   ]
  },
  {
   "cell_type": "markdown",
   "id": "e1dbf5d1",
   "metadata": {},
   "source": [
    "It is using code to analyse function.\n",
    "    functions have attributes: `__doc__` and `__annotations__`.\n",
    "We can attach our own atrributes:\n",
    "```\n",
    "def my_func(a, b):\n",
    "    pass\n",
    "    \n",
    "my_func.category = \"math\"\n",
    "my_func.sub_category = \"arithmatic\"\n",
    "```\n",
    "The `dir()` function helps that given an object as an argument, will return a list of valid attributes for that object.\n",
    " - `__name__` -> name of the function\n",
    " - `__defalts__` -> tuple containing positional parameters defaults\n",
    " - `__kwdefalts__` -> tuple containing keyword-only parameters defaults\n",
    " `__code__` -> objects with fnction various properties (co_varnames, co_argcount)"
   ]
  },
  {
   "cell_type": "code",
   "execution_count": 5,
   "id": "d8314d6c",
   "metadata": {},
   "outputs": [],
   "source": [
    "def my_func(a, b):\n",
    "    pass\n",
    "    \n",
    "my_func.category = \"math\"\n",
    "my_func.sub_category = \"arithmatic\""
   ]
  },
  {
   "cell_type": "code",
   "execution_count": 6,
   "id": "653fc1df",
   "metadata": {},
   "outputs": [
    {
     "data": {
      "text/plain": [
       "'math'"
      ]
     },
     "execution_count": 6,
     "metadata": {},
     "output_type": "execute_result"
    }
   ],
   "source": [
    "my_func.category"
   ]
  },
  {
   "cell_type": "code",
   "execution_count": 7,
   "id": "b9988135",
   "metadata": {
    "scrolled": true
   },
   "outputs": [
    {
     "data": {
      "text/plain": [
       "['__annotations__',\n",
       " '__call__',\n",
       " '__class__',\n",
       " '__closure__',\n",
       " '__code__',\n",
       " '__defaults__',\n",
       " '__delattr__',\n",
       " '__dict__',\n",
       " '__dir__',\n",
       " '__doc__',\n",
       " '__eq__',\n",
       " '__format__',\n",
       " '__ge__',\n",
       " '__get__',\n",
       " '__getattribute__',\n",
       " '__globals__',\n",
       " '__gt__',\n",
       " '__hash__',\n",
       " '__init__',\n",
       " '__init_subclass__',\n",
       " '__kwdefaults__',\n",
       " '__le__',\n",
       " '__lt__',\n",
       " '__module__',\n",
       " '__name__',\n",
       " '__ne__',\n",
       " '__new__',\n",
       " '__qualname__',\n",
       " '__reduce__',\n",
       " '__reduce_ex__',\n",
       " '__repr__',\n",
       " '__setattr__',\n",
       " '__sizeof__',\n",
       " '__str__',\n",
       " '__subclasshook__',\n",
       " 'category',\n",
       " 'sub_category']"
      ]
     },
     "execution_count": 7,
     "metadata": {},
     "output_type": "execute_result"
    }
   ],
   "source": [
    "dir(my_func)"
   ]
  },
  {
   "cell_type": "code",
   "execution_count": 8,
   "id": "4a710ff1",
   "metadata": {},
   "outputs": [],
   "source": [
    "import inspect"
   ]
  },
  {
   "cell_type": "markdown",
   "id": "ef6c0ff5",
   "metadata": {},
   "source": [
    "The difference between a `function` and a `method`: \n",
    "\n",
    "   Classes and objects have `attributes` - an object that is bound(to the class or the object)\n",
    "   An attribute that is `callable` is call a `method`.\n",
    "   \n",
    "   The `inspect` module has `ismethod(obj)`, `isfunction(obj)`, `isroutine(obj)`"
   ]
  },
  {
   "cell_type": "code",
   "execution_count": 18,
   "id": "05ede73e",
   "metadata": {},
   "outputs": [],
   "source": [
    "def MyClass():\n",
    "    def funct(self):\n",
    "        pass"
   ]
  },
  {
   "cell_type": "code",
   "execution_count": 19,
   "id": "fd45d59a",
   "metadata": {},
   "outputs": [],
   "source": [
    "my_obj = MyClass()"
   ]
  },
  {
   "cell_type": "code",
   "execution_count": 20,
   "id": "d2f836cc",
   "metadata": {},
   "outputs": [
    {
     "data": {
      "text/plain": [
       "False"
      ]
     },
     "execution_count": 20,
     "metadata": {},
     "output_type": "execute_result"
    }
   ],
   "source": [
    "inspect.isfunction(my_obj)"
   ]
  },
  {
   "cell_type": "code",
   "execution_count": 21,
   "id": "9b601095",
   "metadata": {},
   "outputs": [
    {
     "data": {
      "text/plain": [
       "True"
      ]
     },
     "execution_count": 21,
     "metadata": {},
     "output_type": "execute_result"
    }
   ],
   "source": [
    "inspect.isfunction(my_func)"
   ]
  },
  {
   "cell_type": "code",
   "execution_count": 23,
   "id": "afed8079",
   "metadata": {},
   "outputs": [
    {
     "data": {
      "text/plain": [
       "False"
      ]
     },
     "execution_count": 23,
     "metadata": {},
     "output_type": "execute_result"
    }
   ],
   "source": [
    "inspect.ismethod(my_obj)"
   ]
  },
  {
   "cell_type": "code",
   "execution_count": 24,
   "id": "3b8b5d90",
   "metadata": {},
   "outputs": [
    {
     "data": {
      "text/plain": [
       "'def my_func(a, b):\\n    pass\\n'"
      ]
     },
     "execution_count": 24,
     "metadata": {},
     "output_type": "execute_result"
    }
   ],
   "source": [
    "inspect.getsource(my_func)"
   ]
  },
  {
   "cell_type": "code",
   "execution_count": 25,
   "id": "b63501e5",
   "metadata": {},
   "outputs": [
    {
     "data": {
      "text/plain": [
       "<module '__main__'>"
      ]
     },
     "execution_count": 25,
     "metadata": {},
     "output_type": "execute_result"
    }
   ],
   "source": [
    "inspect.getmodule(my_func)"
   ]
  },
  {
   "cell_type": "code",
   "execution_count": 27,
   "id": "63916c28",
   "metadata": {},
   "outputs": [],
   "source": [
    "def my_func(\n",
    "    a: \"Mandatory\", \n",
    "    b: \"optional\"=8, \n",
    "    c=9, \n",
    "    *args, \n",
    "    kw1, \n",
    "    kw2=56,\n",
    "    kw3=233, \n",
    "    **kwargs: \"extra key-word argument\"\n",
    ") -> \"does nothing\":\n",
    "    '''\n",
    "    THIS FUNCTION RETURNS NOTHING\n",
    "    '''\n",
    "    i , j = 10, 20"
   ]
  },
  {
   "cell_type": "code",
   "execution_count": 28,
   "id": "cc079fc1",
   "metadata": {},
   "outputs": [
    {
     "data": {
      "text/plain": [
       "'\\n    THIS FUNCTION RETURNS NOTHING\\n    '"
      ]
     },
     "execution_count": 28,
     "metadata": {},
     "output_type": "execute_result"
    }
   ],
   "source": [
    "my_func.__doc__"
   ]
  },
  {
   "cell_type": "code",
   "execution_count": 29,
   "id": "93a30d74",
   "metadata": {},
   "outputs": [
    {
     "data": {
      "text/plain": [
       "{'a': 'Mandatory',\n",
       " 'b': 'optional',\n",
       " 'kwargs': 'extra key-word argument',\n",
       " 'return': 'does nothing'}"
      ]
     },
     "execution_count": 29,
     "metadata": {},
     "output_type": "execute_result"
    }
   ],
   "source": [
    "my_func.__annotations__"
   ]
  },
  {
   "cell_type": "code",
   "execution_count": 30,
   "id": "ae8e94f9",
   "metadata": {},
   "outputs": [],
   "source": [
    "my_func.description = \"This function is just for testing inspection\""
   ]
  },
  {
   "cell_type": "code",
   "execution_count": 31,
   "id": "c2340822",
   "metadata": {},
   "outputs": [
    {
     "data": {
      "text/plain": [
       "'This function is just for testing inspection'"
      ]
     },
     "execution_count": 31,
     "metadata": {},
     "output_type": "execute_result"
    }
   ],
   "source": [
    "my_func.description"
   ]
  },
  {
   "cell_type": "code",
   "execution_count": 32,
   "id": "14b23215",
   "metadata": {
    "scrolled": true
   },
   "outputs": [
    {
     "data": {
      "text/plain": [
       "['__annotations__',\n",
       " '__call__',\n",
       " '__class__',\n",
       " '__closure__',\n",
       " '__code__',\n",
       " '__defaults__',\n",
       " '__delattr__',\n",
       " '__dict__',\n",
       " '__dir__',\n",
       " '__doc__',\n",
       " '__eq__',\n",
       " '__format__',\n",
       " '__ge__',\n",
       " '__get__',\n",
       " '__getattribute__',\n",
       " '__globals__',\n",
       " '__gt__',\n",
       " '__hash__',\n",
       " '__init__',\n",
       " '__init_subclass__',\n",
       " '__kwdefaults__',\n",
       " '__le__',\n",
       " '__lt__',\n",
       " '__module__',\n",
       " '__name__',\n",
       " '__ne__',\n",
       " '__new__',\n",
       " '__qualname__',\n",
       " '__reduce__',\n",
       " '__reduce_ex__',\n",
       " '__repr__',\n",
       " '__setattr__',\n",
       " '__sizeof__',\n",
       " '__str__',\n",
       " '__subclasshook__',\n",
       " 'description']"
      ]
     },
     "execution_count": 32,
     "metadata": {},
     "output_type": "execute_result"
    }
   ],
   "source": [
    "dir(my_func)"
   ]
  },
  {
   "cell_type": "code",
   "execution_count": 33,
   "id": "d51a9ee2",
   "metadata": {},
   "outputs": [
    {
     "data": {
      "text/plain": [
       "'my_func'"
      ]
     },
     "execution_count": 33,
     "metadata": {},
     "output_type": "execute_result"
    }
   ],
   "source": [
    "my_func.__name__"
   ]
  },
  {
   "cell_type": "code",
   "execution_count": 36,
   "id": "520fc4ed",
   "metadata": {},
   "outputs": [],
   "source": [
    "def func_call(f):\n",
    "    print(f.__name__)\n",
    "    print(id(f))"
   ]
  },
  {
   "cell_type": "code",
   "execution_count": 37,
   "id": "631ac6e3",
   "metadata": {},
   "outputs": [
    {
     "name": "stdout",
     "output_type": "stream",
     "text": [
      "my_func\n",
      "2568866465680\n"
     ]
    }
   ],
   "source": [
    "func_call(my_func)"
   ]
  },
  {
   "cell_type": "code",
   "execution_count": 39,
   "id": "f34a7d4d",
   "metadata": {},
   "outputs": [
    {
     "data": {
      "text/plain": [
       "(8, 9)"
      ]
     },
     "execution_count": 39,
     "metadata": {},
     "output_type": "execute_result"
    }
   ],
   "source": [
    "my_func.__defaults__"
   ]
  },
  {
   "cell_type": "code",
   "execution_count": 40,
   "id": "7d66f7f7",
   "metadata": {},
   "outputs": [
    {
     "data": {
      "text/plain": [
       "{'kw2': 56, 'kw3': 233}"
      ]
     },
     "execution_count": 40,
     "metadata": {},
     "output_type": "execute_result"
    }
   ],
   "source": [
    "my_func.__kwdefaults__"
   ]
  },
  {
   "cell_type": "code",
   "execution_count": 41,
   "id": "7a2a6b5c",
   "metadata": {},
   "outputs": [
    {
     "data": {
      "text/plain": [
       "'my_func'"
      ]
     },
     "execution_count": 41,
     "metadata": {},
     "output_type": "execute_result"
    }
   ],
   "source": [
    "my_func.__code__.co_name"
   ]
  },
  {
   "cell_type": "code",
   "execution_count": 42,
   "id": "2b8cff13",
   "metadata": {},
   "outputs": [
    {
     "data": {
      "text/plain": [
       "('a', 'b', 'c', 'kw1', 'kw2', 'kw3', 'args', 'kwargs', 'i', 'j')"
      ]
     },
     "execution_count": 42,
     "metadata": {},
     "output_type": "execute_result"
    }
   ],
   "source": [
    "my_func.__code__.co_varnames"
   ]
  },
  {
   "cell_type": "markdown",
   "id": "b3d7d510",
   "metadata": {},
   "source": [
    "## Callables"
   ]
  },
  {
   "cell_type": "markdown",
   "id": "e6c47a87",
   "metadata": {},
   "source": [
    "It is any object that can be called using the () operator. It always return a value.\n",
    "\n",
    "different types of callables:\n",
    "\n",
    "    built-in functions\n",
    "    built-in methods\n",
    "    user-defined functions\n",
    "    methods\n",
    "    classes"
   ]
  },
  {
   "cell_type": "code",
   "execution_count": 44,
   "id": "dfa57ef2",
   "metadata": {},
   "outputs": [
    {
     "data": {
      "text/plain": [
       "True"
      ]
     },
     "execution_count": 44,
     "metadata": {},
     "output_type": "execute_result"
    }
   ],
   "source": [
    "callable(print)"
   ]
  },
  {
   "cell_type": "code",
   "execution_count": 45,
   "id": "7de0d70a",
   "metadata": {},
   "outputs": [
    {
     "data": {
      "text/plain": [
       "True"
      ]
     },
     "execution_count": 45,
     "metadata": {},
     "output_type": "execute_result"
    }
   ],
   "source": [
    "l = [1, 2, 3]\n",
    "callable(l.append)"
   ]
  },
  {
   "cell_type": "code",
   "execution_count": 46,
   "id": "121e59f9",
   "metadata": {},
   "outputs": [
    {
     "name": "stdout",
     "output_type": "stream",
     "text": [
      "[1, 2, 3, 4]\n"
     ]
    }
   ],
   "source": [
    "result = l.append(4)\n",
    "print(l)\n",
    "result"
   ]
  },
  {
   "cell_type": "code",
   "execution_count": 47,
   "id": "c99b268d",
   "metadata": {},
   "outputs": [
    {
     "name": "stdout",
     "output_type": "stream",
     "text": [
      "None\n"
     ]
    }
   ],
   "source": [
    "print(result)"
   ]
  },
  {
   "cell_type": "code",
   "execution_count": 48,
   "id": "c0a84831",
   "metadata": {},
   "outputs": [
    {
     "name": "stdout",
     "output_type": "stream",
     "text": [
      "ADN\n"
     ]
    }
   ],
   "source": [
    "s = 'adn'\n",
    "result = s.upper()\n",
    "print(result)"
   ]
  },
  {
   "cell_type": "code",
   "execution_count": 49,
   "id": "8b601084",
   "metadata": {},
   "outputs": [],
   "source": [
    "from decimal import Decimal"
   ]
  },
  {
   "cell_type": "code",
   "execution_count": 50,
   "id": "9ad01584",
   "metadata": {},
   "outputs": [
    {
     "data": {
      "text/plain": [
       "True"
      ]
     },
     "execution_count": 50,
     "metadata": {},
     "output_type": "execute_result"
    }
   ],
   "source": [
    "callable(Decimal)"
   ]
  },
  {
   "cell_type": "code",
   "execution_count": 51,
   "id": "56da786c",
   "metadata": {},
   "outputs": [],
   "source": [
    "a = Decimal(10.5)"
   ]
  },
  {
   "cell_type": "code",
   "execution_count": 52,
   "id": "e6766b4e",
   "metadata": {},
   "outputs": [
    {
     "data": {
      "text/plain": [
       "Decimal('10.5')"
      ]
     },
     "execution_count": 52,
     "metadata": {},
     "output_type": "execute_result"
    }
   ],
   "source": [
    "a"
   ]
  },
  {
   "cell_type": "code",
   "execution_count": 53,
   "id": "d885096a",
   "metadata": {},
   "outputs": [
    {
     "data": {
      "text/plain": [
       "decimal.Decimal"
      ]
     },
     "execution_count": 53,
     "metadata": {},
     "output_type": "execute_result"
    }
   ],
   "source": [
    "type(a)"
   ]
  },
  {
   "cell_type": "code",
   "execution_count": 54,
   "id": "8f530479",
   "metadata": {},
   "outputs": [
    {
     "data": {
      "text/plain": [
       "False"
      ]
     },
     "execution_count": 54,
     "metadata": {},
     "output_type": "execute_result"
    }
   ],
   "source": [
    "callable(a)"
   ]
  },
  {
   "cell_type": "code",
   "execution_count": 55,
   "id": "14791af5",
   "metadata": {},
   "outputs": [],
   "source": [
    "class MyClass:\n",
    "    def __init__(self, x=0):\n",
    "        print('initializing...')\n",
    "        self.counter = x"
   ]
  },
  {
   "cell_type": "code",
   "execution_count": 56,
   "id": "5c71eb4f",
   "metadata": {},
   "outputs": [
    {
     "data": {
      "text/plain": [
       "True"
      ]
     },
     "execution_count": 56,
     "metadata": {},
     "output_type": "execute_result"
    }
   ],
   "source": [
    "callable(MyClass)"
   ]
  },
  {
   "cell_type": "code",
   "execution_count": 57,
   "id": "2e3704df",
   "metadata": {},
   "outputs": [
    {
     "name": "stdout",
     "output_type": "stream",
     "text": [
      "initializing...\n"
     ]
    }
   ],
   "source": [
    "a = MyClass(100)"
   ]
  },
  {
   "cell_type": "code",
   "execution_count": 58,
   "id": "1fc2907b",
   "metadata": {},
   "outputs": [
    {
     "data": {
      "text/plain": [
       "100"
      ]
     },
     "execution_count": 58,
     "metadata": {},
     "output_type": "execute_result"
    }
   ],
   "source": [
    "a.counter"
   ]
  },
  {
   "cell_type": "code",
   "execution_count": 59,
   "id": "ada3b1e1",
   "metadata": {},
   "outputs": [
    {
     "data": {
      "text/plain": [
       "False"
      ]
     },
     "execution_count": 59,
     "metadata": {},
     "output_type": "execute_result"
    }
   ],
   "source": [
    "callable(a)"
   ]
  },
  {
   "cell_type": "code",
   "execution_count": 66,
   "id": "4444bce1",
   "metadata": {},
   "outputs": [],
   "source": [
    "class MyClass:\n",
    "    def __init__(self, x=0):\n",
    "        print('initializing...')\n",
    "        self.counter = x\n",
    "        \n",
    "    def __call__(self, x=1):\n",
    "        print('updating call')\n",
    "        self.counter += x"
   ]
  },
  {
   "cell_type": "code",
   "execution_count": 67,
   "id": "514f8aa0",
   "metadata": {},
   "outputs": [
    {
     "name": "stdout",
     "output_type": "stream",
     "text": [
      "initializing...\n"
     ]
    }
   ],
   "source": [
    "b = MyClass()"
   ]
  },
  {
   "cell_type": "code",
   "execution_count": 68,
   "id": "ba8b80fa",
   "metadata": {},
   "outputs": [
    {
     "name": "stdout",
     "output_type": "stream",
     "text": [
      "updating call\n"
     ]
    }
   ],
   "source": [
    "MyClass.__call__(b, 12)"
   ]
  },
  {
   "cell_type": "code",
   "execution_count": 69,
   "id": "f60d629e",
   "metadata": {},
   "outputs": [
    {
     "data": {
      "text/plain": [
       "12"
      ]
     },
     "execution_count": 69,
     "metadata": {},
     "output_type": "execute_result"
    }
   ],
   "source": [
    "b.counter"
   ]
  },
  {
   "cell_type": "code",
   "execution_count": 70,
   "id": "4c385db6",
   "metadata": {},
   "outputs": [
    {
     "data": {
      "text/plain": [
       "True"
      ]
     },
     "execution_count": 70,
     "metadata": {},
     "output_type": "execute_result"
    }
   ],
   "source": [
    "callable(b)"
   ]
  },
  {
   "cell_type": "code",
   "execution_count": 71,
   "id": "4e83179d",
   "metadata": {},
   "outputs": [
    {
     "name": "stdout",
     "output_type": "stream",
     "text": [
      "updating call\n"
     ]
    }
   ],
   "source": [
    "b()"
   ]
  },
  {
   "cell_type": "code",
   "execution_count": 72,
   "id": "9021cf24",
   "metadata": {},
   "outputs": [
    {
     "data": {
      "text/plain": [
       "13"
      ]
     },
     "execution_count": 72,
     "metadata": {},
     "output_type": "execute_result"
    }
   ],
   "source": [
    "b.counter"
   ]
  },
  {
   "cell_type": "code",
   "execution_count": null,
   "id": "63272061",
   "metadata": {},
   "outputs": [],
   "source": []
  }
 ],
 "metadata": {
  "kernelspec": {
   "display_name": "Python 3 (ipykernel)",
   "language": "python",
   "name": "python3"
  },
  "language_info": {
   "codemirror_mode": {
    "name": "ipython",
    "version": 3
   },
   "file_extension": ".py",
   "mimetype": "text/x-python",
   "name": "python",
   "nbconvert_exporter": "python",
   "pygments_lexer": "ipython3",
   "version": "3.9.7"
  }
 },
 "nbformat": 4,
 "nbformat_minor": 5
}
