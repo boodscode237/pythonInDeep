{
 "cells": [
  {
   "cell_type": "markdown",
   "id": "03b41826",
   "metadata": {},
   "source": [
    "# Interning"
   ]
  },
  {
   "cell_type": "markdown",
   "id": "0e1a9b5f",
   "metadata": {},
   "source": [
    "`Interning`: reusing objects on-demand\n",
    "At startup, Python pre-loads(caches) a global list of integers in the range [-5, 256].\n",
    "When an integer in that range is referenced python will use that cached version of the object.<br>\n",
    "`Singletons` - classes that can be instanciataed once.<hr>\n",
    "It is for optimization - small integers a used very often<br>"
   ]
  },
  {
   "cell_type": "markdown",
   "id": "f0411797",
   "metadata": {},
   "source": [
    "## Int intering"
   ]
  },
  {
   "cell_type": "code",
   "execution_count": 1,
   "id": "2fa058e7",
   "metadata": {},
   "outputs": [],
   "source": [
    "a = 10"
   ]
  },
  {
   "cell_type": "code",
   "execution_count": 2,
   "id": "832387e8",
   "metadata": {},
   "outputs": [],
   "source": [
    "b = 10"
   ]
  },
  {
   "cell_type": "code",
   "execution_count": 3,
   "id": "63f860ce",
   "metadata": {},
   "outputs": [],
   "source": [
    "def mem(x):\n",
    "    print(f\"id = {hex(id(x))}\\ntype = {type(x)}\")"
   ]
  },
  {
   "cell_type": "code",
   "execution_count": 4,
   "id": "2fc3778d",
   "metadata": {},
   "outputs": [
    {
     "name": "stdout",
     "output_type": "stream",
     "text": [
      "id = 0x2acc1e76a50\n",
      "type = <class 'int'>\n"
     ]
    }
   ],
   "source": [
    "mem(a)"
   ]
  },
  {
   "cell_type": "code",
   "execution_count": 5,
   "id": "e23f12f3",
   "metadata": {},
   "outputs": [
    {
     "name": "stdout",
     "output_type": "stream",
     "text": [
      "id = 0x2acc1e76a50\n",
      "type = <class 'int'>\n"
     ]
    }
   ],
   "source": [
    "mem(b)"
   ]
  },
  {
   "cell_type": "code",
   "execution_count": 6,
   "id": "0ffbcc74",
   "metadata": {},
   "outputs": [],
   "source": [
    "a = -5"
   ]
  },
  {
   "cell_type": "code",
   "execution_count": 7,
   "id": "5446aa32",
   "metadata": {},
   "outputs": [],
   "source": [
    "b = -5"
   ]
  },
  {
   "cell_type": "code",
   "execution_count": 8,
   "id": "af78988e",
   "metadata": {},
   "outputs": [
    {
     "name": "stdout",
     "output_type": "stream",
     "text": [
      "id = 0x2acc1e76870\n",
      "type = <class 'int'>\n"
     ]
    }
   ],
   "source": [
    "mem(a)"
   ]
  },
  {
   "cell_type": "code",
   "execution_count": 9,
   "id": "bd1066e8",
   "metadata": {},
   "outputs": [
    {
     "name": "stdout",
     "output_type": "stream",
     "text": [
      "id = 0x2acc1e76870\n",
      "type = <class 'int'>\n"
     ]
    }
   ],
   "source": [
    "mem(b)"
   ]
  },
  {
   "cell_type": "code",
   "execution_count": 10,
   "id": "dd47c9d2",
   "metadata": {},
   "outputs": [
    {
     "data": {
      "text/plain": [
       "True"
      ]
     },
     "execution_count": 10,
     "metadata": {},
     "output_type": "execute_result"
    }
   ],
   "source": [
    "a is b"
   ]
  },
  {
   "cell_type": "code",
   "execution_count": 11,
   "id": "31e17e17",
   "metadata": {},
   "outputs": [],
   "source": [
    "a = 256"
   ]
  },
  {
   "cell_type": "code",
   "execution_count": 12,
   "id": "718d37b7",
   "metadata": {},
   "outputs": [],
   "source": [
    "b = 256"
   ]
  },
  {
   "cell_type": "code",
   "execution_count": 13,
   "id": "db05ebbe",
   "metadata": {},
   "outputs": [
    {
     "data": {
      "text/plain": [
       "True"
      ]
     },
     "execution_count": 13,
     "metadata": {},
     "output_type": "execute_result"
    }
   ],
   "source": [
    "a is b"
   ]
  },
  {
   "cell_type": "code",
   "execution_count": 14,
   "id": "e8d694d6",
   "metadata": {},
   "outputs": [],
   "source": [
    "a = 257"
   ]
  },
  {
   "cell_type": "code",
   "execution_count": 15,
   "id": "f377d567",
   "metadata": {},
   "outputs": [],
   "source": [
    "b = 257"
   ]
  },
  {
   "cell_type": "code",
   "execution_count": 16,
   "id": "9c442724",
   "metadata": {},
   "outputs": [
    {
     "data": {
      "text/plain": [
       "False"
      ]
     },
     "execution_count": 16,
     "metadata": {},
     "output_type": "execute_result"
    }
   ],
   "source": [
    "a is b"
   ]
  },
  {
   "cell_type": "code",
   "execution_count": 17,
   "id": "1ba4224d",
   "metadata": {},
   "outputs": [],
   "source": [
    "a = 10"
   ]
  },
  {
   "cell_type": "code",
   "execution_count": 18,
   "id": "2b1481cc",
   "metadata": {},
   "outputs": [],
   "source": [
    "b = int(10)"
   ]
  },
  {
   "cell_type": "code",
   "execution_count": 19,
   "id": "d4644bd1",
   "metadata": {},
   "outputs": [],
   "source": [
    "c = int('10')"
   ]
  },
  {
   "cell_type": "code",
   "execution_count": 20,
   "id": "25ae06f1",
   "metadata": {},
   "outputs": [],
   "source": [
    "d = int('1010', 2)"
   ]
  },
  {
   "cell_type": "code",
   "execution_count": 21,
   "id": "9af1415f",
   "metadata": {},
   "outputs": [
    {
     "data": {
      "text/plain": [
       "True"
      ]
     },
     "execution_count": 21,
     "metadata": {},
     "output_type": "execute_result"
    }
   ],
   "source": [
    "d is a"
   ]
  },
  {
   "cell_type": "code",
   "execution_count": 22,
   "id": "bacb6868",
   "metadata": {},
   "outputs": [
    {
     "name": "stdout",
     "output_type": "stream",
     "text": [
      "id = 0x2acc1e76a50\n",
      "type = <class 'int'>\n"
     ]
    }
   ],
   "source": [
    "mem(a)"
   ]
  },
  {
   "cell_type": "code",
   "execution_count": 23,
   "id": "e9a93ea6",
   "metadata": {},
   "outputs": [
    {
     "name": "stdout",
     "output_type": "stream",
     "text": [
      "id = 0x2acc1e76a50\n",
      "type = <class 'int'>\n"
     ]
    }
   ],
   "source": [
    "mem(d)"
   ]
  },
  {
   "cell_type": "code",
   "execution_count": 24,
   "id": "5a80a979",
   "metadata": {},
   "outputs": [
    {
     "name": "stdout",
     "output_type": "stream",
     "text": [
      "id = 0x2acc1e76a50\n",
      "type = <class 'int'>\n"
     ]
    }
   ],
   "source": [
    "mem(c)"
   ]
  },
  {
   "cell_type": "code",
   "execution_count": 25,
   "id": "c805ed47",
   "metadata": {},
   "outputs": [
    {
     "name": "stdout",
     "output_type": "stream",
     "text": [
      "id = 0x2acc1e76a50\n",
      "type = <class 'int'>\n"
     ]
    }
   ],
   "source": [
    "mem(b)"
   ]
  },
  {
   "cell_type": "markdown",
   "id": "f7c4c3d4",
   "metadata": {},
   "source": [
    "## string intering"
   ]
  },
  {
   "cell_type": "markdown",
   "id": "a1a340f4",
   "metadata": {},
   "source": [
    "Some strings are also interned by python - but not all.<br>\n",
    "`identifiers` are interned\n",
    "- variable names\n",
    "- function names\n",
    "- class names ...\n",
    "`Identifiers` must start with an `_` or `[aA-zZ]` and can contains just `[_ - aA-zA- 0 - 9]` <hr>\n",
    "\n",
    "* strings that look like identifiers get interned\n",
    "* although it starts with a digit it may still get interned <br>\n",
    "But not always"
   ]
  },
  {
   "cell_type": "markdown",
   "id": "ced46d0b",
   "metadata": {},
   "source": [
    "## Why ?\n",
    "For optimization\n",
    "Not all strings are interned by python, but we can `force` strings to be interned by using the sys.intern() method.\n",
    "```\n",
    "import sys\n",
    "\n",
    "a = sys.intern('Salut le Monde')\n",
    "b = sys.intern('Salut le Monde')\n",
    "\n",
    "a is b ==> True\n",
    "```\n",
    "DO NOT DO IT unless:\n",
    "* We wnat to tokenize a large number of strings that could have high repetition\n",
    "* When a a string in a text repeats regulary in a text(NLP)\n",
    "* lots of string comparisons"
   ]
  },
  {
   "cell_type": "code",
   "execution_count": 26,
   "id": "d3a57b51",
   "metadata": {},
   "outputs": [],
   "source": [
    "a = 'hello'"
   ]
  },
  {
   "cell_type": "code",
   "execution_count": 27,
   "id": "bbf0f2dd",
   "metadata": {},
   "outputs": [],
   "source": [
    "b = 'hello'"
   ]
  },
  {
   "cell_type": "code",
   "execution_count": 28,
   "id": "1c9c2c58",
   "metadata": {},
   "outputs": [
    {
     "name": "stdout",
     "output_type": "stream",
     "text": [
      "id = 0x2acc6927070\n",
      "type = <class 'str'>\n"
     ]
    }
   ],
   "source": [
    "mem(a)"
   ]
  },
  {
   "cell_type": "code",
   "execution_count": 29,
   "id": "121a607c",
   "metadata": {},
   "outputs": [
    {
     "name": "stdout",
     "output_type": "stream",
     "text": [
      "id = 0x2acc6927070\n",
      "type = <class 'str'>\n"
     ]
    }
   ],
   "source": [
    "mem(b)"
   ]
  },
  {
   "cell_type": "code",
   "execution_count": 30,
   "id": "3ab86532",
   "metadata": {},
   "outputs": [],
   "source": [
    "a = 'hello world'"
   ]
  },
  {
   "cell_type": "code",
   "execution_count": 31,
   "id": "cc16dd5d",
   "metadata": {},
   "outputs": [],
   "source": [
    "b = 'hello world'"
   ]
  },
  {
   "cell_type": "code",
   "execution_count": 32,
   "id": "41ee9116",
   "metadata": {},
   "outputs": [
    {
     "name": "stdout",
     "output_type": "stream",
     "text": [
      "id = 0x2acc6d2f630\n",
      "type = <class 'str'>\n"
     ]
    }
   ],
   "source": [
    "mem(a)"
   ]
  },
  {
   "cell_type": "code",
   "execution_count": 33,
   "id": "31e0e43b",
   "metadata": {},
   "outputs": [
    {
     "name": "stdout",
     "output_type": "stream",
     "text": [
      "id = 0x2acc6d2f230\n",
      "type = <class 'str'>\n"
     ]
    }
   ],
   "source": [
    "mem(b)"
   ]
  },
  {
   "cell_type": "code",
   "execution_count": 34,
   "id": "77748479",
   "metadata": {},
   "outputs": [
    {
     "data": {
      "text/plain": [
       "False"
      ]
     },
     "execution_count": 34,
     "metadata": {},
     "output_type": "execute_result"
    }
   ],
   "source": [
    "a is b"
   ]
  },
  {
   "cell_type": "code",
   "execution_count": 35,
   "id": "033c5b05",
   "metadata": {},
   "outputs": [
    {
     "data": {
      "text/plain": [
       "True"
      ]
     },
     "execution_count": 35,
     "metadata": {},
     "output_type": "execute_result"
    }
   ],
   "source": [
    "a == b"
   ]
  },
  {
   "cell_type": "code",
   "execution_count": 36,
   "id": "1e0422ab",
   "metadata": {},
   "outputs": [],
   "source": [
    "a = '_ce_text_est_tres_long'"
   ]
  },
  {
   "cell_type": "code",
   "execution_count": 37,
   "id": "316a9955",
   "metadata": {},
   "outputs": [],
   "source": [
    "b = '_ce_text_est_tres_long'"
   ]
  },
  {
   "cell_type": "code",
   "execution_count": 38,
   "id": "28c1b07c",
   "metadata": {},
   "outputs": [
    {
     "data": {
      "text/plain": [
       "True"
      ]
     },
     "execution_count": 38,
     "metadata": {},
     "output_type": "execute_result"
    }
   ],
   "source": [
    "a is b"
   ]
  },
  {
   "cell_type": "code",
   "execution_count": 39,
   "id": "6e85ff54",
   "metadata": {},
   "outputs": [],
   "source": [
    "import sys"
   ]
  },
  {
   "cell_type": "code",
   "execution_count": 40,
   "id": "7db7472f",
   "metadata": {},
   "outputs": [],
   "source": [
    "a = sys.intern('salut le monde d\\'amateurs')"
   ]
  },
  {
   "cell_type": "code",
   "execution_count": 41,
   "id": "51867fd2",
   "metadata": {},
   "outputs": [],
   "source": [
    "b = sys.intern('salut le monde d\\'amateurs')"
   ]
  },
  {
   "cell_type": "code",
   "execution_count": 42,
   "id": "613fe45a",
   "metadata": {},
   "outputs": [],
   "source": [
    "c = 'salut le monde d\\'amateurs'"
   ]
  },
  {
   "cell_type": "code",
   "execution_count": 43,
   "id": "7ef33b53",
   "metadata": {},
   "outputs": [
    {
     "name": "stdout",
     "output_type": "stream",
     "text": [
      "id = 0x2acc6d576c0\n",
      "type = <class 'str'>\n"
     ]
    }
   ],
   "source": [
    "mem(a)"
   ]
  },
  {
   "cell_type": "code",
   "execution_count": 44,
   "id": "f073bcd0",
   "metadata": {},
   "outputs": [
    {
     "name": "stdout",
     "output_type": "stream",
     "text": [
      "id = 0x2acc6d576c0\n",
      "type = <class 'str'>\n"
     ]
    }
   ],
   "source": [
    "mem(b)"
   ]
  },
  {
   "cell_type": "code",
   "execution_count": 45,
   "id": "68d50c57",
   "metadata": {},
   "outputs": [
    {
     "name": "stdout",
     "output_type": "stream",
     "text": [
      "id = 0x2acc6c6f5d0\n",
      "type = <class 'str'>\n"
     ]
    }
   ],
   "source": [
    "mem(c)"
   ]
  },
  {
   "cell_type": "code",
   "execution_count": 46,
   "id": "a07d735d",
   "metadata": {},
   "outputs": [
    {
     "data": {
      "text/plain": [
       "True"
      ]
     },
     "execution_count": 46,
     "metadata": {},
     "output_type": "execute_result"
    }
   ],
   "source": [
    "a is b"
   ]
  },
  {
   "cell_type": "code",
   "execution_count": 47,
   "id": "063379ba",
   "metadata": {},
   "outputs": [
    {
     "data": {
      "text/plain": [
       "True"
      ]
     },
     "execution_count": 47,
     "metadata": {},
     "output_type": "execute_result"
    }
   ],
   "source": [
    "a == b"
   ]
  },
  {
   "cell_type": "code",
   "execution_count": 48,
   "id": "bddc855f",
   "metadata": {},
   "outputs": [],
   "source": [
    "def compare_using_equals(n):\n",
    "    a = 'une longue phrase qui n\\'est pas interned' * 201\n",
    "    b = 'une longue phrase qui n\\'est pas interned' * 201\n",
    "    for i in range(n):\n",
    "        if a == b:\n",
    "            pass"
   ]
  },
  {
   "cell_type": "code",
   "execution_count": 49,
   "id": "23642fc0",
   "metadata": {},
   "outputs": [],
   "source": [
    "def compare_using_interning(n):\n",
    "    a = sys.intern('une longue phrase qui n\\'est pas interned' * 201)\n",
    "    b = sys.intern('une longue phrase qui n\\'est pas interned' * 201)\n",
    "    for i in range(n):\n",
    "        if a is b:\n",
    "            pass"
   ]
  },
  {
   "cell_type": "code",
   "execution_count": 50,
   "id": "c35d90e0",
   "metadata": {},
   "outputs": [],
   "source": [
    "import time"
   ]
  },
  {
   "cell_type": "code",
   "execution_count": 54,
   "id": "ccb4c547",
   "metadata": {},
   "outputs": [
    {
     "name": "stdout",
     "output_type": "stream",
     "text": [
      "performance: 3.0773337999999058\n"
     ]
    }
   ],
   "source": [
    "start = time.perf_counter()\n",
    "compare_using_equals(10000000)\n",
    "end = time.perf_counter()\n",
    "\n",
    "print(f'performance: {end-start}')"
   ]
  },
  {
   "cell_type": "code",
   "execution_count": 55,
   "id": "80266bcb",
   "metadata": {},
   "outputs": [
    {
     "name": "stdout",
     "output_type": "stream",
     "text": [
      "performance: 0.25403300000107265\n"
     ]
    }
   ],
   "source": [
    "start = time.perf_counter()\n",
    "compare_using_interning(10000000)\n",
    "end = time.perf_counter()\n",
    "\n",
    "print(f'performance: {end-start}')"
   ]
  },
  {
   "cell_type": "code",
   "execution_count": null,
   "id": "e80ed96e",
   "metadata": {},
   "outputs": [],
   "source": []
  }
 ],
 "metadata": {
  "kernelspec": {
   "display_name": "Python 3 (ipykernel)",
   "language": "python",
   "name": "python3"
  },
  "language_info": {
   "codemirror_mode": {
    "name": "ipython",
    "version": 3
   },
   "file_extension": ".py",
   "mimetype": "text/x-python",
   "name": "python",
   "nbconvert_exporter": "python",
   "pygments_lexer": "ipython3",
   "version": "3.9.7"
  }
 },
 "nbformat": 4,
 "nbformat_minor": 5
}
