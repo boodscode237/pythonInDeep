{
 "cells": [
  {
   "cell_type": "markdown",
   "id": "aa284e06",
   "metadata": {},
   "source": [
    "# Functions arguments and mutability"
   ]
  },
  {
   "cell_type": "markdown",
   "id": "b681ea6b",
   "metadata": {},
   "source": [
    "Strings are immutables objects\n",
    "<hr>\n",
    "When a string is created the only way to change it is to re-assign it to another object\n",
    "`my_var = hello`\n",
    "`my_var = 10000`\n",
    "<hr>\n",
    "\n",
    "- Immutable objects are safe from unentended side-effects\n"
   ]
  },
  {
   "cell_type": "code",
   "execution_count": 28,
   "id": "4bb58224",
   "metadata": {},
   "outputs": [],
   "source": [
    "def process(s):\n",
    "    print(f\"The initial s memory address is = {id(s)}\")\n",
    "    s = s + ' monde'\n",
    "    print(f\"The final s memory address is = {id(s)}\")\n",
    "    return s"
   ]
  },
  {
   "cell_type": "code",
   "execution_count": 29,
   "id": "5bca666e",
   "metadata": {},
   "outputs": [
    {
     "name": "stdout",
     "output_type": "stream",
     "text": [
      "my_var memory address is = 2020271478128\n"
     ]
    }
   ],
   "source": [
    "my_var = 'Salut'\n",
    "print(f\"my_var memory address is = {id(my_var)}\")"
   ]
  },
  {
   "cell_type": "markdown",
   "id": "d5b43e7e",
   "metadata": {},
   "source": [
    "module scope ==> my_var\n",
    "<hr>\n",
    "if we use my_var as an argument in the function process, we will pass just the refreference into process.\n",
    "<br>\n",
    "The process scope passes stores that reference in the variable s. s stores the reference of my_var.\n",
    "<br>\n",
    "Whe we do that, we don't modify the object referenced by my_var and a new object `Bonjour monde` is created in the memory that will be referenced by s."
   ]
  },
  {
   "cell_type": "code",
   "execution_count": 30,
   "id": "88d22ff6",
   "metadata": {},
   "outputs": [
    {
     "name": "stdout",
     "output_type": "stream",
     "text": [
      "The initial s memory address is = 2020271478128\n",
      "The final s memory address is = 2020271377584\n"
     ]
    },
    {
     "data": {
      "text/plain": [
       "'Salut monde'"
      ]
     },
     "execution_count": 30,
     "metadata": {},
     "output_type": "execute_result"
    }
   ],
   "source": [
    "process(my_var)"
   ]
  },
  {
   "cell_type": "code",
   "execution_count": 31,
   "id": "b944e532",
   "metadata": {},
   "outputs": [
    {
     "data": {
      "text/plain": [
       "2020271478128"
      ]
     },
     "execution_count": 31,
     "metadata": {},
     "output_type": "execute_result"
    }
   ],
   "source": [
    "id(my_var)"
   ]
  },
  {
   "cell_type": "markdown",
   "id": "a47960e6",
   "metadata": {},
   "source": [
    "- Mutable objects are safe from unentended side-effects\n"
   ]
  },
  {
   "cell_type": "code",
   "execution_count": 33,
   "id": "e1ccc7d2",
   "metadata": {},
   "outputs": [],
   "source": [
    "def process_list(lst): # process scope\n",
    "    print(f\"The initial lst memory address is = {id(lst)}\")\n",
    "    lst.append(100)\n",
    "    print(f\"The final lst memory address is = {id(lst)}\")\n",
    "    \n",
    "my_list = [1, 2, 3] # module scope"
   ]
  },
  {
   "cell_type": "code",
   "execution_count": 34,
   "id": "383ab212",
   "metadata": {},
   "outputs": [
    {
     "data": {
      "text/plain": [
       "2020271744896"
      ]
     },
     "execution_count": 34,
     "metadata": {},
     "output_type": "execute_result"
    }
   ],
   "source": [
    "id(my_list)"
   ]
  },
  {
   "cell_type": "code",
   "execution_count": 35,
   "id": "0419f72d",
   "metadata": {},
   "outputs": [
    {
     "name": "stdout",
     "output_type": "stream",
     "text": [
      "The initial lst memory address is = 2020271744896\n",
      "The final lst memory address is = 2020271744896\n"
     ]
    }
   ],
   "source": [
    "process_list(my_list) # the reference of my_list is passed to the process scope"
   ]
  },
  {
   "cell_type": "code",
   "execution_count": 36,
   "id": "f4c9950b",
   "metadata": {},
   "outputs": [
    {
     "data": {
      "text/plain": [
       "2020271744896"
      ]
     },
     "execution_count": 36,
     "metadata": {},
     "output_type": "execute_result"
    }
   ],
   "source": [
    "id(my_list)"
   ]
  },
  {
   "cell_type": "markdown",
   "id": "f96e4e0e",
   "metadata": {},
   "source": [
    "the local variable in process: ```lst``` points to my_list\n",
    "<br>\n",
    "When we run process(lst) we append 100, and the content of the  list has change but the memory address hasn't change.<br> And if we print my_list, it will print [1, 2, 3, 100]: That is a side effect"
   ]
  },
  {
   "cell_type": "code",
   "execution_count": 37,
   "id": "49c58e1b",
   "metadata": {},
   "outputs": [
    {
     "data": {
      "text/plain": [
       "[1, 2, 3, 100]"
      ]
     },
     "execution_count": 37,
     "metadata": {},
     "output_type": "execute_result"
    }
   ],
   "source": [
    "my_list"
   ]
  },
  {
   "cell_type": "code",
   "execution_count": 39,
   "id": "f0c36791",
   "metadata": {},
   "outputs": [
    {
     "name": "stdout",
     "output_type": "stream",
     "text": [
      "The initial t memory address is = 2020299912256\n",
      "The final t memory address is = 2020299912256\n"
     ]
    },
    {
     "data": {
      "text/plain": [
       "2020299912256"
      ]
     },
     "execution_count": 39,
     "metadata": {},
     "output_type": "execute_result"
    }
   ],
   "source": [
    "# SAME analyse as previous example\n",
    "def process_tuple(t):\n",
    "    print(f\"The initial t memory address is = {id(t)}\")\n",
    "    t[0].append(3)\n",
    "    print(f\"The final t memory address is = {id(t)}\")\n",
    "    \n",
    "my_tuple = ([1, 2], 'a')\n",
    "process_tuple((my_tuple))\n",
    "id(my_tuple)"
   ]
  },
  {
   "cell_type": "code",
   "execution_count": 41,
   "id": "bae215bb",
   "metadata": {},
   "outputs": [
    {
     "name": "stdout",
     "output_type": "stream",
     "text": [
      "The initial t memory address is = 2020299912256\n",
      "The final t memory address is = 2020299912256\n"
     ]
    }
   ],
   "source": [
    "process_tuple(my_tuple)"
   ]
  },
  {
   "cell_type": "code",
   "execution_count": 42,
   "id": "3e62b297",
   "metadata": {},
   "outputs": [
    {
     "data": {
      "text/plain": [
       "2020299912256"
      ]
     },
     "execution_count": 42,
     "metadata": {},
     "output_type": "execute_result"
    }
   ],
   "source": [
    "id(my_tuple)"
   ]
  },
  {
   "cell_type": "code",
   "execution_count": 43,
   "id": "97f09ed0",
   "metadata": {},
   "outputs": [
    {
     "data": {
      "text/plain": [
       "([1, 2, 3, 3], 'a')"
      ]
     },
     "execution_count": 43,
     "metadata": {},
     "output_type": "execute_result"
    }
   ],
   "source": [
    "my_tuple"
   ]
  },
  {
   "cell_type": "code",
   "execution_count": 44,
   "id": "bd27f426",
   "metadata": {},
   "outputs": [
    {
     "data": {
      "text/plain": [
       "2020299912256"
      ]
     },
     "execution_count": 44,
     "metadata": {},
     "output_type": "execute_result"
    }
   ],
   "source": [
    "id(my_tuple)"
   ]
  },
  {
   "cell_type": "code",
   "execution_count": null,
   "id": "da2d5cd4",
   "metadata": {},
   "outputs": [],
   "source": []
  }
 ],
 "metadata": {
  "kernelspec": {
   "display_name": "Python 3 (ipykernel)",
   "language": "python",
   "name": "python3"
  },
  "language_info": {
   "codemirror_mode": {
    "name": "ipython",
    "version": 3
   },
   "file_extension": ".py",
   "mimetype": "text/x-python",
   "name": "python",
   "nbconvert_exporter": "python",
   "pygments_lexer": "ipython3",
   "version": "3.9.7"
  }
 },
 "nbformat": 4,
 "nbformat_minor": 5
}
