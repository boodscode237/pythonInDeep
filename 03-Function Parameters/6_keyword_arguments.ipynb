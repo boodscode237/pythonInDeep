{
 "cells": [
  {
   "cell_type": "markdown",
   "source": [
    "## KEYWORD ARGUMENTS"
   ],
   "metadata": {
    "collapsed": false
   }
  },
  {
   "cell_type": "markdown",
   "source": [
    "We can specify our arguments by naming them. such as `func(a=1, b=2, c=3)`</br>\n",
    "Sometimes we can make keyword arguments `mandatory`. </br>\n",
    "For that we create parameters after the positional parameters have been ``exhausted``</br>\n",
    "`e.g`\n",
    "```\n",
    "def func(a, b, *args, d):\n",
    "#code\n",
    "```\n",
    "In this case `*args` exhausted all the remaining positional arguments an `d` is passed as a keyword argument.</br>\n",
    "```func(1, 2, 'a', 'b', 'c', d=100)```</br> # will work\n",
    "```func(1, 2, d=100)```</br> # will work\n",
    "```func(1, 2, d=100)```</br> # error"
   ],
   "metadata": {
    "collapsed": false
   }
  },
  {
   "cell_type": "markdown",
   "source": [
    "In this example:\n",
    "```\n",
    "def func(a, b, *, d, e=True): # `*` means no additional positional arguments is allowed\n",
    "    `#code`\n",
    "```\n",
    "--> a = mandatory positional argument\n",
    "--> b = optional positional argument\n",
    "--> * = no additional positional arguments allowed\n",
    "--> d = mandatory keyword argument\n",
    "--> e = optional keyword argument defaults to True"
   ],
   "metadata": {
    "collapsed": false
   }
  },
  {
   "cell_type": "markdown",
   "source": [
    "In this example:\n",
    "```\n",
    "def func(a, b, *args, d, e=True): # `*` means no additional positional arguments is allowed\n",
    "    `#code`\n",
    "```\n",
    "--> a = mandatory positional argument\n",
    "--> b = optional positional argument\n",
    "--> args = catch up any additional positional arguments\n",
    "--> d = mandatory keyword argument\n",
    "--> e = optional keyword argument defaults to True"
   ],
   "metadata": {
    "collapsed": false
   }
  },
  {
   "cell_type": "markdown",
   "source": [
    "## Practice"
   ],
   "metadata": {
    "collapsed": false
   }
  },
  {
   "cell_type": "code",
   "execution_count": 1,
   "outputs": [],
   "source": [
    "def func(a, b, c):\n",
    "    print(a,b,c)"
   ],
   "metadata": {
    "collapsed": false,
    "ExecuteTime": {
     "start_time": "2023-04-06T08:59:23.406603Z",
     "end_time": "2023-04-06T08:59:23.410601Z"
    }
   }
  },
  {
   "cell_type": "code",
   "execution_count": 2,
   "outputs": [
    {
     "name": "stdout",
     "output_type": "stream",
     "text": [
      "1 2 3\n"
     ]
    }
   ],
   "source": [
    "func(1,2,3)"
   ],
   "metadata": {
    "collapsed": false,
    "ExecuteTime": {
     "start_time": "2023-04-06T08:59:34.223009Z",
     "end_time": "2023-04-06T08:59:34.335066Z"
    }
   }
  },
  {
   "cell_type": "code",
   "execution_count": 3,
   "outputs": [
    {
     "name": "stdout",
     "output_type": "stream",
     "text": [
      "1 15 3\n"
     ]
    }
   ],
   "source": [
    "func(1,c=3,b=15)"
   ],
   "metadata": {
    "collapsed": false,
    "ExecuteTime": {
     "start_time": "2023-04-06T08:59:56.257620Z",
     "end_time": "2023-04-06T08:59:56.322133Z"
    }
   }
  },
  {
   "cell_type": "code",
   "execution_count": 4,
   "outputs": [],
   "source": [
    "def func(a, b, *args, d):\n",
    "    print(a,b, args, d)"
   ],
   "metadata": {
    "collapsed": false,
    "ExecuteTime": {
     "start_time": "2023-04-06T09:02:14.337106Z",
     "end_time": "2023-04-06T09:02:14.370137Z"
    }
   }
  },
  {
   "cell_type": "code",
   "execution_count": 5,
   "outputs": [
    {
     "name": "stdout",
     "output_type": "stream",
     "text": [
      "1 2 (3, 4) 5\n"
     ]
    }
   ],
   "source": [
    "func(1, 2, 3, 4, d=5)"
   ],
   "metadata": {
    "collapsed": false,
    "ExecuteTime": {
     "start_time": "2023-04-06T09:02:31.786046Z",
     "end_time": "2023-04-06T09:02:31.821056Z"
    }
   }
  },
  {
   "cell_type": "code",
   "execution_count": 7,
   "outputs": [],
   "source": [
    "def func1(*args, d):\n",
    "    print(args, d)"
   ],
   "metadata": {
    "collapsed": false,
    "ExecuteTime": {
     "start_time": "2023-04-06T09:04:10.241816Z",
     "end_time": "2023-04-06T09:04:10.267816Z"
    }
   }
  },
  {
   "cell_type": "code",
   "execution_count": 8,
   "outputs": [
    {
     "name": "stdout",
     "output_type": "stream",
     "text": [
      "(1, 2, 3, 4) 98\n"
     ]
    }
   ],
   "source": [
    "func1(1, 2, 3, 4, d=98)"
   ],
   "metadata": {
    "collapsed": false,
    "ExecuteTime": {
     "start_time": "2023-04-06T09:04:24.243024Z",
     "end_time": "2023-04-06T09:04:24.267149Z"
    }
   }
  },
  {
   "cell_type": "code",
   "execution_count": 9,
   "outputs": [],
   "source": [
    "def func(*, d):\n",
    "    print(d)"
   ],
   "metadata": {
    "collapsed": false,
    "ExecuteTime": {
     "start_time": "2023-04-06T09:09:17.274484Z",
     "end_time": "2023-04-06T09:09:17.368553Z"
    }
   }
  },
  {
   "cell_type": "code",
   "execution_count": 11,
   "outputs": [
    {
     "name": "stdout",
     "output_type": "stream",
     "text": [
      "3\n"
     ]
    }
   ],
   "source": [
    "func(d=3)"
   ],
   "metadata": {
    "collapsed": false,
    "ExecuteTime": {
     "start_time": "2023-04-06T09:09:59.619060Z",
     "end_time": "2023-04-06T09:09:59.663056Z"
    }
   }
  },
  {
   "cell_type": "code",
   "execution_count": 12,
   "outputs": [],
   "source": [
    "def func(a, b, *, d):\n",
    "    print(a, b, d)"
   ],
   "metadata": {
    "collapsed": false,
    "ExecuteTime": {
     "start_time": "2023-04-06T09:10:36.103479Z",
     "end_time": "2023-04-06T09:10:36.138038Z"
    }
   }
  },
  {
   "cell_type": "code",
   "execution_count": 13,
   "outputs": [
    {
     "ename": "TypeError",
     "evalue": "func() takes 2 positional arguments but 3 were given",
     "output_type": "error",
     "traceback": [
      "\u001B[1;31m---------------------------------------------------------------------------\u001B[0m",
      "\u001B[1;31mTypeError\u001B[0m                                 Traceback (most recent call last)",
      "Input \u001B[1;32mIn [13]\u001B[0m, in \u001B[0;36m<cell line: 1>\u001B[1;34m()\u001B[0m\n\u001B[1;32m----> 1\u001B[0m \u001B[43mfunc\u001B[49m\u001B[43m(\u001B[49m\u001B[38;5;241;43m1\u001B[39;49m\u001B[43m,\u001B[49m\u001B[43m \u001B[49m\u001B[38;5;241;43m3\u001B[39;49m\u001B[43m,\u001B[49m\u001B[43m \u001B[49m\u001B[38;5;241;43m4\u001B[39;49m\u001B[43m)\u001B[49m\n",
      "\u001B[1;31mTypeError\u001B[0m: func() takes 2 positional arguments but 3 were given"
     ]
    }
   ],
   "source": [
    "func(1, 3, 4)"
   ],
   "metadata": {
    "collapsed": false
   }
  },
  {
   "cell_type": "code",
   "execution_count": 14,
   "outputs": [
    {
     "name": "stdout",
     "output_type": "stream",
     "text": [
      "1 5 85\n"
     ]
    }
   ],
   "source": [
    "func(1, 5, d=85)"
   ],
   "metadata": {
    "collapsed": false,
    "ExecuteTime": {
     "start_time": "2023-04-06T09:11:10.313546Z",
     "end_time": "2023-04-06T09:11:10.352884Z"
    }
   }
  },
  {
   "cell_type": "code",
   "execution_count": 17,
   "outputs": [],
   "source": [
    "def func(a, b=2, *args, d):\n",
    "    print(a, b, args, d)"
   ],
   "metadata": {
    "collapsed": false,
    "ExecuteTime": {
     "start_time": "2023-04-06T09:22:40.612655Z",
     "end_time": "2023-04-06T09:22:40.621656Z"
    }
   }
  },
  {
   "cell_type": "code",
   "execution_count": 18,
   "outputs": [
    {
     "name": "stdout",
     "output_type": "stream",
     "text": [
      "1 5 (3, 4, 5, 8) 857a\n"
     ]
    }
   ],
   "source": [
    "func(1, 5, 3, 4, 5, 8, d=\"857a\")"
   ],
   "metadata": {
    "collapsed": false,
    "ExecuteTime": {
     "start_time": "2023-04-06T09:22:41.224190Z",
     "end_time": "2023-04-06T09:22:41.239199Z"
    }
   }
  },
  {
   "cell_type": "code",
   "execution_count": 21,
   "outputs": [],
   "source": [
    "def func(a, b=2, *args, d=8, e):\n",
    "    print(a, b, args, d, e)"
   ],
   "metadata": {
    "collapsed": false,
    "ExecuteTime": {
     "start_time": "2023-04-06T09:23:41.075696Z",
     "end_time": "2023-04-06T09:23:41.088702Z"
    }
   }
  },
  {
   "cell_type": "code",
   "execution_count": 22,
   "outputs": [
    {
     "name": "stdout",
     "output_type": "stream",
     "text": [
      "1 5 (5, 8) 8 5\n"
     ]
    }
   ],
   "source": [
    "func(1, 5, 5, 8, e=5)"
   ],
   "metadata": {
    "collapsed": false,
    "ExecuteTime": {
     "start_time": "2023-04-06T09:23:45.051931Z",
     "end_time": "2023-04-06T09:23:45.063966Z"
    }
   }
  },
  {
   "cell_type": "code",
   "execution_count": 23,
   "outputs": [
    {
     "name": "stdout",
     "output_type": "stream",
     "text": [
      "0 600 () hello World\n"
     ]
    }
   ],
   "source": [
    "func(0, 600, d=\"hello\", e=\"World\")"
   ],
   "metadata": {
    "collapsed": false,
    "ExecuteTime": {
     "start_time": "2023-04-06T09:25:02.398866Z",
     "end_time": "2023-04-06T09:25:02.476224Z"
    }
   }
  },
  {
   "cell_type": "code",
   "execution_count": null,
   "outputs": [],
   "source": [],
   "metadata": {
    "collapsed": false
   }
  }
 ],
 "metadata": {
  "kernelspec": {
   "display_name": "Python 3",
   "language": "python",
   "name": "python3"
  },
  "language_info": {
   "codemirror_mode": {
    "name": "ipython",
    "version": 2
   },
   "file_extension": ".py",
   "mimetype": "text/x-python",
   "name": "python",
   "nbconvert_exporter": "python",
   "pygments_lexer": "ipython2",
   "version": "2.7.6"
  }
 },
 "nbformat": 4,
 "nbformat_minor": 0
}
